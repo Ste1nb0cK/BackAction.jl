{
 "cells": [
  {
   "cell_type": "code",
   "execution_count": 1,
   "id": "64e34ac6-eb9e-4e77-b918-353efda4ca17",
   "metadata": {},
   "outputs": [
    {
     "name": "stderr",
     "output_type": "stream",
     "text": [
      "\u001b[32m\u001b[1m  Activating\u001b[22m\u001b[39m project at `~/Documents/Research/MonitoringMetrology/BackAction.jl/notebooks`\n",
      "\u001b[32m\u001b[1m  No Changes\u001b[22m\u001b[39m to `~/Documents/Research/MonitoringMetrology/BackAction.jl/notebooks/Project.toml`\n",
      "\u001b[32m\u001b[1m  No Changes\u001b[22m\u001b[39m to `~/Documents/Research/MonitoringMetrology/BackAction.jl/notebooks/Manifest.toml`\n"
     ]
    }
   ],
   "source": [
    "############# MAINLY FOR COLAB\n",
    "import Pkg\n",
    "Pkg.activate(\"./\")\n",
    "Pkg.resolve()"
   ]
  },
  {
   "cell_type": "code",
   "execution_count": 2,
   "id": "91e10c92-edc7-4f96-85e4-4c1fdebbbe34",
   "metadata": {},
   "outputs": [],
   "source": [
    "using Plots, LinearAlgebra, BackAction"
   ]
  },
  {
   "cell_type": "code",
   "execution_count": 3,
   "id": "aee0c334-36ef-46db-af07-3c1ff950d54a",
   "metadata": {},
   "outputs": [],
   "source": [
    "using Distributed\n",
    "addprocs(2)\n",
    "@everywhere using BackAction"
   ]
  },
  {
   "cell_type": "code",
   "execution_count": 4,
   "id": "f45334c4-f983-45ed-9d9d-bd32b29bc574",
   "metadata": {},
   "outputs": [],
   "source": [
    "using Statistics"
   ]
  },
  {
   "cell_type": "code",
   "execution_count": 5,
   "id": "1d8a0b69-7859-4bde-a590-1bd80af642c2",
   "metadata": {},
   "outputs": [],
   "source": [
    "using LaTeXStrings"
   ]
  },
  {
   "cell_type": "code",
   "execution_count": 6,
   "id": "9512b0ef-1e18-460a-b972-85c5ccdffe1a",
   "metadata": {},
   "outputs": [],
   "source": [
    "using Test"
   ]
  },
  {
   "cell_type": "code",
   "execution_count": 7,
   "id": "64e3f569-9472-440f-99a1-fc6900854e23",
   "metadata": {},
   "outputs": [],
   "source": [
    "#using Profile, ProfileView, BenchmarkTools"
   ]
  },
  {
   "cell_type": "code",
   "execution_count": 7,
   "id": "7e96ca25-7954-48cf-befc-5f451063b8c3",
   "metadata": {},
   "outputs": [],
   "source": [
    "const NCHANNELS0::Int64 = 1\n",
    "#const NCHANNELS::Int64 = 1\n",
    "const NLEVELS::Int64 = 2\n",
    "const OMEGA = 1.0 # NOTE: THESE ARE GAMMELMARK PARAMETERS\n",
    "const GAMMA = 0.5;"
   ]
  },
  {
   "cell_type": "code",
   "execution_count": 8,
   "id": "a2810fce-25a7-4142-8dbb-9479b1ccbb34",
   "metadata": {},
   "outputs": [],
   "source": [
    "const DELTA_RANGE::Vector{Float64} = collect(LinRange(0.0, 1.5, 100));"
   ]
  },
  {
   "cell_type": "markdown",
   "id": "1a7608ab-894c-4172-a8b7-461f9a3a3b7c",
   "metadata": {},
   "source": [
    "# Checking Solutions \n",
    "First thing first, I need to check that indeed the stuff that I'm seeing are solutions. For this I'll begin by setting up the precise \n",
    "Hamiltonian and jump operators of the master equation and extracting the stationary values of the Bloch coordinates.\n",
    "\n",
    "$$\n",
    "    H = \\Delta \\ketbra{e}{e} + \\Omega \\sigma_x/2 \n",
    "$$\n",
    "\n",
    "$$\n",
    "    c = \\sqrt{\\gamma}\\sigma_-\n",
    "$$\n",
    "\n",
    "This is the way Gammelmark and Molmer wrote it, but notice that one can add a constant  $-\\frac{\\Delta}{2}I$ to the Hamiltonian and obtain\n",
    "\n",
    "$$\n",
    "    H = \\frac{\\Delta}{2}\\sigma_z + \\frac{\\Omega}{2}\\sigma_x\n",
    "$$\n",
    "\n",
    "which is the way Wiseman writes it, I want it to use his form of the stationary solution\n",
    "\n",
    "$$\n",
    "\\dot{x} = -\\Delta y - \\frac{\\gamma}{2}x, \\\\\n",
    "$$\n",
    "$$\n",
    "\\dot{y} = -\\Omega z + \\Delta x - \\frac{\\gamma}{2}y, \\\\\n",
    "$$\n",
    "$$\n",
    "\\dot{z} = +\\Omega y - \\gamma(z + 1),\n",
    "$$\n",
    "\n",
    "$$\n",
    "\\begin{pmatrix}\n",
    "x \\\\\n",
    "y \\\\\n",
    "z\n",
    "\\end{pmatrix}_{\\text{ss}}\n",
    "=\n",
    "\\begin{pmatrix}\n",
    "-4\\Delta\\Omega \\\\\n",
    "2\\Omega\\gamma \\\\\n",
    "-\\gamma^2 - 4\\Delta^2\n",
    "\\end{pmatrix}\n",
    "\\left( \\gamma^2 + 2\\Omega^2 + 4\\Delta^2 \\right)^{-1}.\n",
    "$$"
   ]
  },
  {
   "cell_type": "code",
   "execution_count": 9,
   "id": "2a240acb-aa2a-42c7-b967-5eb9dc3cce4b",
   "metadata": {},
   "outputs": [
    {
     "data": {
      "text/plain": [
       "z_ss (generic function with 1 method)"
      ]
     },
     "execution_count": 9,
     "metadata": {},
     "output_type": "execute_result"
    }
   ],
   "source": [
    "## Stuff of the stationary solution\n",
    "normalization_ss(delta) = 1/(GAMMA^2 + 2*OMEGA^2 + 4*delta^2) ## normalization factor\n",
    "x_ss(delta) = normalization_ss(delta)*(-4*delta*OMEGA)\n",
    "y_ss(delta) = normalization_ss(delta)*(2*GAMMA*OMEGA)\n",
    "z_ss(delta) = normalization_ss(delta)*(-GAMMA^2-4*delta^2)"
   ]
  },
  {
   "cell_type": "markdown",
   "id": "58f1670f-ba1f-4959-af0e-bbab1f6a4a5a",
   "metadata": {},
   "source": [
    "Ok! Now I'm good to go with trying the solutions, first for good practice I'll do it for all times. "
   ]
  },
  {
   "cell_type": "markdown",
   "id": "9e45975b-5bda-4ec2-b0b0-1f2fe998af1c",
   "metadata": {},
   "source": [
    "# Setup "
   ]
  },
  {
   "cell_type": "code",
   "execution_count": 10,
   "id": "f481db8f-0f2d-4c77-93ea-e726da318c73",
   "metadata": {},
   "outputs": [
    {
     "data": {
      "text/plain": [
       "0.1"
      ]
     },
     "execution_count": 10,
     "metadata": {},
     "output_type": "execute_result"
    }
   ],
   "source": [
    "delta = 0.1"
   ]
  },
  {
   "cell_type": "code",
   "execution_count": 11,
   "id": "c2274847-6cc8-4208-bcab-e89be392fd6e",
   "metadata": {},
   "outputs": [
    {
     "data": {
      "text/plain": [
       "2×2×1 Array{ComplexF64, 3}:\n",
       "[:, :, 1] =\n",
       " 6.92014e-310+6.92014e-310im  6.92021e-310+6.92014e-310im\n",
       " 6.92021e-310+6.92021e-310im  6.92021e-310+6.92021e-310im"
      ]
     },
     "execution_count": 11,
     "metadata": {},
     "output_type": "execute_result"
    }
   ],
   "source": [
    "tf = 2*pi/OMEGA * 10\n",
    "tspan = (0,tf)\n",
    "ntraj = 10_000\n",
    "params_simul = BackAction.SimulParameters([0.0+0im, 1.0],\n",
    "        tf, # Final time. Set very long so that all trajectories jump\n",
    "        1, # seed\n",
    "        ntraj,\n",
    "        # GILLIPSIE STUFF \n",
    "        75_000, 3.0, 1e-3 );\n",
    "# Parameter Information\n",
    "delta = 0.1\n",
    "ddelta = delta/100 + 1e-3\n",
    "# Unravelings\n",
    "T = reshape([1.0+0.0im], 1,1)\n",
    "alphaa = [0.0+0.0im]\n",
    "nchannels = length(alphaa)\n",
    "# Jump operators and their derivatives\n",
    "Ls = Array{ComplexF64}(undef, NLEVELS, NLEVELS, nchannels)\n",
    "dLs = Array{ComplexF64}(undef, NLEVELS, NLEVELS, nchannels)"
   ]
  },
  {
   "cell_type": "markdown",
   "id": "f1f93a78-a573-4ab2-92e7-cb57f8117697",
   "metadata": {},
   "source": [
    "# DifferentialEquations.jl Solution"
   ]
  },
  {
   "cell_type": "code",
   "execution_count": 12,
   "id": "bc873b26-29ed-48bc-97b7-282f23c94a45",
   "metadata": {},
   "outputs": [],
   "source": [
    "using DifferentialEquations"
   ]
  },
  {
   "cell_type": "code",
   "execution_count": 13,
   "id": "18824205-f8ae-47aa-900b-e206a83a1278",
   "metadata": {
    "scrolled": true
   },
   "outputs": [
    {
     "data": {
      "text/plain": [
       "get_lindbladsol (generic function with 1 method)"
      ]
     },
     "execution_count": 13,
     "metadata": {},
     "output_type": "execute_result"
    }
   ],
   "source": [
    "# Solution Lindblad Equation via DifferentialEquations.jl\n",
    "function get_lindbladsol(delta, tspan, u0)\n",
    "    function rf_ode!(dr, r, p, t)\n",
    "            dr[1] = -delta*r[2]-0.5*GAMMA*r[1]\n",
    "            dr[2] = -OMEGA*r[3]+delta*r[1]-0.5*GAMMA*r[2]\n",
    "            dr[3] = OMEGA*r[2]-GAMMA*(r[3]+1)\n",
    "    end\n",
    "    prob = ODEProblem(rf_ode!, u0, tspan)\n",
    "    return solve(prob)\n",
    "end"
   ]
  },
  {
   "cell_type": "code",
   "execution_count": 14,
   "id": "dd0f712a-b02f-4b87-b985-6b10d0c917ba",
   "metadata": {},
   "outputs": [
    {
     "data": {
      "text/plain": [
       "retcode: Success\n",
       "Interpolation: 3rd order Hermite\n",
       "t: 44-element Vector{Float64}:\n",
       "  0.0\n",
       "  0.0009990005004983772\n",
       "  0.010989005505482149\n",
       "  0.0750734979395762\n",
       "  0.19245870118888403\n",
       "  0.3495327526859379\n",
       "  0.5622934243173275\n",
       "  0.8359232429359086\n",
       "  1.17694765796292\n",
       "  1.5790186390898011\n",
       "  2.0340920124823785\n",
       "  2.5101757390136186\n",
       "  3.0759724499204304\n",
       "  ⋮\n",
       " 26.399833631848967\n",
       " 29.19848437313316\n",
       " 32.56838651345708\n",
       " 36.153783495087296\n",
       " 39.39919233995449\n",
       " 43.06132905169304\n",
       " 46.327932411957185\n",
       " 49.332500824823725\n",
       " 52.82483888284229\n",
       " 58.0253045837404\n",
       " 61.915438655345284\n",
       " 62.83185307179586\n",
       "u: 44-element Vector{Vector{Float64}}:\n",
       " [0.0, 0.0, 1.0]\n",
       " [4.987517562525415e-8, -0.0009983767164952293, 0.9990007502482298]\n",
       " [6.00474776298535e-6, -0.010913488872647445, 0.9889811363498457]\n",
       " [0.00027125007217930984, -0.07153910299977057, 0.9236225172098411]\n",
       " [0.0016751387970776108, -0.1691611042801319, 0.8000290894689689]\n",
       " [0.005058373111287976, -0.27269823792417264, 0.6302042715518293]\n",
       " [0.011503236352459848, -0.364865581588768, 0.40027431196089747]\n",
       " [0.02114780031072339, -0.4081757464699787, 0.12054949436041548]\n",
       " [0.03226481368823559, -0.3619928290683701, -0.17821496850022783]\n",
       " [0.04024270151086342, -0.20463467482573627, -0.43273594237304025]\n",
       " [0.0394311116461703, 0.04289942658166972, -0.580487612782546]\n",
       " [0.02692083496663916, 0.3075964953642879, -0.5919189889317203]\n",
       " [6.510996337464059e-5, 0.5526613708297703, -0.4733729880116493]\n",
       " ⋮\n",
       " [-0.1742940854988305, 0.4366461559679867, -0.12662989597085564]\n",
       " [-0.17448866809549618, 0.4366987449703225, -0.12659655722649382]\n",
       " [-0.17459003982002916, 0.43670414206483305, -0.12665552174514358]\n",
       " [-0.17463882643580955, 0.43660972403424075, -0.12666788262067405]\n",
       " [-0.1746666987234908, 0.4366939795627242, -0.12654955219272915]\n",
       " [-0.17465599653076597, 0.43687659387524874, -0.12669738905506492]\n",
       " [-0.17465634468760619, 0.4364874215524031, -0.12682204232229502]\n",
       " [-0.1746890180375864, 0.43668437402412946, -0.1264599580304382]\n",
       " [-0.17465724775688152, 0.4369865091362726, -0.12670949295332404]\n",
       " [-0.174680601739499, 0.43655043498168367, -0.12658770484351925]\n",
       " [-0.17466607501781053, 0.4367242884730653, -0.1266905861938295]\n",
       " [-0.17467154141789903, 0.4367346884306454, -0.12663346631718886]"
      ]
     },
     "execution_count": 14,
     "metadata": {},
     "output_type": "execute_result"
    }
   ],
   "source": [
    "sol_lindblad = get_lindbladsol(delta, tspan, [0.0, 0.0, 1.0])"
   ]
  },
  {
   "cell_type": "markdown",
   "id": "5cce96f1-3fd0-49ab-9466-be7142351e7b",
   "metadata": {},
   "source": [
    "# Trajectory Solution"
   ]
  },
  {
   "cell_type": "code",
   "execution_count": 15,
   "id": "7697cf56-0697-4119-851d-5c7a6ab6c443",
   "metadata": {},
   "outputs": [
    {
     "data": {
      "text/plain": [
       "obtain_parametric_unraveling_operators (generic function with 1 method)"
      ]
     },
     "execution_count": 15,
     "metadata": {},
     "output_type": "execute_result"
    }
   ],
   "source": [
    "# Here I look for the solution from the trajectories, particularly using the same code as the one that calcualtes the Fisher Information\n",
    "# First thing I need is to set functions for obtaining the jump operator and the hamiltonian\n",
    "# Base parametric operators\n",
    "\n",
    "# These are the functions definign the base unraveling\n",
    "L0 = d -> sqrt(GAMMA) * BackAction.sigma_m\n",
    "H0 = d -> 0.5*d*BackAction.sigma_z  + 0.5*OMEGA*BackAction.sigma_x \n",
    "\n",
    "# Generate functions with the correct unraveling\n",
    "function obtain_parametric_unraveling_operators(T::Matrix{T1}, alpha::Vector{T1}) where {T1<:Complex}\n",
    "    # First do the unitary mixing \n",
    "    Ls_mixed = BackAction.isometric_mixing([L0], T, NLEVELS, size(T)[1])\n",
    "    H = BackAction.add_cfield_hamiltonian_correctionterm(H0, Ls_mixed, alpha, NLEVELS)\n",
    "    Ls_mixed_cfield = BackAction.add_cfields(Ls_mixed, alpha, NLEVELS)\n",
    "    He = BackAction.get_Heff(H, Ls_mixed_cfield, NLEVELS)\n",
    "    return Ls_mixed_cfield, H, He\n",
    "end"
   ]
  },
  {
   "cell_type": "code",
   "execution_count": 16,
   "id": "bfd41f69-2dda-49f9-80fa-af8a9d52124e",
   "metadata": {},
   "outputs": [
    {
     "data": {
      "text/plain": [
       "get_trajectorysample (generic function with 1 method)"
      ]
     },
     "execution_count": 16,
     "metadata": {},
     "output_type": "execute_result"
    }
   ],
   "source": [
    "function get_trajectorysample(delta::T2, ddelta::T2, # Parameter information\n",
    "        T::Matrix{T1}, alpha::Vector{T1}, nchannels::T3, # Specify the unraveling\n",
    "        Ls::Array{T1}, dLs::Array{T1}, # Necessary matrices to store jump operators and it's derivatives\n",
    "        params_simul::SimulParameters; # Simulation specifics: ntraj, tf and initial state\n",
    "        kwargs... # Keywords for the solver\n",
    "        ) where {T1<:Complex, T2<:Real, T3<:Int}\n",
    "    \n",
    "    Ls_par, H_par, He_par = obtain_parametric_unraveling_operators(T, alpha)\n",
    "    evaluate_and_fill_Ls_dLs(Ls_par, delta, Ls, dLs, nchannels)\n",
    "    sys = System(H_par(delta), Ls, NLEVELS, nchannels)\n",
    "    println(L\"|L operator - \\sqrt{\\GAMMA}\\sigma_- |=\",norm(sys.Ls[:, :, 1] - sqrt(GAMMA)*BackAction.sigma_m))\n",
    "    println(L\"|H - \\Omega\\sigma_x/2 + \\Delta\\sigma_z/2  |=\",norm(sys.H - (0.5*OMEGA*BackAction.sigma_x + 0.5*delta*BackAction.sigma_z)))\n",
    "    println(L\"|Heff-  H -iL^dagge L /2 |=\",norm(\n",
    "        sys.Heff-(0.5*OMEGA*BackAction.sigma_x + 0.5*delta*BackAction.sigma_z- 0.5*1im*GAMMA*BackAction.sigma_p*BackAction.sigma_m)\n",
    "    )\n",
    ")\n",
    "    He_forward = He_par(delta + 0.5*ddelta)\n",
    "    He_backward = He_par(delta - 0.5*ddelta)\n",
    "    #sim = get_sol_jumps_monitoring(ddelta, dLs, He_forward, He_backward, sys, params_simul, (0.0, params_simul.tf); \n",
    "    #                                #save_on=false, save_start=false, save_end=true)\n",
    "    #                                kwargs...)\n",
    "    sim = get_sol_jumps(sys, params_simul, (0.0, params_simul.tf))\n",
    "end                    "
   ]
  },
  {
   "cell_type": "code",
   "execution_count": 17,
   "id": "ef0f675b-0380-42f5-9119-b942df971638",
   "metadata": {},
   "outputs": [
    {
     "name": "stdout",
     "output_type": "stream",
     "text": [
      "$|L operator - \\sqrt{\\GAMMA}\\sigma_- |=$0.0\n",
      "$|H - \\Omega\\sigma_x/2 + \\Delta\\sigma_z/2  |=$0.0\n",
      "$|Heff-  H -iL^dagge L /2 |=$5.551115123125783e-17\n"
     ]
    }
   ],
   "source": [
    "trajectory_sample = get_trajectorysample(delta, delta/10 + 1e-1,\n",
    "                                    T, alphaa, nchannels,\n",
    "                                    Ls, dLs,\n",
    "                                    params_simul);"
   ]
  },
  {
   "cell_type": "code",
   "execution_count": 21,
   "id": "e0c80f89-24ba-4317-abb9-9ce506963ec1",
   "metadata": {},
   "outputs": [
    {
     "ename": "LoadError",
     "evalue": "UndefVarError: `H_par` not defined",
     "output_type": "error",
     "traceback": [
      "UndefVarError: `H_par` not defined",
      "",
      "Stacktrace:",
      " [1] top-level scope",
      "   @ In[21]:3"
     ]
    }
   ],
   "source": [
    "######################## SINGLE TRAJECTORY ANALYSIS #####################\n",
    "\n",
    "sys = System(H_par(delta), Ls, NLEVELS, nchannels)\n",
    "tolerance = 2e-3\n",
    "@testset \"Correct Evolution, individual Trajectories\" begin\n",
    "    for i in 1:params_simul.ntraj\n",
    "#i = 32\n",
    "        @testset \"Correct Evolution $i-th Trajectory \" begin \n",
    "            \n",
    "            sol_sample_i = trajectory_sample[i]\n",
    "            affect!_sample_i = sol_sample_i.prob.kwargs[:callback].affect!\n",
    "            jumptimes_sample_i = affect!_sample_i.jump_times\n",
    "            numberofjumps_sample_i = affect!_sample_i.jump_counter[] - 1 # The counter begins at 1\n",
    "            \n",
    "            \n",
    "            expected_state = copy(params_simul.psi0)\n",
    "            expected_state .= exp(-1.0im*jumptimes_sample_i[1]*sys.Heff) * expected_state\n",
    "            \n",
    "            @test norm(expected_state - sol_sample_i(jumptimes_sample_i[1])) < tolerance\n",
    "            \n",
    "            expected_state .= sys.Ls[:, :, 1] * expected_state\n",
    "            expected_state .=  expected_state / norm(expected_state)\n",
    "            \n",
    "            for k in 1:(numberofjumps_sample_i-1)\n",
    "                tau = jumptimes_sample_i[k+1] - jumptimes_sample_i[k]\n",
    "                \n",
    "                expected_state .= exp(-1.0im*tau*sys.Heff) * expected_state \n",
    "                @test norm(expected_state - sol_sample_i(jumptimes_sample_i[k+1])) < tolerance\n",
    "                \n",
    "                expected_state .= sys.Ls[:, :, 1] * expected_state\n",
    "                expected_state .=  expected_state / norm(expected_state)\n",
    "                @test norm(expected_state - sol_sample_i(jumptimes_sample_i[k+1]+1e-6)) < tolerance\n",
    "            end \n",
    "        end \n",
    "    end \n",
    "end; "
   ]
  },
  {
   "cell_type": "code",
   "execution_count": 18,
   "id": "1cb25cda-1c8b-406b-bd40-f706378e2028",
   "metadata": {},
   "outputs": [
    {
     "data": {
      "text/plain": [
       "3-element Vector{Matrix{ComplexF64}}:\n",
       " [0.0 + 0.0im 1.0 + 0.0im; 1.0 + 0.0im 0.0 + 0.0im]\n",
       " [0.0 + 0.0im 0.0 + 1.0im; 0.0 - 1.0im 0.0 + 0.0im]\n",
       " [-1.0 + 0.0im 0.0 + 0.0im; 0.0 + 0.0im 1.0 + 0.0im]"
      ]
     },
     "execution_count": 18,
     "metadata": {},
     "output_type": "execute_result"
    }
   ],
   "source": [
    "########################## AVERAGE ##########################\n",
    "ntimes = 100\n",
    "teval = LinRange(tspan[1], tspan[end], ntimes)\n",
    "# first index is the coordinate, second the time and third the sample number\n",
    "r_sample = zeros(ComplexF64, 3, ntimes, params_simul.ntraj)\n",
    "psi = Vector{ComplexF64}(undef, 2) \n",
    "sigma = [BackAction.sigma_x, BackAction.sigma_y, BackAction.sigma_z]"
   ]
  },
  {
   "cell_type": "code",
   "execution_count": 19,
   "id": "c1a8d729-ba3a-4a52-9535-44aa0e11f78a",
   "metadata": {},
   "outputs": [],
   "source": [
    "for i in 1:ntraj\n",
    "    sol = trajectory_sample[i]\n",
    "    for j in 1:ntimes\n",
    "        psi .= sol(teval[j]) \n",
    "        normsquared = dot(psi, psi)\n",
    "        for k in 1:3\n",
    "            r_sample[k, j, i] += dot(psi, sigma[k], psi)/normsquared\n",
    "        end \n",
    "    end \n",
    "end "
   ]
  },
  {
   "cell_type": "code",
   "execution_count": 20,
   "id": "ff3d3edb-84f2-4006-9a6f-9c95cdeeb829",
   "metadata": {},
   "outputs": [
    {
     "data": {
      "text/plain": [
       "3×100 Matrix{Float64}:\n",
       " 0.0   0.0137398   0.0341517   0.0393192  …  -0.17509   -0.17585   -0.174423\n",
       " 0.0  -0.375537   -0.325811   -0.0201888      0.441007   0.438865   0.433846\n",
       " 1.0   0.3075     -0.248238   -0.549258      -0.125013  -0.120576  -0.126442"
      ]
     },
     "execution_count": 20,
     "metadata": {},
     "output_type": "execute_result"
    }
   ],
   "source": [
    "r_mean = real(dropdims(mean(r_sample, dims=3), dims=3))"
   ]
  },
  {
   "cell_type": "code",
   "execution_count": 21,
   "id": "8a2fef03-945f-4587-9849-835442950a03",
   "metadata": {},
   "outputs": [
    {
     "data": {
      "text/plain": [
       "-0.17467248908296945"
      ]
     },
     "execution_count": 21,
     "metadata": {},
     "output_type": "execute_result"
    }
   ],
   "source": [
    "x_ss(delta)"
   ]
  },
  {
   "cell_type": "code",
   "execution_count": 22,
   "id": "a690ffde-91ce-4892-a68d-f48e5f7041a7",
   "metadata": {},
   "outputs": [
    {
     "data": {
      "text/plain": [
       "0.4366812227074236"
      ]
     },
     "execution_count": 22,
     "metadata": {},
     "output_type": "execute_result"
    }
   ],
   "source": [
    "y_ss(delta)"
   ]
  },
  {
   "cell_type": "code",
   "execution_count": 23,
   "id": "83b6253e-8156-402d-80d2-0f042c2db9a8",
   "metadata": {},
   "outputs": [
    {
     "data": {
      "text/plain": [
       "-0.12663755458515286"
      ]
     },
     "execution_count": 23,
     "metadata": {},
     "output_type": "execute_result"
    }
   ],
   "source": [
    "z_ss(delta)"
   ]
  },
  {
   "cell_type": "code",
   "execution_count": null,
   "id": "ece38c1c-5483-488e-a370-db1dcb8cef05",
   "metadata": {},
   "outputs": [],
   "source": [
    "# x\n",
    "plot(sol_lindblad, idxs = (0, 1), label=\"Lindblad\", xlabel=L\"t\",\n",
    "    ylabel=L\"\\langle\\sigma\\rangle\", title=L\"\\Delta=%$delta, \\Omega=%$OMEGA, \\gamma=%$GAMMA, ntraj=%$(params_simul.ntraj)\", \n",
    "    color=\"green\", linewidth=5, line=:dash)\n",
    "plot!([tspan[1], tspan[2]], ones(2)*x_ss(delta), line=:dash, label=\"Stationary\", \n",
    "        color=\"yellow\", linewidth=2.5)\n",
    "plot!(teval, r_mean[1, :], label=\"Average\", color=\"red\")\n",
    "# y\n",
    "plot!(sol_lindblad, idxs = (0, 2), label=false, color=\"green\", linewidth=5,\n",
    "    line=:dash)\n",
    "plot!([tspan[1], tspan[2]], ones(2)*y_ss(delta), line=:dash, label=false,\n",
    "    color=\"yellow\", linewidth=2.5)\n",
    "plot!(teval, r_mean[2, :], label=false, color=\"red\")\n",
    "# z\n",
    "plot!(sol_lindblad, idxs = (0, 3), label=false, color=\"green\", line=:dash, \n",
    "      linewidth=5)\n",
    "plot!([tspan[1], tspan[2]], ones(2)*z_ss(delta), line=:dash, label=false,\n",
    "    color=\"yellow\", linewidth=2.5)\n",
    "plot!(teval, r_mean[3, :], label=false, color=\"red\")"
   ]
  },
  {
   "cell_type": "code",
   "execution_count": null,
   "id": "e8fba0b3-f515-46a0-b1a8-f5fe026611c0",
   "metadata": {
    "jupyter": {
     "source_hidden": true
    }
   },
   "outputs": [],
   "source": [
    "# Set up the unravelings\n",
    "function sample_c2(seed)\n",
    "    theta = pi*rand()\n",
    "    phi = 2*pi*rand()\n",
    "    return [cos(theta*0.5); exp(1im*phi)*sin(theta*0.5)] \n",
    "end\n",
    "function get_random_unraveling(seed)\n",
    "    Random.seed!(seed)\n",
    "    T = sample_c2(seed) \n",
    "    T = reshape(T/norm(T), 2,1)\n",
    "    T_curvy = [real(T[1]) imag(T[1]); real(T[2]) imag(T[2]) ]\n",
    "    F = svd(T_curvy) # Factorization object\n",
    "    P = F.V * Diagonal(F.S) * F.Vt\n",
    "    O = F.U * F.Vt\n",
    "    T_curvy_dyne = O' * T_curvy\n",
    "    T_dyne = O' * real.(T) + 1im * O' * imag.(T)\n",
    "    Ta = T \n",
    "    Tb = T_dyne \n",
    "    Tc = T_dyne \n",
    "    Ts = Dict([(\"a\", Ta), (\"b\", Tb), (\"c\", Tc)]) # Dictionary with the Ts\n",
    "    alpha0 = [0.5 + 0im; 0.5 + 0im] \n",
    "    alphas = Dict([(\"a\", alpha0), (\"b\", alpha0), (\"c\", O' * alpha0)]) # Dictionary with the alphas\n",
    "\n",
    "    return Ts, alphas\n",
    "end\n"
   ]
  },
  {
   "cell_type": "code",
   "execution_count": 6,
   "id": "73ca83a3-d007-4d8a-bb2b-3b14faf864aa",
   "metadata": {},
   "outputs": [
    {
     "data": {
      "text/plain": [
       "obtain_parametric_unraveling_operators (generic function with 1 method)"
      ]
     },
     "execution_count": 6,
     "metadata": {},
     "output_type": "execute_result"
    }
   ],
   "source": [
    "# Base parametric operators\n",
    "\n",
    "L0 = d -> sqrt(GAMMA) * BackAction.sigma_m\n",
    "H0 = d -> d*[[0, 0] [0, 1.0+0im]]  + 0.5*OMEGA*BackAction.sigma_x \n",
    "\n",
    "# Unraveling parametrix operators\n",
    "function obtain_parametric_unraveling_operators(T::Matrix{T1}, alpha::Vector{T1}) where {T1<:Complex}\n",
    "    # First do the unitary mixing \n",
    "    Ls_mixed = BackAction.isometric_mixing([L0], T, NLEVELS, size(T)[1])\n",
    "    H = BackAction.add_cfield_hamiltonian_correctionterm(H0, Ls_mixed, alpha, NLEVELS)\n",
    "    Ls_mixed_cfield = BackAction.add_cfields(Ls_mixed, alpha, NLEVELS)\n",
    "    He = BackAction.get_Heff(H, Ls_mixed_cfield, NLEVELS)\n",
    "    return Ls_mixed_cfield, H, He\n",
    "end\n"
   ]
  },
  {
   "cell_type": "code",
   "execution_count": 7,
   "id": "4ebfc39a-75fc-4228-bd5c-a638255da047",
   "metadata": {},
   "outputs": [
    {
     "data": {
      "text/plain": [
       "calculate_fi (generic function with 1 method)"
      ]
     },
     "execution_count": 7,
     "metadata": {},
     "output_type": "execute_result"
    }
   ],
   "source": [
    "function calculate_fi(ensol)\n",
    "    avg = 0.0\n",
    "    aux = 0.0\n",
    "    for sol in ensol \n",
    "        psi = sol.u[end]/norm(sol.u[end])\n",
    "        phi = sol.prob.kwargs[:callback].affect!.cache_phi\n",
    "        val = (2*real(dot(psi, phi)))^2\n",
    "        avg = avg + val\n",
    "        aux = aux + val^2\n",
    "    end\n",
    "    n = length(ensol)\n",
    "    return avg/n, (aux - ((avg)^2)/n)/(n-1) \n",
    "end "
   ]
  },
  {
   "cell_type": "code",
   "execution_count": 13,
   "id": "0d2adc57-f8c0-4ca7-8411-11b41764811a",
   "metadata": {},
   "outputs": [
    {
     "data": {
      "text/plain": [
       "FisherInformationRoutine (generic function with 1 method)"
      ]
     },
     "execution_count": 13,
     "metadata": {},
     "output_type": "execute_result"
    }
   ],
   "source": [
    "function FisherInformationRoutine(theta::T2, dtheta::T2, tf::T2, T::Matrix{T1}, alpha::Vector{T1}, nchannels::T3,\n",
    "        Ls::Array{T1}, dLs::Array{T1}, ntraj::T3) where {T1<:Complex, T2<:Real, T3<:Int}\n",
    "    \n",
    "    params_simul = BackAction.SimulParameters([0.0+0im, 1.0],\n",
    "        tf, # Final time. Set very long so that all trajectories jump\n",
    "        1, # seed\n",
    "        ntraj, # Number of trajectories\n",
    "        # GILLIPSIE STUFF \n",
    "        75_000, 3.0, 1e-3 )\n",
    "    tspan = (0.0, tf)\n",
    "    ## 1. define the T and alpha\n",
    "    #nchannels = length(alpha)\n",
    "    ## 2. Obtain the parametrizations of Ls, H and He\n",
    "    Ls_par, H_par, He_par = obtain_parametric_unraveling_operators(T, alpha)\n",
    "    ## 3. Evaluate the parametrizations\n",
    "    evaluate_and_fill_Ls_dLs(Ls_par, theta, Ls, dLs, nchannels)\n",
    "    ### 4. Initialzie the system\n",
    "    sys = System(H_par(theta), Ls, NLEVELS, nchannels)\n",
    "    ## Set up the derivatives of the jump operators\n",
    "    #end\n",
    "    ## Information for the derivatives\n",
    "    #dtheta = delta/1000\n",
    "    He_forward = He_par(theta + 0.5*dtheta )\n",
    "    He_backward = He_par(theta - 0.5*dtheta)\n",
    "    #\n",
    "    sim = get_sol_jumps_monitoring(dtheta, dLs, He_forward, He_backward, sys, params_simul, tspan; \n",
    "                                    save_on=false, save_start=false, save_end=true)\n",
    "    mean, var =  calculate_fi(sim)\n",
    "    #return mean/tf, var/tf^2\n",
    "    return mean/tf\n",
    "end"
   ]
  },
  {
   "cell_type": "code",
   "execution_count": 9,
   "id": "9e170afb-6ed2-4d90-b1ac-c4648ccf0e18",
   "metadata": {},
   "outputs": [
    {
     "data": {
      "text/plain": [
       "100"
      ]
     },
     "execution_count": 9,
     "metadata": {},
     "output_type": "execute_result"
    }
   ],
   "source": [
    "T = reshape([1.0+0im], 1,1) # MUST BE CONSISTENT WITH THE DIMENSIONS OF ALPHA\n",
    "alpha = [0.0+0im]\n",
    "nchannels = length(alpha)\n",
    "Ls = Array{ComplexF64}(undef, NLEVELS, NLEVELS, nchannels)\n",
    "dLs = Array{ComplexF64}(undef, NLEVELS, NLEVELS, nchannels)\n",
    "theta = DELTA_RANGE[1]\n",
    "dtheta = theta/1000\n",
    "tf = 300.0\n",
    "ntraj = 100\n"
   ]
  },
  {
   "cell_type": "code",
   "execution_count": 11,
   "id": "5be7fefe-46e0-4be6-b91b-ab28057ed4f4",
   "metadata": {},
   "outputs": [],
   "source": [
    "ndeltas = length(DELTA_RANGE)\n",
    "nalphas = 1\n",
    "alphamax = 2.0 + 0.0im\n",
    "dalphas = alphamax/nalphas\n",
    "alphas = [dalphas*m for m in 0:nalphas]\n",
    "myfi = Array{Float64}(undef, ndeltas, nalphas);"
   ]
  },
  {
   "cell_type": "code",
   "execution_count": 14,
   "id": "10489f70-e17d-4866-8a0f-7844b4c22a7b",
   "metadata": {},
   "outputs": [
    {
     "name": "stdout",
     "output_type": "stream",
     "text": [
      "0.0 + 0.0im\n",
      " 17.201198 seconds (14.41 M allocations: 663.898 MiB, 0.95% gc time, 0.35% compilation time)\n"
     ]
    }
   ],
   "source": [
    "for k in 1:nalphas\n",
    "        println(alphas[k])\n",
    "    @time begin\n",
    "            for n in 1:ndeltas\n",
    "                # you need to add the 0.0001 to avoid dividing by zero at delta=0\n",
    "               myfi[n, k] = FisherInformationRoutine(DELTA_RANGE[n], DELTA_RANGE[n]/1000 + 0.0001,  \n",
    "                            tf, T, [alphas[k]], nchannels, Ls, dLs, ntraj) \n",
    "            end \n",
    "        end\n",
    "end"
   ]
  },
  {
   "cell_type": "code",
   "execution_count": 13,
   "id": "ff36d8d7-201a-44cb-ba42-34e616df2c82",
   "metadata": {},
   "outputs": [
    {
     "data": {
      "text/plain": [
       "100×1 Matrix{Float64}:\n",
       " NaN\n",
       "   0.005098673053971783\n",
       "   0.09408967502117747\n",
       "   0.13440031998010812\n",
       "   0.17577754871389936\n",
       "   0.21349144206011483\n",
       "   0.18906055094561702\n",
       "   0.2547263342168694\n",
       "   0.24770886793358154\n",
       "   0.3596830974128386\n",
       "   0.322923043832257\n",
       "   0.30737468060255485\n",
       "   0.4012941745557821\n",
       "   ⋮\n",
       "   0.13578897060272632\n",
       "   0.1266140739476892\n",
       "   0.12773341833194843\n",
       "   0.12123678240719118\n",
       "   0.11523381600067206\n",
       "   0.10913945952561822\n",
       "   0.11454050322656442\n",
       "   0.12016705546224406\n",
       "   0.11855622997202256\n",
       "   0.1277228841483822\n",
       "   0.13792454084828215\n",
       "   0.14894717369947502"
      ]
     },
     "execution_count": 13,
     "metadata": {},
     "output_type": "execute_result"
    }
   ],
   "source": [
    "myfi"
   ]
  },
  {
   "cell_type": "markdown",
   "id": "0a14e531-8520-4b7d-8271-227ce65d0929",
   "metadata": {},
   "source": [
    "# Gammelmark-Molmer Bound\n"
   ]
  },
  {
   "cell_type": "code",
   "execution_count": 14,
   "id": "3561129d-5e01-47be-bb4d-ee25bb50a253",
   "metadata": {},
   "outputs": [],
   "source": [
    "using LinearSolve\n",
    "using ForwardDiff"
   ]
  },
  {
   "cell_type": "code",
   "execution_count": 15,
   "id": "b19d95bd-0a2d-417e-891e-93d5a4527fd9",
   "metadata": {},
   "outputs": [
    {
     "data": {
      "text/plain": [
       "get_LMatrixGeneralized (generic function with 1 method)"
      ]
     },
     "execution_count": 15,
     "metadata": {},
     "output_type": "execute_result"
    }
   ],
   "source": [
    "function get_LMatrix(delta, omega, k)\n",
    "    return [[0.0 0.5im*omega -0.5im*omega k];\n",
    "            [0.5im*omega 1im*delta - 0.5*k 0.0 -0.5im*omega];\n",
    "            [-0.5im*omega 0.0 -1im*delta-0.5*k 0.5im*omega];\n",
    "            [0.0 -0.5im*omega 0.5im*omega -k]]\n",
    "end\n",
    "\n",
    "function get_LMatrixGeneralized(delta1, delta2, omega1, omega2, k1, k2)\n",
    "    return [[0.0 0.5im*omega1 -0.5im*omega2 sqrt(k1*k2)];\n",
    "            [0.5im*omega1 1im*delta1-0.5*k1 0.0 -0.5im*omega2];\n",
    "            [-0.5im*omega2 0.0 -1im*delta2-0.5*k2 0.5im*omega1];\n",
    "            [0.0 -0.5im*omega2 0.5im*omega1 1im*delta1-1im*delta2-k1/2-k2/2]]\n",
    "end         \n",
    "\n"
   ]
  },
  {
   "cell_type": "code",
   "execution_count": 16,
   "id": "fd67fa97-a6c4-46db-b597-1a4ba1f6416c",
   "metadata": {},
   "outputs": [
    {
     "data": {
      "text/plain": [
       "GMBound (generic function with 1 method)"
      ]
     },
     "execution_count": 16,
     "metadata": {},
     "output_type": "execute_result"
    }
   ],
   "source": [
    "function GMBound(delta)\n",
    "    # First: Obtain the stationary state\n",
    "    # Get the matrix form of the Liouville operator\n",
    "    A = get_LMatrix(delta, OMEGA, GAMMA)\n",
    "    A_aux = copy(A)\n",
    "    A_aux[4, 1] = 1.0\n",
    "    A_aux[4, 2] = 0.0\n",
    "    A_aux[4, 3] = 0.0\n",
    "    A_aux[4, 4] = 1.0\n",
    "    # Solve the problem:\n",
    "    b = [0.0+0.0im, 0.0, 0.0, 1.0]\n",
    "    prob = LinearProblem(A_aux, b)\n",
    "    sol = solve(prob)\n",
    "    u0 = sol.u\n",
    "    v0 = [1.0+0.0im, 0.0, 0.0, 1.0]\n",
    "# Sanity check: this is the eigenvector with eigenvalue 0 and normalized\n",
    "#println(\"norm(A*u0)=\",  norm(A*u0))\n",
    "#println(\"dot(v0,u0)>=\",  dot(v0, u0))\n",
    "\n",
    "    # Second: Obtian the pseudo inverse of -Lmatrix, and define the projector \n",
    "    # into the orthogonal complement of lambda0 eigenspace\n",
    "    A_plus = pinv(-A)\n",
    "    P0 = u0 * adjoint(v0)\n",
    "    P = I - P0\n",
    "    P_divided_A = P*A_plus*P\n",
    "\n",
    "    # Sanity check: dot(u0, ui) = 0\n",
    "    #ui = A_plus*P*Lgeneralized_delta(DELTA_GAMMELMARK[1])*u0\n",
    "    Lgeneralized = d -> get_LMatrixGeneralized(d[1], d[2], OMEGA, OMEGA, GAMMA, GAMMA)\n",
    "    Lgeneralized_leftfixed = d -> Lgeneralized([delta, d])\n",
    "    Lgeneralized_rightfixed = d -> Lgeneralized([d, delta])\n",
    "    #Lgeneralized_leftfixed(DELTA_GAMMELMARK[1])\n",
    "    L_left = ForwardDiff.derivative(Lgeneralized_leftfixed, delta)\n",
    "    L_right = ForwardDiff.derivative(Lgeneralized_rightfixed, delta)\n",
    "\n",
    "# Fourth: sum all the matrices\n",
    "    aux1 = zeros(ComplexF64, 4, 4)\n",
    "    aux2 = L_left*P_divided_A*L_right + L_right*P_divided_A*L_left\n",
    "    total_matrix =  aux1 + aux2\n",
    "\n",
    "    return real(4*dot(v0, total_matrix*u0))\n",
    "end "
   ]
  },
  {
   "cell_type": "markdown",
   "id": "bd54fa41-f23f-42a6-a574-900fc8afd177",
   "metadata": {},
   "source": [
    "# Complete Plot"
   ]
  },
  {
   "cell_type": "code",
   "execution_count": 17,
   "id": "e1f2d9b4-58d1-482a-99d5-a9b7e4b2f6d0",
   "metadata": {},
   "outputs": [],
   "source": [
    "using LaTeXStrings"
   ]
  },
  {
   "cell_type": "code",
   "execution_count": 18,
   "id": "08e868c1-288f-4cb7-bc63-864449310a22",
   "metadata": {},
   "outputs": [
    {
     "ename": "LoadError",
     "evalue": "UndefVarError: `DELTA_GAMMELMARK` not defined",
     "output_type": "error",
     "traceback": [
      "UndefVarError: `DELTA_GAMMELMARK` not defined",
      "",
      "Stacktrace:",
      " [1] top-level scope",
      "   @ In[18]:1"
     ]
    }
   ],
   "source": [
    "plot(DELTA_GAMMELMARK, myfi[:, 1], label=L\"\\alpha= %$(alphas[1])\", linestyle=:dashdot, \n",
    "    xlabel=L\"\\Delta\", ylabel=L\"F(\\Delta)/T\")\n",
    "for k in 2:nalphas\n",
    "    plot!(DELTA_GAMMELMARK, myfi[:, k], label=L\"\\alpha = %$(alphas[k])\", linestyle=:dash)\n",
    "end\n",
    "plot!(DELTA_GAMMELMARK, GMBound.(DELTA_GAMMELMARK), color=\"black\", label=\"GM Bound\")\n",
    "savefig(\"FI.pdf\")"
   ]
  }
 ],
 "metadata": {
  "kernelspec": {
   "display_name": "Julia 1.10.8",
   "language": "julia",
   "name": "julia-1.10"
  },
  "language_info": {
   "file_extension": ".jl",
   "mimetype": "application/julia",
   "name": "julia",
   "version": "1.10.8"
  }
 },
 "nbformat": 4,
 "nbformat_minor": 5
}
