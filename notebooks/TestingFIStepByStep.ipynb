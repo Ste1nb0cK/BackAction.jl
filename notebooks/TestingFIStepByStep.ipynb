{
 "cells": [
  {
   "cell_type": "code",
   "execution_count": 1,
   "id": "64e34ac6-eb9e-4e77-b918-353efda4ca17",
   "metadata": {},
   "outputs": [
    {
     "name": "stderr",
     "output_type": "stream",
     "text": [
      "\u001b[32m\u001b[1m  Activating\u001b[22m\u001b[39m project at `~/Documents/Research/MonitoringMetrology/BackAction.jl/notebooks`\n",
      "\u001b[32m\u001b[1m  No Changes\u001b[22m\u001b[39m to `~/Documents/Research/MonitoringMetrology/BackAction.jl/notebooks/Project.toml`\n",
      "\u001b[32m\u001b[1m  No Changes\u001b[22m\u001b[39m to `~/Documents/Research/MonitoringMetrology/BackAction.jl/notebooks/Manifest.toml`\n"
     ]
    }
   ],
   "source": [
    "import Pkg\n",
    "Pkg.activate(\"./\")\n",
    "Pkg.resolve()"
   ]
  },
  {
   "cell_type": "code",
   "execution_count": 3,
   "id": "91e10c92-edc7-4f96-85e4-4c1fdebbbe34",
   "metadata": {},
   "outputs": [
    {
     "name": "stderr",
     "output_type": "stream",
     "text": [
      "\u001b[32m\u001b[1mPrecompiling\u001b[22m\u001b[39m packages...\n",
      "  12415.6 ms\u001b[32m  ✓ \u001b[39mBackAction\n",
      "  1 dependency successfully precompiled in 15 seconds. 287 already precompiled.\n"
     ]
    }
   ],
   "source": [
    "using Random, Statistics, Plots, LaTeXStrings, DifferentialEquations, LinearAlgebra, BackAction, Base.Threads, Test, ForwardDiff"
   ]
  },
  {
   "cell_type": "code",
   "execution_count": 1,
   "id": "fd04fa50-2d95-4d4f-9a1b-5b8d525134e1",
   "metadata": {},
   "outputs": [],
   "source": [
    "using CSV, Tables, DataFrames"
   ]
  },
  {
   "cell_type": "code",
   "execution_count": 3,
   "id": "5ba6bc1a-ea17-4cd5-a29c-8b1141c9d80d",
   "metadata": {},
   "outputs": [],
   "source": [
    "using JET\n",
    "using BenchmarkTools\n",
    "using Profile, ProfileView"
   ]
  },
  {
   "cell_type": "code",
   "execution_count": 7,
   "id": "a2810fce-25a7-4142-8dbb-9479b1ccbb34",
   "metadata": {},
   "outputs": [
    {
     "name": "stderr",
     "output_type": "stream",
     "text": [
      "WARNING: redefinition of constant Main.DELTA_GAMMELMARK. This may fail, cause incorrect answers, or produce other errors.\n",
      "WARNING: redefinition of constant Main.FI_GAMMELMARK. This may fail, cause incorrect answers, or produce other errors.\n"
     ]
    }
   ],
   "source": [
    "const DELTA_GAMMELMARK::Vector{Float64} = 0.2/0.478 * [0.146,0.262,0.383,0.511,0.648,0.806,0.965,1.118,1.287,1.438,1.596,\n",
    "               1.755,1.888, 2.057, 2.206, 2.381, 2.539, 2.682, 2.865, 3.013, 3.174, 3.334, 3.452]\n",
    "const FI_GAMMELMARK::Vector{Float64} = [0.115, 0.221, 0.338, 0.425, 0.507, 0.557, 0.573, 0.566, 0.532, 0.494,\n",
    "                   0.448, 0.403, 0.363, 0.318, 0.281, 0.241, 0.210, 0.186, 0.156, 0.137, 0.115, 0.101, 0.09348];"
   ]
  },
  {
   "cell_type": "code",
   "execution_count": 4,
   "id": "7e96ca25-7954-48cf-befc-5f451063b8c3",
   "metadata": {},
   "outputs": [
    {
     "data": {
      "text/plain": [
       "0.5"
      ]
     },
     "execution_count": 4,
     "metadata": {},
     "output_type": "execute_result"
    }
   ],
   "source": [
    "const NCHANNELS0::Int64 = 1\n",
    "#const NCHANNELS::Int64 = 1\n",
    "const NLEVELS::Int64 = 2\n",
    "const OMEGA = 1.0\n",
    "const GAMMA = 0.5"
   ]
  },
  {
   "cell_type": "code",
   "execution_count": 4,
   "id": "e8fba0b3-f515-46a0-b1a8-f5fe026611c0",
   "metadata": {
    "jupyter": {
     "source_hidden": true
    }
   },
   "outputs": [
    {
     "data": {
      "text/plain": [
       "get_random_unraveling (generic function with 1 method)"
      ]
     },
     "execution_count": 4,
     "metadata": {},
     "output_type": "execute_result"
    }
   ],
   "source": [
    "# Set up the unravelings\n",
    "function sample_c2(seed)\n",
    "    theta = pi*rand()\n",
    "    phi = 2*pi*rand()\n",
    "    return [cos(theta*0.5); exp(1im*phi)*sin(theta*0.5)] \n",
    "end\n",
    "function get_random_unraveling(seed)\n",
    "    Random.seed!(seed)\n",
    "    T = sample_c2(seed) \n",
    "    T = reshape(T/norm(T), 2,1)\n",
    "    T_curvy = [real(T[1]) imag(T[1]); real(T[2]) imag(T[2]) ]\n",
    "    F = svd(T_curvy) # Factorization object\n",
    "    P = F.V * Diagonal(F.S) * F.Vt\n",
    "    O = F.U * F.Vt\n",
    "    T_curvy_dyne = O' * T_curvy\n",
    "    T_dyne = O' * real.(T) + 1im * O' * imag.(T)\n",
    "    Ta = T \n",
    "    Tb = T_dyne \n",
    "    Tc = T_dyne \n",
    "    Ts = Dict([(\"a\", Ta), (\"b\", Tb), (\"c\", Tc)]) # Dictionary with the Ts\n",
    "    alpha0 = [0.5 + 0im; 0.5 + 0im] \n",
    "    alphas = Dict([(\"a\", alpha0), (\"b\", alpha0), (\"c\", O' * alpha0)]) # Dictionary with the alphas\n",
    "\n",
    "    return Ts, alphas\n",
    "end\n"
   ]
  },
  {
   "cell_type": "code",
   "execution_count": 9,
   "id": "73ca83a3-d007-4d8a-bb2b-3b14faf864aa",
   "metadata": {},
   "outputs": [
    {
     "data": {
      "text/plain": [
       "obtain_parametric_unraveling_operators (generic function with 1 method)"
      ]
     },
     "execution_count": 9,
     "metadata": {},
     "output_type": "execute_result"
    }
   ],
   "source": [
    "# Base parametric operators\n",
    "\n",
    "L0 = d -> sqrt(GAMMA) * BackAction.sigma_m\n",
    "H0 = d -> d*[[0, 0] [0, 1.0+0im]]  + 0.5*OMEGA*BackAction.sigma_x \n",
    "\n",
    "# Unraveling parametrix operators\n",
    "function obtain_parametric_unraveling_operators(T::Matrix{T1}, alpha::Vector{T1}) where {T1<:Complex}\n",
    "    # First do the unitary mixing \n",
    "    Ls_mixed = BackAction.isometric_mixing([L0], T, NLEVELS, size(T)[1])\n",
    "    H = BackAction.add_cfield_hamiltonian_correctionterm(H0, Ls_mixed, alpha, NLEVELS)\n",
    "    Ls_mixed_cfield = BackAction.add_cfields(Ls_mixed, alpha, NLEVELS)\n",
    "    He = BackAction.get_Heff(H, Ls_mixed_cfield, NLEVELS)\n",
    "    return Ls_mixed_cfield, H, He\n",
    "end\n"
   ]
  },
  {
   "cell_type": "code",
   "execution_count": 10,
   "id": "da394670-3d38-46e6-ba85-a432b48f57d6",
   "metadata": {},
   "outputs": [
    {
     "data": {
      "text/plain": [
       "evaluate_and_fill_Ls! (generic function with 1 method)"
      ]
     },
     "execution_count": 10,
     "metadata": {},
     "output_type": "execute_result"
    }
   ],
   "source": [
    "function evaluate_and_fill_Ls!(Ls::Vector{TJ}, theta::T2,\n",
    "        Ls_store::Array{T1}, nchannels::T3) where {T1<:Complex, T2<:Real, T3<:Int,TJ<:Function} \n",
    "    for k in nchannels\n",
    "       Ls_store[:,:, k] .= Ls[k](theta) \n",
    "    end \n",
    "end "
   ]
  },
  {
   "cell_type": "code",
   "execution_count": 12,
   "id": "54d03404-802c-445f-9272-d5a7cbfdff6b",
   "metadata": {},
   "outputs": [
    {
     "data": {
      "text/plain": [
       "System(NLEVELS=2\n",
       "NCHANNELS=1\n",
       "H=ComplexF64[0.0 + 0.0im 0.5 + 0.0im; 0.5 + 0.0im 0.06108786610878661 + 0.0im]\n",
       "Ls=ComplexF64[0.0 + 0.0im 0.7071067811865476 + 0.0im; 0.0 + 0.0im 0.0 + 0.0im;;;]\n",
       "J=ComplexF64[0.0 + 0.0im 0.0 + 0.0im; 0.0 + 0.0im 0.5000000000000001 + 0.0im])\n",
       "Heff=ComplexF64[0.0 + 0.0im 0.5 + 0.0im; 0.5 + 0.0im 0.06108786610878661 - 0.25000000000000006im])"
      ]
     },
     "execution_count": 12,
     "metadata": {},
     "output_type": "execute_result"
    }
   ],
   "source": [
    "#################################### SYSTEM DEFINITION \n",
    "# 0. Choose the parameters\n",
    "delta = DELTA_GAMMELMARK[1]\n",
    "params_simul = SimulParameters([0.0+0im, 1.0],\n",
    "    300.0, # Final time. Set very long so that all trajectories jump\n",
    "    1, # seed\n",
    "    1_000, # Number of trajectories\n",
    "    # GILLIPSIE STUFF \n",
    "    75_000, 3.0, 1e-3 )\n",
    "tspan = (0.0, params_simul.tf)\n",
    "# 1. define the T and alpha\n",
    "T = reshape([1.0+0im], 1,1) # MUST BE CONSISTENT WITH THE DIMENSIONS OF ALPHA\n",
    "alpha = [0.0+0im]\n",
    "nchannels = length(alpha)\n",
    "# 2. Obtain the parametrizations of Ls, H and He\n",
    "Ls_par, H_par, He_par = obtain_parametric_unraveling_operators(T, alpha)\n",
    "# 3. Evaluate the parametrizations\n",
    "Ls = Array{ComplexF64}(undef, NLEVELS, NLEVELS, nchannels)\n",
    "evaluate_and_fill_Ls!(Ls_par, delta, Ls, nchannels)\n",
    "## 4. Initialzie the system\n",
    "sys = System(H_par(delta), Ls, NLEVELS, nchannels)"
   ]
  },
  {
   "cell_type": "code",
   "execution_count": 14,
   "id": "5b754c70-09aa-4ab0-b5df-e42e0687786d",
   "metadata": {},
   "outputs": [
    {
     "data": {
      "text/plain": [
       "2×2 Matrix{ComplexF64}:\n",
       " 0.0+0.0im        0.5+0.0im\n",
       " 0.5+0.0im  0.0610573-0.25im"
      ]
     },
     "execution_count": 14,
     "metadata": {},
     "output_type": "execute_result"
    }
   ],
   "source": [
    "# Set up the derivatives of the jump operators\n",
    "dLs = Array{ComplexF64}(undef, NLEVELS, NLEVELS, nchannels)\n",
    "for k in 1:nchannels\n",
    "    ForwardDiff.derivative!(view(dLs, :, :, k), Ls_par[k], GAMMA)\n",
    "end\n",
    "# Information for the derivatives\n",
    "dtheta = delta/1000\n",
    "He_forward = He_par(delta + 0.5*dtheta )\n",
    "He_backward = He_par(delta - 0.5*dtheta)"
   ]
  },
  {
   "cell_type": "code",
   "execution_count": 16,
   "id": "3b287434-a5b9-4bc6-bb37-a783832fe8ae",
   "metadata": {},
   "outputs": [
    {
     "name": "stdout",
     "output_type": "stream",
     "text": [
      "  2.907797 seconds (40.68 M allocations: 1.421 GiB, 7.92% gc time)\n"
     ]
    },
    {
     "data": {
      "text/plain": [
       "EnsembleSolution Solution of length 1000 with uType:\n",
       "ODESolution{ComplexF64, 2, Vector{Vector{ComplexF64}}, Nothing, Nothing, Vector{Float64}, Vector{Vector{Vector{ComplexF64}}}, Nothing, ODEProblem{Vector{ComplexF64}, Tuple{Float64, Float64}, true, SciMLBase.NullParameters, ODEFunction{true, SciMLBase.AutoSpecialize, FunctionWrappersWrappers.FunctionWrappersWrapper{Tuple{FunctionWrappers.FunctionWrapper{Nothing, Tuple{Vector{ComplexF64}, Vector{ComplexF64}, SciMLBase.NullParameters, Float64}}, FunctionWrappers.FunctionWrapper{Nothing, Tuple{Vector{Complex{ForwardDiff.Dual{ForwardDiff.Tag{DiffEqBase.OrdinaryDiffEqTag, ComplexF64}, ComplexF64, 1}}}, Vector{Complex{ForwardDiff.Dual{ForwardDiff.Tag{DiffEqBase.OrdinaryDiffEqTag, ComplexF64}, ComplexF64, 1}}}, SciMLBase.NullParameters, Float64}}, FunctionWrappers.FunctionWrapper{Nothing, Tuple{Vector{Complex{ForwardDiff.Dual{ForwardDiff.Tag{DiffEqBase.OrdinaryDiffEqTag, ComplexF64}, ComplexF64, 1}}}, Vector{ComplexF64}, SciMLBase.NullParameters, ForwardDiff.Dual{ForwardDiff.Tag{DiffEqBase.OrdinaryDiffEqTag, ComplexF64}, ComplexF64, 1}}}, FunctionWrappers.FunctionWrapper{Nothing, Tuple{Vector{Complex{ForwardDiff.Dual{ForwardDiff.Tag{DiffEqBase.OrdinaryDiffEqTag, ComplexF64}, ComplexF64, 1}}}, Vector{Complex{ForwardDiff.Dual{ForwardDiff.Tag{DiffEqBase.OrdinaryDiffEqTag, ComplexF64}, ComplexF64, 1}}}, SciMLBase.NullParameters, ForwardDiff.Dual{ForwardDiff.Tag{DiffEqBase.OrdinaryDiffEqTag, ComplexF64}, ComplexF64, 1}}}}, false}, UniformScaling{Bool}, Nothing, Nothing, Nothing, Nothing, Nothing, Nothing, Nothing, Nothing, Nothing, Nothing, Nothing, typeof(SciMLBase.DEFAULT_OBSERVED), Nothing, Nothing, Nothing, Nothing}, Base.Pairs{Symbol, Any, NTuple{4, Symbol}, @NamedTuple{callback::ContinuousCallback{BackAction.JumpCondition, BackAction._LindbladJump_Monitoring{ComplexF64, Float64, Int64}, BackAction._LindbladJump_Monitoring{ComplexF64, Float64, Int64}, typeof(SciMLBase.INITIALIZE_DEFAULT), typeof(SciMLBase.FINALIZE_DEFAULT), Float64, Int64, Rational{Int64}, Nothing, Nothing, Int64}, save_on::Bool, save_start::Bool, save_end::Bool}}, SciMLBase.StandardODEProblem}, Tsit5{typeof(OrdinaryDiffEqCore.trivial_limiter!), typeof(OrdinaryDiffEqCore.trivial_limiter!), Static.False}, OrdinaryDiffEqCore.InterpolationData{ODEFunction{true, SciMLBase.AutoSpecialize, FunctionWrappersWrappers.FunctionWrappersWrapper{Tuple{FunctionWrappers.FunctionWrapper{Nothing, Tuple{Vector{ComplexF64}, Vector{ComplexF64}, SciMLBase.NullParameters, Float64}}, FunctionWrappers.FunctionWrapper{Nothing, Tuple{Vector{Complex{ForwardDiff.Dual{ForwardDiff.Tag{DiffEqBase.OrdinaryDiffEqTag, ComplexF64}, ComplexF64, 1}}}, Vector{Complex{ForwardDiff.Dual{ForwardDiff.Tag{DiffEqBase.OrdinaryDiffEqTag, ComplexF64}, ComplexF64, 1}}}, SciMLBase.NullParameters, Float64}}, FunctionWrappers.FunctionWrapper{Nothing, Tuple{Vector{Complex{ForwardDiff.Dual{ForwardDiff.Tag{DiffEqBase.OrdinaryDiffEqTag, ComplexF64}, ComplexF64, 1}}}, Vector{ComplexF64}, SciMLBase.NullParameters, ForwardDiff.Dual{ForwardDiff.Tag{DiffEqBase.OrdinaryDiffEqTag, ComplexF64}, ComplexF64, 1}}}, FunctionWrappers.FunctionWrapper{Nothing, Tuple{Vector{Complex{ForwardDiff.Dual{ForwardDiff.Tag{DiffEqBase.OrdinaryDiffEqTag, ComplexF64}, ComplexF64, 1}}}, Vector{Complex{ForwardDiff.Dual{ForwardDiff.Tag{DiffEqBase.OrdinaryDiffEqTag, ComplexF64}, ComplexF64, 1}}}, SciMLBase.NullParameters, ForwardDiff.Dual{ForwardDiff.Tag{DiffEqBase.OrdinaryDiffEqTag, ComplexF64}, ComplexF64, 1}}}}, false}, UniformScaling{Bool}, Nothing, Nothing, Nothing, Nothing, Nothing, Nothing, Nothing, Nothing, Nothing, Nothing, Nothing, typeof(SciMLBase.DEFAULT_OBSERVED), Nothing, Nothing, Nothing, Nothing}, Vector{Vector{ComplexF64}}, Vector{Float64}, Vector{Vector{Vector{ComplexF64}}}, Nothing, OrdinaryDiffEqTsit5.Tsit5Cache{Vector{ComplexF64}, Vector{ComplexF64}, Vector{ComplexF64}, typeof(OrdinaryDiffEqCore.trivial_limiter!), typeof(OrdinaryDiffEqCore.trivial_limiter!), Static.False}, Nothing}, SciMLBase.DEStats, Nothing, Nothing, Nothing, Nothing}"
      ]
     },
     "execution_count": 16,
     "metadata": {},
     "output_type": "execute_result"
    }
   ],
   "source": [
    "@time begin\n",
    "    sim = get_sol_jumps_monitoring(dtheta, dLs, He_forward, He_backward, sys, params_simul, tspan; \n",
    "                                    save_on=false, save_start=false, save_end=true);\n",
    "end"
   ]
  },
  {
   "cell_type": "code",
   "execution_count": 17,
   "id": "4ebfc39a-75fc-4228-bd5c-a638255da047",
   "metadata": {},
   "outputs": [
    {
     "data": {
      "text/plain": [
       "calculate_fi (generic function with 1 method)"
      ]
     },
     "execution_count": 17,
     "metadata": {},
     "output_type": "execute_result"
    }
   ],
   "source": [
    "function calculate_fi(ensol)\n",
    "    aux = 0.0\n",
    "    for sol in ensol \n",
    "        psi = sol.u[end]/norm(sol.u[end])\n",
    "        phi = sol.prob.kwargs[:callback].affect!.cache_phi\n",
    "        aux = aux + (2*real(dot(psi, phi)))^2\n",
    "    end \n",
    "    return aux/length(ensol)\n",
    "end "
   ]
  },
  {
   "cell_type": "code",
   "execution_count": 18,
   "id": "60bcdac1-d1eb-40d9-989b-e8ea69d34420",
   "metadata": {},
   "outputs": [
    {
     "data": {
      "text/plain": [
       "33.022511381598136"
      ]
     },
     "execution_count": 18,
     "metadata": {},
     "output_type": "execute_result"
    }
   ],
   "source": [
    "calculate_fi(sim)"
   ]
  },
  {
   "cell_type": "code",
   "execution_count": 20,
   "id": "542bc56c-9127-43e9-a3d4-401d36f214dc",
   "metadata": {},
   "outputs": [
    {
     "data": {
      "text/plain": [
       "34.5"
      ]
     },
     "execution_count": 20,
     "metadata": {},
     "output_type": "execute_result"
    }
   ],
   "source": [
    "FI_GAMMELMARK[1]*300"
   ]
  }
 ],
 "metadata": {
  "kernelspec": {
   "display_name": "Julia 1.10.8",
   "language": "julia",
   "name": "julia-1.10"
  },
  "language_info": {
   "file_extension": ".jl",
   "mimetype": "application/julia",
   "name": "julia",
   "version": "1.10.8"
  }
 },
 "nbformat": 4,
 "nbformat_minor": 5
}
