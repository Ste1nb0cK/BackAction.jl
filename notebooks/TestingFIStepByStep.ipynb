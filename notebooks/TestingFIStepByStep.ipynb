{
 "cells": [
  {
   "cell_type": "code",
   "execution_count": 1,
   "id": "64e34ac6-eb9e-4e77-b918-353efda4ca17",
   "metadata": {},
   "outputs": [
    {
     "name": "stderr",
     "output_type": "stream",
     "text": [
      "\u001b[32m\u001b[1m  Activating\u001b[22m\u001b[39m project at `~/Documents/Research/MonitoringMetrology/BackAction.jl/notebooks`\n",
      "\u001b[32m\u001b[1m  No Changes\u001b[22m\u001b[39m to `~/Documents/Research/MonitoringMetrology/BackAction.jl/notebooks/Project.toml`\n",
      "\u001b[32m\u001b[1m  No Changes\u001b[22m\u001b[39m to `~/Documents/Research/MonitoringMetrology/BackAction.jl/notebooks/Manifest.toml`\n"
     ]
    }
   ],
   "source": [
    "############# MAINLY FOR COLAB\n",
    "import Pkg\n",
    "Pkg.activate(\"./\")\n",
    "Pkg.develop(\"BackAction\")\n",
    "Pkg.instantiate()\n",
    "Pkg.add()"
   ]
  },
  {
   "cell_type": "code",
   "execution_count": 16,
   "id": "91e10c92-edc7-4f96-85e4-4c1fdebbbe34",
   "metadata": {},
   "outputs": [],
   "source": [
    "using Plots, LinearAlgebra, BackAction"
   ]
  },
  {
   "cell_type": "code",
   "execution_count": 2,
   "id": "a2810fce-25a7-4142-8dbb-9479b1ccbb34",
   "metadata": {},
   "outputs": [],
   "source": [
    "const DELTA_GAMMELMARK::Vector{Float64} = 0.2/0.478 * [0.146,0.262,0.383,0.511,0.648,0.806,0.965,1.118,1.287,1.438,1.596,\n",
    "               1.755,1.888, 2.057, 2.206, 2.381, 2.539, 2.682, 2.865, 3.013, 3.174, 3.334, 3.452]\n",
    "const FI_GAMMELMARK::Vector{Float64} = [0.115, 0.221, 0.338, 0.425, 0.507, 0.557, 0.573, 0.566, 0.532, 0.494,\n",
    "                   0.448, 0.403, 0.363, 0.318, 0.281, 0.241, 0.210, 0.186, 0.156, 0.137, 0.115, 0.101, 0.09348];"
   ]
  },
  {
   "cell_type": "code",
   "execution_count": 3,
   "id": "7e96ca25-7954-48cf-befc-5f451063b8c3",
   "metadata": {},
   "outputs": [
    {
     "data": {
      "text/plain": [
       "0.5"
      ]
     },
     "execution_count": 3,
     "metadata": {},
     "output_type": "execute_result"
    }
   ],
   "source": [
    "const NCHANNELS0::Int64 = 1\n",
    "#const NCHANNELS::Int64 = 1\n",
    "const NLEVELS::Int64 = 2\n",
    "const OMEGA = 1.0\n",
    "const GAMMA = 0.5"
   ]
  },
  {
   "cell_type": "code",
   "execution_count": 4,
   "id": "e8fba0b3-f515-46a0-b1a8-f5fe026611c0",
   "metadata": {
    "jupyter": {
     "source_hidden": true
    }
   },
   "outputs": [
    {
     "data": {
      "text/plain": [
       "get_random_unraveling (generic function with 1 method)"
      ]
     },
     "execution_count": 4,
     "metadata": {},
     "output_type": "execute_result"
    }
   ],
   "source": [
    "# Set up the unravelings\n",
    "function sample_c2(seed)\n",
    "    theta = pi*rand()\n",
    "    phi = 2*pi*rand()\n",
    "    return [cos(theta*0.5); exp(1im*phi)*sin(theta*0.5)] \n",
    "end\n",
    "function get_random_unraveling(seed)\n",
    "    Random.seed!(seed)\n",
    "    T = sample_c2(seed) \n",
    "    T = reshape(T/norm(T), 2,1)\n",
    "    T_curvy = [real(T[1]) imag(T[1]); real(T[2]) imag(T[2]) ]\n",
    "    F = svd(T_curvy) # Factorization object\n",
    "    P = F.V * Diagonal(F.S) * F.Vt\n",
    "    O = F.U * F.Vt\n",
    "    T_curvy_dyne = O' * T_curvy\n",
    "    T_dyne = O' * real.(T) + 1im * O' * imag.(T)\n",
    "    Ta = T \n",
    "    Tb = T_dyne \n",
    "    Tc = T_dyne \n",
    "    Ts = Dict([(\"a\", Ta), (\"b\", Tb), (\"c\", Tc)]) # Dictionary with the Ts\n",
    "    alpha0 = [0.5 + 0im; 0.5 + 0im] \n",
    "    alphas = Dict([(\"a\", alpha0), (\"b\", alpha0), (\"c\", O' * alpha0)]) # Dictionary with the alphas\n",
    "\n",
    "    return Ts, alphas\n",
    "end\n"
   ]
  },
  {
   "cell_type": "code",
   "execution_count": 17,
   "id": "73ca83a3-d007-4d8a-bb2b-3b14faf864aa",
   "metadata": {},
   "outputs": [
    {
     "data": {
      "text/plain": [
       "evaluate_and_fill_Ls! (generic function with 1 method)"
      ]
     },
     "execution_count": 17,
     "metadata": {},
     "output_type": "execute_result"
    }
   ],
   "source": [
    "# Base parametric operators\n",
    "\n",
    "L0 = d -> sqrt(GAMMA) * BackAction.sigma_m\n",
    "H0 = d -> d*[[0, 0] [0, 1.0+0im]]  + 0.5*OMEGA*BackAction.sigma_x \n",
    "\n",
    "# Unraveling parametrix operators\n",
    "function obtain_parametric_unraveling_operators(T::Matrix{T1}, alpha::Vector{T1}) where {T1<:Complex}\n",
    "    # First do the unitary mixing \n",
    "    Ls_mixed = BackAction.isometric_mixing([L0], T, NLEVELS, size(T)[1])\n",
    "    H = BackAction.add_cfield_hamiltonian_correctionterm(H0, Ls_mixed, alpha, NLEVELS)\n",
    "    Ls_mixed_cfield = BackAction.add_cfields(Ls_mixed, alpha, NLEVELS)\n",
    "    He = BackAction.get_Heff(H, Ls_mixed_cfield, NLEVELS)\n",
    "    return Ls_mixed_cfield, H, He\n",
    "end\n",
    "\n",
    "#function evaluate_and_fill_Ls!(Ls::Vector{TJ}, theta::T2,\n",
    "#        Ls_store::Array{T1}, nchannels::T3) where {T1<:Complex, T2<:Real, T3<:Int,TJ<:Function} \n",
    "#    for k in nchannels\n",
    "#       Ls_store[:,:, k] .= Ls[k](theta) \n",
    "#    end \n",
    "#end "
   ]
  },
  {
   "cell_type": "code",
   "execution_count": 18,
   "id": "4ebfc39a-75fc-4228-bd5c-a638255da047",
   "metadata": {},
   "outputs": [
    {
     "data": {
      "text/plain": [
       "calculate_fi (generic function with 1 method)"
      ]
     },
     "execution_count": 18,
     "metadata": {},
     "output_type": "execute_result"
    }
   ],
   "source": [
    "function calculate_fi(ensol)\n",
    "    avg = 0.0\n",
    "    for sol in ensol \n",
    "        psi = sol.u[end]/norm(sol.u[end])\n",
    "        phi = sol.prob.kwargs[:callback].affect!.cache_phi\n",
    "        avg = avg + (2*real(dot(psi, phi)))^2\n",
    "    end\n",
    "    return avg/length(ensol) \n",
    "end "
   ]
  },
  {
   "cell_type": "code",
   "execution_count": 21,
   "id": "0d2adc57-f8c0-4ca7-8411-11b41764811a",
   "metadata": {},
   "outputs": [
    {
     "data": {
      "text/plain": [
       "FisherInformationRoutine (generic function with 2 methods)"
      ]
     },
     "execution_count": 21,
     "metadata": {},
     "output_type": "execute_result"
    }
   ],
   "source": [
    "function FisherInformationRoutine(theta::T2, dtheta::T2, tf::T2, T::Matrix{T1}, alpha::Vector{T1}, nchannels::T3,\n",
    "        Ls::Array{T1}, dLs::Array{T1}, ntraj::T3) where {T1<:Complex, T2<:Real, T3<:Int}\n",
    "    \n",
    "    params_simul = BackAction.SimulParameters([0.0+0im, 1.0],\n",
    "        tf, # Final time. Set very long so that all trajectories jump\n",
    "        1, # seed\n",
    "        ntraj, # Number of trajectories\n",
    "        # GILLIPSIE STUFF \n",
    "        75_000, 3.0, 1e-3 )\n",
    "    tspan = (0.0, tf)\n",
    "    ## 1. define the T and alpha\n",
    "    #T = reshape([1.0+0im], 1,1) # MUST BE CONSISTENT WITH THE DIMENSIONS OF ALPHA\n",
    "    #alpha = [0.0+0im]\n",
    "    #nchannels = length(alpha)\n",
    "    ## 2. Obtain the parametrizations of Ls, H and He\n",
    "    Ls_par, H_par, He_par = obtain_parametric_unraveling_operators(T, alpha)\n",
    "    ## 3. Evaluate the parametrizations\n",
    "    ##Ls = Array{ComplexF64}(undef, NLEVELS, NLEVELS, nchannels)\n",
    "    #evaluate_and_fill_Ls!(Ls_par, delta, Ls, nchannels)\n",
    "    evaluate_and_fill_Ls_dLs(Ls_par, theta, Ls, dLs, nchannels)\n",
    "    ### 4. Initialzie the system\n",
    "    sys = System(H_par(theta), Ls, NLEVELS, nchannels)\n",
    "    ## Set up the derivatives of the jump operators\n",
    "    #dLs = Array{ComplexF64}(undef, NLEVELS, NLEVELS, nchannels)\n",
    "    #for k in 1:nchannels\n",
    "    #    ForwardDiff.derivative!(view(dLs, :, :, k), Ls_par[k], GAMMA)\n",
    "    #end\n",
    "    ## Information for the derivatives\n",
    "    #dtheta = delta/1000\n",
    "    He_forward = He_par(theta + 0.5*dtheta )\n",
    "    He_backward = He_par(theta - 0.5*dtheta)\n",
    "    #\n",
    "    sim = get_sol_jumps_monitoring(dtheta, dLs, He_forward, He_backward, sys, params_simul, tspan; \n",
    "                                    save_on=false, save_start=false, save_end=true)\n",
    "    return calculate_fi(sim)/tf\n",
    "end"
   ]
  },
  {
   "cell_type": "code",
   "execution_count": 24,
   "id": "9e170afb-6ed2-4d90-b1ac-c4648ccf0e18",
   "metadata": {},
   "outputs": [
    {
     "data": {
      "text/plain": [
       "0.11007503793866046"
      ]
     },
     "execution_count": 24,
     "metadata": {},
     "output_type": "execute_result"
    }
   ],
   "source": [
    "T = reshape([1.0+0im], 1,1) # MUST BE CONSISTENT WITH THE DIMENSIONS OF ALPHA\n",
    "alpha = [0.0+0im]\n",
    "nchannels = length(alpha)\n",
    "Ls = Array{ComplexF64}(undef, NLEVELS, NLEVELS, nchannels)\n",
    "dLs = Array{ComplexF64}(undef, NLEVELS, NLEVELS, nchannels)\n",
    "theta = DELTA_GAMMELMARK[1]\n",
    "dtheta = theta/1000\n",
    "tf = 300.0\n",
    "ntraj = 1_000\n",
    "\n",
    "FisherInformationRoutine(theta, dtheta,tf, T, alpha, nchannels, Ls, dLs, ntraj)"
   ]
  },
  {
   "cell_type": "code",
   "execution_count": 38,
   "id": "0d623891-6b8f-4ae3-998f-156628246c4c",
   "metadata": {},
   "outputs": [
    {
     "data": {
      "text/plain": [
       "1-element Vector{ComplexF64}:\n",
       " 0.0 + 0.0im"
      ]
     },
     "execution_count": 38,
     "metadata": {},
     "output_type": "execute_result"
    }
   ],
   "source": [
    "[alphas[1]+0.0im]"
   ]
  },
  {
   "cell_type": "code",
   "execution_count": 44,
   "id": "5be7fefe-46e0-4be6-b91b-ab28057ed4f4",
   "metadata": {},
   "outputs": [
    {
     "name": "stdout",
     "output_type": "stream",
     "text": [
      "0.0 + 0.0im\n",
      " 32.103846 seconds (789.80 M allocations: 25.197 GiB, 21.84% gc time)\n",
      "0.1 + 0.0im\n",
      " 31.254000 seconds (660.35 M allocations: 20.879 GiB, 20.13% gc time)\n",
      "0.2 + 0.0im\n",
      " 26.580335 seconds (596.67 M allocations: 18.996 GiB, 19.97% gc time)\n",
      "0.30000000000000004 + 0.0im\n",
      " 28.069359 seconds (640.26 M allocations: 20.610 GiB, 21.53% gc time)\n",
      "0.4 + 0.0im\n",
      " 35.652721 seconds (778.55 M allocations: 25.416 GiB, 21.19% gc time)\n",
      "0.5 + 0.0im\n",
      " 44.618544 seconds (979.45 M allocations: 32.549 GiB, 20.86% gc time)\n",
      "0.6000000000000001 + 0.0im\n",
      " 57.479770 seconds (1.24 G allocations: 41.875 GiB, 20.85% gc time)\n",
      "0.7000000000000001 + 0.0im\n",
      " 68.741493 seconds (1.55 G allocations: 53.464 GiB, 21.37% gc time)\n",
      "0.8 + 0.0im\n",
      " 82.527913 seconds (1.92 G allocations: 67.155 GiB, 22.00% gc time)\n",
      "0.9 + 0.0im\n",
      "102.786687 seconds (2.35 G allocations: 83.197 GiB, 21.99% gc time)\n",
      "1.0 + 0.0im\n",
      "144.962638 seconds (2.84 G allocations: 101.803 GiB, 20.40% gc time)\n",
      "1.1 + 0.0im\n",
      "202.954294 seconds (3.40 G allocations: 122.861 GiB, 20.46% gc time)\n",
      "1.2000000000000002 + 0.0im\n",
      "230.088421 seconds (4.03 G allocations: 146.411 GiB, 21.48% gc time)\n",
      "1.3 + 0.0im\n",
      "250.991189 seconds (4.72 G allocations: 172.266 GiB, 21.87% gc time)\n",
      "1.4000000000000001 + 0.0im\n",
      "289.664733 seconds (5.47 G allocations: 200.475 GiB, 22.03% gc time)\n",
      "1.5 + 0.0im\n",
      "333.721450 seconds (6.29 G allocations: 231.094 GiB, 22.39% gc time)\n",
      "1.6 + 0.0im\n",
      "382.436075 seconds (7.16 G allocations: 264.132 GiB, 22.37% gc time)\n",
      "1.7000000000000002 + 0.0im\n",
      "439.592366 seconds (8.10 G allocations: 299.485 GiB, 22.61% gc time)\n",
      "1.8 + 0.0im\n",
      "486.140515 seconds (9.10 G allocations: 336.962 GiB, 22.76% gc time)\n",
      "1.9000000000000001 + 0.0im\n",
      "548.087418 seconds (10.16 G allocations: 376.658 GiB, 22.75% gc time)\n",
      "3818.535508 seconds (72.75 G allocations: 2.580 TiB, 22.08% gc time, 0.00% compilation time)\n"
     ]
    }
   ],
   "source": [
    "ndeltas = length(DELTA_GAMMELMARK)\n",
    "nalphas = 20\n",
    "alphamax = 2.0 + 0.0im\n",
    "dalphas = alphamax/nalphas\n",
    "alphas = [dalphas*m for m in 0:nalphas]\n",
    "myfi = Array{Float64}(undef, ndeltas, nalphas)\n",
    "@time begin\n",
    "    for k in 1:nalphas\n",
    "        println(alphas[k])\n",
    "    @time begin\n",
    "            for n in 1:ndeltas\n",
    "               myfi[n, k] = FisherInformationRoutine(DELTA_GAMMELMARK[n], DELTA_GAMMELMARK[n]/1000, tf, T, [alphas[k]], nchannels, Ls, dLs, ntraj) \n",
    "            end \n",
    "        end\n",
    "    end\n",
    "end"
   ]
  },
  {
   "cell_type": "code",
   "execution_count": 62,
   "id": "08e868c1-288f-4cb7-bc63-864449310a22",
   "metadata": {},
   "outputs": [
    {
     "data": {
      "image/png": "[encoded data removed]",
      "image/svg+xml": [
       "<?xml version=\"1.0\" encoding=\"utf-8\"?>\n",
       "<svg xmlns=\"http://www.w3.org/2000/svg\" xmlns:xlink=\"http://www.w3.org/1999/xlink\" width=\"600\" height=\"400\" viewBox=\"0 0 2400 1600\">\n",
       "<defs>\n",
       "  <clipPath id=\"clip880\">\n",
       "    <rect x=\"0\" y=\"0\" width=\"2400\" height=\"1600\"/>\n",
       "  </clipPath>\n",
       "</defs>\n",
       "<path clip-path=\"url(#clip880)\" d=\"M0 1600 L2400 1600 L2400 0 L0 0  Z\" fill=\"#ffffff\" fill-rule=\"evenodd\" fill-opacity=\"1\"/>\n",
       "<defs>\n",
       "  <clipPath id=\"clip881\">\n",
       "    <rect x=\"480\" y=\"0\" width=\"1681\" height=\"1600\"/>\n",
       "  </clipPath>\n",
       "</defs>\n",
       "<path clip-path=\"url(#clip880)\" d=\"M156.598 1486.45 L2352.76 1486.45 L2352.76 47.2441 L156.598 47.2441  Z\" fill=\"#ffffff\" fill-rule=\"evenodd\" fill-opacity=\"1\"/>\n",
       "<defs>\n",
       "  <clipPath id=\"clip882\">\n",
       "    <rect x=\"156\" y=\"47\" width=\"2197\" height=\"1440\"/>\n",
       "  </clipPath>\n",
       "</defs>\n",
       "<polyline clip-path=\"url(#clip882)\" style=\"stroke:#000000; stroke-linecap:round; stroke-linejoin:round; stroke-width:2; stroke-opacity:0.1; fill:none\" points=\"501.706,1486.45 501.706,47.2441 \"/>\n",
       "<polyline clip-path=\"url(#clip882)\" style=\"stroke:#000000; stroke-linecap:round; stroke-linejoin:round; stroke-width:2; stroke-opacity:0.1; fill:none\" points=\"876.155,1486.45 876.155,47.2441 \"/>\n",
       "<polyline clip-path=\"url(#clip882)\" style=\"stroke:#000000; stroke-linecap:round; stroke-linejoin:round; stroke-width:2; stroke-opacity:0.1; fill:none\" points=\"1250.6,1486.45 1250.6,47.2441 \"/>\n",
       "<polyline clip-path=\"url(#clip882)\" style=\"stroke:#000000; stroke-linecap:round; stroke-linejoin:round; stroke-width:2; stroke-opacity:0.1; fill:none\" points=\"1625.05,1486.45 1625.05,47.2441 \"/>\n",
       "<polyline clip-path=\"url(#clip882)\" style=\"stroke:#000000; stroke-linecap:round; stroke-linejoin:round; stroke-width:2; stroke-opacity:0.1; fill:none\" points=\"1999.5,1486.45 1999.5,47.2441 \"/>\n",
       "<polyline clip-path=\"url(#clip882)\" style=\"stroke:#000000; stroke-linecap:round; stroke-linejoin:round; stroke-width:2; stroke-opacity:0.1; fill:none\" points=\"156.598,1420.7 2352.76,1420.7 \"/>\n",
       "<polyline clip-path=\"url(#clip882)\" style=\"stroke:#000000; stroke-linecap:round; stroke-linejoin:round; stroke-width:2; stroke-opacity:0.1; fill:none\" points=\"156.598,1062.64 2352.76,1062.64 \"/>\n",
       "<polyline clip-path=\"url(#clip882)\" style=\"stroke:#000000; stroke-linecap:round; stroke-linejoin:round; stroke-width:2; stroke-opacity:0.1; fill:none\" points=\"156.598,704.588 2352.76,704.588 \"/>\n",
       "<polyline clip-path=\"url(#clip882)\" style=\"stroke:#000000; stroke-linecap:round; stroke-linejoin:round; stroke-width:2; stroke-opacity:0.1; fill:none\" points=\"156.598,346.534 2352.76,346.534 \"/>\n",
       "<polyline clip-path=\"url(#clip880)\" style=\"stroke:#000000; stroke-linecap:round; stroke-linejoin:round; stroke-width:4; stroke-opacity:1; fill:none\" points=\"156.598,1486.45 2352.76,1486.45 \"/>\n",
       "<polyline clip-path=\"url(#clip880)\" style=\"stroke:#000000; stroke-linecap:round; stroke-linejoin:round; stroke-width:4; stroke-opacity:1; fill:none\" points=\"501.706,1486.45 501.706,1467.55 \"/>\n",
       "<polyline clip-path=\"url(#clip880)\" style=\"stroke:#000000; stroke-linecap:round; stroke-linejoin:round; stroke-width:4; stroke-opacity:1; fill:none\" points=\"876.155,1486.45 876.155,1467.55 \"/>\n",
       "<polyline clip-path=\"url(#clip880)\" style=\"stroke:#000000; stroke-linecap:round; stroke-linejoin:round; stroke-width:4; stroke-opacity:1; fill:none\" points=\"1250.6,1486.45 1250.6,1467.55 \"/>\n",
       "<polyline clip-path=\"url(#clip880)\" style=\"stroke:#000000; stroke-linecap:round; stroke-linejoin:round; stroke-width:4; stroke-opacity:1; fill:none\" points=\"1625.05,1486.45 1625.05,1467.55 \"/>\n",
       "<polyline clip-path=\"url(#clip880)\" style=\"stroke:#000000; stroke-linecap:round; stroke-linejoin:round; stroke-width:4; stroke-opacity:1; fill:none\" points=\"1999.5,1486.45 1999.5,1467.55 \"/>\n",
       "<path clip-path=\"url(#clip880)\" d=\"M464.507 1517.37 Q460.896 1517.37 459.067 1520.93 Q457.261 1524.47 457.261 1531.6 Q457.261 1538.71 459.067 1542.27 Q460.896 1545.82 464.507 1545.82 Q468.141 1545.82 469.946 1542.27 Q471.775 1538.71 471.775 1531.6 Q471.775 1524.47 469.946 1520.93 Q468.141 1517.37 464.507 1517.37 M464.507 1513.66 Q470.317 1513.66 473.372 1518.27 Q476.451 1522.85 476.451 1531.6 Q476.451 1540.33 473.372 1544.94 Q470.317 1549.52 464.507 1549.52 Q458.696 1549.52 455.618 1544.94 Q452.562 1540.33 452.562 1531.6 Q452.562 1522.85 455.618 1518.27 Q458.696 1513.66 464.507 1513.66 Z\" fill=\"#000000\" fill-rule=\"nonzero\" fill-opacity=\"1\" /><path clip-path=\"url(#clip880)\" d=\"M484.669 1542.97 L489.553 1542.97 L489.553 1548.85 L484.669 1548.85 L484.669 1542.97 Z\" fill=\"#000000\" fill-rule=\"nonzero\" fill-opacity=\"1\" /><path clip-path=\"url(#clip880)\" d=\"M503.766 1544.91 L520.085 1544.91 L520.085 1548.85 L498.141 1548.85 L498.141 1544.91 Q500.803 1542.16 505.386 1537.53 Q509.992 1532.88 511.173 1531.53 Q513.418 1529.01 514.298 1527.27 Q515.201 1525.51 515.201 1523.82 Q515.201 1521.07 513.256 1519.33 Q511.335 1517.6 508.233 1517.6 Q506.034 1517.6 503.58 1518.36 Q501.15 1519.13 498.372 1520.68 L498.372 1515.95 Q501.196 1514.82 503.65 1514.24 Q506.104 1513.66 508.141 1513.66 Q513.511 1513.66 516.705 1516.35 Q519.9 1519.03 519.9 1523.52 Q519.9 1525.65 519.09 1527.57 Q518.303 1529.47 516.196 1532.07 Q515.617 1532.74 512.516 1535.95 Q509.414 1539.15 503.766 1544.91 Z\" fill=\"#000000\" fill-rule=\"nonzero\" fill-opacity=\"1\" /><path clip-path=\"url(#clip880)\" d=\"M529.946 1514.29 L548.302 1514.29 L548.302 1518.22 L534.228 1518.22 L534.228 1526.7 Q535.247 1526.35 536.266 1526.19 Q537.284 1526 538.303 1526 Q544.09 1526 547.469 1529.17 Q550.849 1532.34 550.849 1537.76 Q550.849 1543.34 547.377 1546.44 Q543.904 1549.52 537.585 1549.52 Q535.409 1549.52 533.141 1549.15 Q530.895 1548.78 528.488 1548.04 L528.488 1543.34 Q530.571 1544.47 532.793 1545.03 Q535.016 1545.58 537.492 1545.58 Q541.497 1545.58 543.835 1543.48 Q546.173 1541.37 546.173 1537.76 Q546.173 1534.15 543.835 1532.04 Q541.497 1529.94 537.492 1529.94 Q535.617 1529.94 533.742 1530.35 Q531.891 1530.77 529.946 1531.65 L529.946 1514.29 Z\" fill=\"#000000\" fill-rule=\"nonzero\" fill-opacity=\"1\" /><path clip-path=\"url(#clip880)\" d=\"M838.458 1517.37 Q834.847 1517.37 833.018 1520.93 Q831.213 1524.47 831.213 1531.6 Q831.213 1538.71 833.018 1542.27 Q834.847 1545.82 838.458 1545.82 Q842.092 1545.82 843.898 1542.27 Q845.726 1538.71 845.726 1531.6 Q845.726 1524.47 843.898 1520.93 Q842.092 1517.37 838.458 1517.37 M838.458 1513.66 Q844.268 1513.66 847.324 1518.27 Q850.402 1522.85 850.402 1531.6 Q850.402 1540.33 847.324 1544.94 Q844.268 1549.52 838.458 1549.52 Q832.648 1549.52 829.569 1544.94 Q826.514 1540.33 826.514 1531.6 Q826.514 1522.85 829.569 1518.27 Q832.648 1513.66 838.458 1513.66 Z\" fill=\"#000000\" fill-rule=\"nonzero\" fill-opacity=\"1\" /><path clip-path=\"url(#clip880)\" d=\"M858.62 1542.97 L863.504 1542.97 L863.504 1548.85 L858.62 1548.85 L858.62 1542.97 Z\" fill=\"#000000\" fill-rule=\"nonzero\" fill-opacity=\"1\" /><path clip-path=\"url(#clip880)\" d=\"M873.736 1514.29 L892.092 1514.29 L892.092 1518.22 L878.018 1518.22 L878.018 1526.7 Q879.036 1526.35 880.055 1526.19 Q881.073 1526 882.092 1526 Q887.879 1526 891.259 1529.17 Q894.638 1532.34 894.638 1537.76 Q894.638 1543.34 891.166 1546.44 Q887.694 1549.52 881.374 1549.52 Q879.198 1549.52 876.93 1549.15 Q874.685 1548.78 872.277 1548.04 L872.277 1543.34 Q874.361 1544.47 876.583 1545.03 Q878.805 1545.58 881.282 1545.58 Q885.286 1545.58 887.624 1543.48 Q889.962 1541.37 889.962 1537.76 Q889.962 1534.15 887.624 1532.04 Q885.286 1529.94 881.282 1529.94 Q879.407 1529.94 877.532 1530.35 Q875.68 1530.77 873.736 1531.65 L873.736 1514.29 Z\" fill=\"#000000\" fill-rule=\"nonzero\" fill-opacity=\"1\" /><path clip-path=\"url(#clip880)\" d=\"M913.851 1517.37 Q910.24 1517.37 908.411 1520.93 Q906.606 1524.47 906.606 1531.6 Q906.606 1538.71 908.411 1542.27 Q910.24 1545.82 913.851 1545.82 Q917.485 1545.82 919.291 1542.27 Q921.12 1538.71 921.12 1531.6 Q921.12 1524.47 919.291 1520.93 Q917.485 1517.37 913.851 1517.37 M913.851 1513.66 Q919.661 1513.66 922.717 1518.27 Q925.795 1522.85 925.795 1531.6 Q925.795 1540.33 922.717 1544.94 Q919.661 1549.52 913.851 1549.52 Q908.041 1549.52 904.962 1544.94 Q901.907 1540.33 901.907 1531.6 Q901.907 1522.85 904.962 1518.27 Q908.041 1513.66 913.851 1513.66 Z\" fill=\"#000000\" fill-rule=\"nonzero\" fill-opacity=\"1\" /><path clip-path=\"url(#clip880)\" d=\"M1213.4 1517.37 Q1209.79 1517.37 1207.96 1520.93 Q1206.16 1524.47 1206.16 1531.6 Q1206.16 1538.71 1207.96 1542.27 Q1209.79 1545.82 1213.4 1545.82 Q1217.04 1545.82 1218.84 1542.27 Q1220.67 1538.71 1220.67 1531.6 Q1220.67 1524.47 1218.84 1520.93 Q1217.04 1517.37 1213.4 1517.37 M1213.4 1513.66 Q1219.21 1513.66 1222.27 1518.27 Q1225.35 1522.85 1225.35 1531.6 Q1225.35 1540.33 1222.27 1544.94 Q1219.21 1549.52 1213.4 1549.52 Q1207.59 1549.52 1204.52 1544.94 Q1201.46 1540.33 1201.46 1531.6 Q1201.46 1522.85 1204.52 1518.27 Q1207.59 1513.66 1213.4 1513.66 Z\" fill=\"#000000\" fill-rule=\"nonzero\" fill-opacity=\"1\" /><path clip-path=\"url(#clip880)\" d=\"M1233.57 1542.97 L1238.45 1542.97 L1238.45 1548.85 L1233.57 1548.85 L1233.57 1542.97 Z\" fill=\"#000000\" fill-rule=\"nonzero\" fill-opacity=\"1\" /><path clip-path=\"url(#clip880)\" d=\"M1247.46 1514.29 L1269.68 1514.29 L1269.68 1516.28 L1257.13 1548.85 L1252.25 1548.85 L1264.05 1518.22 L1247.46 1518.22 L1247.46 1514.29 Z\" fill=\"#000000\" fill-rule=\"nonzero\" fill-opacity=\"1\" /><path clip-path=\"url(#clip880)\" d=\"M1278.84 1514.29 L1297.2 1514.29 L1297.2 1518.22 L1283.13 1518.22 L1283.13 1526.7 Q1284.15 1526.35 1285.16 1526.19 Q1286.18 1526 1287.2 1526 Q1292.99 1526 1296.37 1529.17 Q1299.75 1532.34 1299.75 1537.76 Q1299.75 1543.34 1296.27 1546.44 Q1292.8 1549.52 1286.48 1549.52 Q1284.31 1549.52 1282.04 1549.15 Q1279.79 1548.78 1277.39 1548.04 L1277.39 1543.34 Q1279.47 1544.47 1281.69 1545.03 Q1283.91 1545.58 1286.39 1545.58 Q1290.4 1545.58 1292.73 1543.48 Q1295.07 1541.37 1295.07 1537.76 Q1295.07 1534.15 1292.73 1532.04 Q1290.4 1529.94 1286.39 1529.94 Q1284.52 1529.94 1282.64 1530.35 Q1280.79 1530.77 1278.84 1531.65 L1278.84 1514.29 Z\" fill=\"#000000\" fill-rule=\"nonzero\" fill-opacity=\"1\" /><path clip-path=\"url(#clip880)\" d=\"M1577.12 1544.91 L1584.76 1544.91 L1584.76 1518.55 L1576.45 1520.21 L1576.45 1515.95 L1584.72 1514.29 L1589.39 1514.29 L1589.39 1544.91 L1597.03 1544.91 L1597.03 1548.85 L1577.12 1548.85 L1577.12 1544.91 Z\" fill=\"#000000\" fill-rule=\"nonzero\" fill-opacity=\"1\" /><path clip-path=\"url(#clip880)\" d=\"M1606.48 1542.97 L1611.36 1542.97 L1611.36 1548.85 L1606.48 1548.85 L1606.48 1542.97 Z\" fill=\"#000000\" fill-rule=\"nonzero\" fill-opacity=\"1\" /><path clip-path=\"url(#clip880)\" d=\"M1631.55 1517.37 Q1627.93 1517.37 1626.11 1520.93 Q1624.3 1524.47 1624.3 1531.6 Q1624.3 1538.71 1626.11 1542.27 Q1627.93 1545.82 1631.55 1545.82 Q1635.18 1545.82 1636.99 1542.27 Q1638.81 1538.71 1638.81 1531.6 Q1638.81 1524.47 1636.99 1520.93 Q1635.18 1517.37 1631.55 1517.37 M1631.55 1513.66 Q1637.36 1513.66 1640.41 1518.27 Q1643.49 1522.85 1643.49 1531.6 Q1643.49 1540.33 1640.41 1544.94 Q1637.36 1549.52 1631.55 1549.52 Q1625.74 1549.52 1622.66 1544.94 Q1619.6 1540.33 1619.6 1531.6 Q1619.6 1522.85 1622.66 1518.27 Q1625.74 1513.66 1631.55 1513.66 Z\" fill=\"#000000\" fill-rule=\"nonzero\" fill-opacity=\"1\" /><path clip-path=\"url(#clip880)\" d=\"M1661.71 1517.37 Q1658.1 1517.37 1656.27 1520.93 Q1654.46 1524.47 1654.46 1531.6 Q1654.46 1538.71 1656.27 1542.27 Q1658.1 1545.82 1661.71 1545.82 Q1665.34 1545.82 1667.15 1542.27 Q1668.98 1538.71 1668.98 1531.6 Q1668.98 1524.47 1667.15 1520.93 Q1665.34 1517.37 1661.71 1517.37 M1661.71 1513.66 Q1667.52 1513.66 1670.57 1518.27 Q1673.65 1522.85 1673.65 1531.6 Q1673.65 1540.33 1670.57 1544.94 Q1667.52 1549.52 1661.71 1549.52 Q1655.9 1549.52 1652.82 1544.94 Q1649.76 1540.33 1649.76 1531.6 Q1649.76 1522.85 1652.82 1518.27 Q1655.9 1513.66 1661.71 1513.66 Z\" fill=\"#000000\" fill-rule=\"nonzero\" fill-opacity=\"1\" /><path clip-path=\"url(#clip880)\" d=\"M1952.07 1544.91 L1959.71 1544.91 L1959.71 1518.55 L1951.4 1520.21 L1951.4 1515.95 L1959.66 1514.29 L1964.34 1514.29 L1964.34 1544.91 L1971.98 1544.91 L1971.98 1548.85 L1952.07 1548.85 L1952.07 1544.91 Z\" fill=\"#000000\" fill-rule=\"nonzero\" fill-opacity=\"1\" /><path clip-path=\"url(#clip880)\" d=\"M1981.42 1542.97 L1986.31 1542.97 L1986.31 1548.85 L1981.42 1548.85 L1981.42 1542.97 Z\" fill=\"#000000\" fill-rule=\"nonzero\" fill-opacity=\"1\" /><path clip-path=\"url(#clip880)\" d=\"M2000.52 1544.91 L2016.84 1544.91 L2016.84 1548.85 L1994.9 1548.85 L1994.9 1544.91 Q1997.56 1542.16 2002.14 1537.53 Q2006.75 1532.88 2007.93 1531.53 Q2010.17 1529.01 2011.05 1527.27 Q2011.96 1525.51 2011.96 1523.82 Q2011.96 1521.07 2010.01 1519.33 Q2008.09 1517.6 2004.99 1517.6 Q2002.79 1517.6 2000.33 1518.36 Q1997.9 1519.13 1995.13 1520.68 L1995.13 1515.95 Q1997.95 1514.82 2000.4 1514.24 Q2002.86 1513.66 2004.9 1513.66 Q2010.27 1513.66 2013.46 1516.35 Q2016.65 1519.03 2016.65 1523.52 Q2016.65 1525.65 2015.84 1527.57 Q2015.06 1529.47 2012.95 1532.07 Q2012.37 1532.74 2009.27 1535.95 Q2006.17 1539.15 2000.52 1544.91 Z\" fill=\"#000000\" fill-rule=\"nonzero\" fill-opacity=\"1\" /><path clip-path=\"url(#clip880)\" d=\"M2026.7 1514.29 L2045.06 1514.29 L2045.06 1518.22 L2030.98 1518.22 L2030.98 1526.7 Q2032 1526.35 2033.02 1526.19 Q2034.04 1526 2035.06 1526 Q2040.84 1526 2044.22 1529.17 Q2047.6 1532.34 2047.6 1537.76 Q2047.6 1543.34 2044.13 1546.44 Q2040.66 1549.52 2034.34 1549.52 Q2032.16 1549.52 2029.89 1549.15 Q2027.65 1548.78 2025.24 1548.04 L2025.24 1543.34 Q2027.33 1544.47 2029.55 1545.03 Q2031.77 1545.58 2034.25 1545.58 Q2038.25 1545.58 2040.59 1543.48 Q2042.93 1541.37 2042.93 1537.76 Q2042.93 1534.15 2040.59 1532.04 Q2038.25 1529.94 2034.25 1529.94 Q2032.37 1529.94 2030.5 1530.35 Q2028.64 1530.77 2026.7 1531.65 L2026.7 1514.29 Z\" fill=\"#000000\" fill-rule=\"nonzero\" fill-opacity=\"1\" /><polyline clip-path=\"url(#clip880)\" style=\"stroke:#000000; stroke-linecap:round; stroke-linejoin:round; stroke-width:4; stroke-opacity:1; fill:none\" points=\"156.598,1486.45 156.598,47.2441 \"/>\n",
       "<polyline clip-path=\"url(#clip880)\" style=\"stroke:#000000; stroke-linecap:round; stroke-linejoin:round; stroke-width:4; stroke-opacity:1; fill:none\" points=\"156.598,1420.7 175.496,1420.7 \"/>\n",
       "<polyline clip-path=\"url(#clip880)\" style=\"stroke:#000000; stroke-linecap:round; stroke-linejoin:round; stroke-width:4; stroke-opacity:1; fill:none\" points=\"156.598,1062.64 175.496,1062.64 \"/>\n",
       "<polyline clip-path=\"url(#clip880)\" style=\"stroke:#000000; stroke-linecap:round; stroke-linejoin:round; stroke-width:4; stroke-opacity:1; fill:none\" points=\"156.598,704.588 175.496,704.588 \"/>\n",
       "<polyline clip-path=\"url(#clip880)\" style=\"stroke:#000000; stroke-linecap:round; stroke-linejoin:round; stroke-width:4; stroke-opacity:1; fill:none\" points=\"156.598,346.534 175.496,346.534 \"/>\n",
       "<path clip-path=\"url(#clip880)\" d=\"M64.6495 1406.49 Q61.0384 1406.49 59.2097 1410.06 Q57.4041 1413.6 57.4041 1420.73 Q57.4041 1427.84 59.2097 1431.4 Q61.0384 1434.94 64.6495 1434.94 Q68.2837 1434.94 70.0892 1431.4 Q71.9179 1427.84 71.9179 1420.73 Q71.9179 1413.6 70.0892 1410.06 Q68.2837 1406.49 64.6495 1406.49 M64.6495 1402.79 Q70.4596 1402.79 73.5152 1407.4 Q76.5938 1411.98 76.5938 1420.73 Q76.5938 1429.46 73.5152 1434.06 Q70.4596 1438.65 64.6495 1438.65 Q58.8393 1438.65 55.7606 1434.06 Q52.7051 1429.46 52.7051 1420.73 Q52.7051 1411.98 55.7606 1407.4 Q58.8393 1402.79 64.6495 1402.79 Z\" fill=\"#000000\" fill-rule=\"nonzero\" fill-opacity=\"1\" /><path clip-path=\"url(#clip880)\" d=\"M84.8114 1432.1 L89.6956 1432.1 L89.6956 1437.98 L84.8114 1437.98 L84.8114 1432.1 Z\" fill=\"#000000\" fill-rule=\"nonzero\" fill-opacity=\"1\" /><path clip-path=\"url(#clip880)\" d=\"M100.691 1434.04 L108.33 1434.04 L108.33 1407.67 L100.02 1409.34 L100.02 1405.08 L108.283 1403.42 L112.959 1403.42 L112.959 1434.04 L120.598 1434.04 L120.598 1437.98 L100.691 1437.98 L100.691 1434.04 Z\" fill=\"#000000\" fill-rule=\"nonzero\" fill-opacity=\"1\" /><path clip-path=\"url(#clip880)\" d=\"M65.0198 1048.44 Q61.4087 1048.44 59.58 1052.01 Q57.7745 1055.55 57.7745 1062.68 Q57.7745 1069.78 59.58 1073.35 Q61.4087 1076.89 65.0198 1076.89 Q68.6541 1076.89 70.4596 1073.35 Q72.2883 1069.78 72.2883 1062.68 Q72.2883 1055.55 70.4596 1052.01 Q68.6541 1048.44 65.0198 1048.44 M65.0198 1044.74 Q70.83 1044.74 73.8855 1049.34 Q76.9642 1053.93 76.9642 1062.68 Q76.9642 1071.4 73.8855 1076.01 Q70.83 1080.59 65.0198 1080.59 Q59.2097 1080.59 56.131 1076.01 Q53.0754 1071.4 53.0754 1062.68 Q53.0754 1053.93 56.131 1049.34 Q59.2097 1044.74 65.0198 1044.74 Z\" fill=\"#000000\" fill-rule=\"nonzero\" fill-opacity=\"1\" /><path clip-path=\"url(#clip880)\" d=\"M85.1818 1074.04 L90.066 1074.04 L90.066 1079.92 L85.1818 1079.92 L85.1818 1074.04 Z\" fill=\"#000000\" fill-rule=\"nonzero\" fill-opacity=\"1\" /><path clip-path=\"url(#clip880)\" d=\"M104.279 1075.99 L120.598 1075.99 L120.598 1079.92 L98.6539 1079.92 L98.6539 1075.99 Q101.316 1073.23 105.899 1068.6 Q110.506 1063.95 111.686 1062.61 Q113.932 1060.08 114.811 1058.35 Q115.714 1056.59 115.714 1054.9 Q115.714 1052.14 113.77 1050.41 Q111.848 1048.67 108.746 1048.67 Q106.547 1048.67 104.094 1049.44 Q101.663 1050.2 98.8854 1051.75 L98.8854 1047.03 Q101.709 1045.89 104.163 1045.32 Q106.617 1044.74 108.654 1044.74 Q114.024 1044.74 117.219 1047.42 Q120.413 1050.11 120.413 1054.6 Q120.413 1056.73 119.603 1058.65 Q118.816 1060.55 116.709 1063.14 Q116.131 1063.81 113.029 1067.03 Q109.927 1070.22 104.279 1075.99 Z\" fill=\"#000000\" fill-rule=\"nonzero\" fill-opacity=\"1\" /><path clip-path=\"url(#clip880)\" d=\"M64.0708 690.387 Q60.4597 690.387 58.631 693.951 Q56.8254 697.493 56.8254 704.623 Q56.8254 711.729 58.631 715.294 Q60.4597 718.835 64.0708 718.835 Q67.705 718.835 69.5105 715.294 Q71.3392 711.729 71.3392 704.623 Q71.3392 697.493 69.5105 693.951 Q67.705 690.387 64.0708 690.387 M64.0708 686.683 Q69.8809 686.683 72.9365 691.289 Q76.0151 695.873 76.0151 704.623 Q76.0151 713.349 72.9365 717.956 Q69.8809 722.539 64.0708 722.539 Q58.2606 722.539 55.1819 717.956 Q52.1264 713.349 52.1264 704.623 Q52.1264 695.873 55.1819 691.289 Q58.2606 686.683 64.0708 686.683 Z\" fill=\"#000000\" fill-rule=\"nonzero\" fill-opacity=\"1\" /><path clip-path=\"url(#clip880)\" d=\"M84.2327 715.988 L89.1169 715.988 L89.1169 721.868 L84.2327 721.868 L84.2327 715.988 Z\" fill=\"#000000\" fill-rule=\"nonzero\" fill-opacity=\"1\" /><path clip-path=\"url(#clip880)\" d=\"M113.469 703.234 Q116.825 703.951 118.7 706.22 Q120.598 708.488 120.598 711.822 Q120.598 716.937 117.08 719.738 Q113.561 722.539 107.08 722.539 Q104.904 722.539 102.589 722.099 Q100.297 721.683 97.8437 720.826 L97.8437 716.312 Q99.7882 717.447 102.103 718.025 Q104.418 718.604 106.941 718.604 Q111.339 718.604 113.631 716.868 Q115.945 715.132 115.945 711.822 Q115.945 708.766 113.793 707.053 Q111.663 705.317 107.844 705.317 L103.816 705.317 L103.816 701.474 L108.029 701.474 Q111.478 701.474 113.307 700.109 Q115.135 698.72 115.135 696.127 Q115.135 693.465 113.237 692.053 Q111.362 690.618 107.844 690.618 Q105.922 690.618 103.723 691.035 Q101.524 691.451 98.8854 692.331 L98.8854 688.164 Q101.547 687.424 103.862 687.053 Q106.2 686.683 108.26 686.683 Q113.584 686.683 116.686 689.113 Q119.788 691.521 119.788 695.641 Q119.788 698.512 118.145 700.502 Q116.501 702.47 113.469 703.234 Z\" fill=\"#000000\" fill-rule=\"nonzero\" fill-opacity=\"1\" /><path clip-path=\"url(#clip880)\" d=\"M62.9365 332.333 Q59.3254 332.333 57.4967 335.897 Q55.6912 339.439 55.6912 346.569 Q55.6912 353.675 57.4967 357.24 Q59.3254 360.782 62.9365 360.782 Q66.5707 360.782 68.3763 357.24 Q70.205 353.675 70.205 346.569 Q70.205 339.439 68.3763 335.897 Q66.5707 332.333 62.9365 332.333 M62.9365 328.629 Q68.7467 328.629 71.8022 333.235 Q74.8809 337.819 74.8809 346.569 Q74.8809 355.295 71.8022 359.902 Q68.7467 364.485 62.9365 364.485 Q57.1264 364.485 54.0477 359.902 Q50.9921 355.295 50.9921 346.569 Q50.9921 337.819 54.0477 333.235 Q57.1264 328.629 62.9365 328.629 Z\" fill=\"#000000\" fill-rule=\"nonzero\" fill-opacity=\"1\" /><path clip-path=\"url(#clip880)\" d=\"M83.0984 357.934 L87.9827 357.934 L87.9827 363.814 L83.0984 363.814 L83.0984 357.934 Z\" fill=\"#000000\" fill-rule=\"nonzero\" fill-opacity=\"1\" /><path clip-path=\"url(#clip880)\" d=\"M111.015 333.328 L99.2095 351.777 L111.015 351.777 L111.015 333.328 M109.788 329.254 L115.668 329.254 L115.668 351.777 L120.598 351.777 L120.598 355.666 L115.668 355.666 L115.668 363.814 L111.015 363.814 L111.015 355.666 L95.4132 355.666 L95.4132 351.152 L109.788 329.254 Z\" fill=\"#000000\" fill-rule=\"nonzero\" fill-opacity=\"1\" /><circle clip-path=\"url(#clip882)\" cx=\"218.754\" cy=\"87.9763\" r=\"14.4\" fill=\"#009af9\" fill-rule=\"evenodd\" fill-opacity=\"1\" stroke=\"#000000\" stroke-opacity=\"1\" stroke-width=\"3.2\"/>\n",
       "<circle clip-path=\"url(#clip882)\" cx=\"291.45\" cy=\"131.787\" r=\"14.4\" fill=\"#009af9\" fill-rule=\"evenodd\" fill-opacity=\"1\" stroke=\"#000000\" stroke-opacity=\"1\" stroke-width=\"3.2\"/>\n",
       "<circle clip-path=\"url(#clip882)\" cx=\"367.28\" cy=\"261.453\" r=\"14.4\" fill=\"#009af9\" fill-rule=\"evenodd\" fill-opacity=\"1\" stroke=\"#000000\" stroke-opacity=\"1\" stroke-width=\"3.2\"/>\n",
       "<circle clip-path=\"url(#clip882)\" cx=\"447.497\" cy=\"243.432\" r=\"14.4\" fill=\"#009af9\" fill-rule=\"evenodd\" fill-opacity=\"1\" stroke=\"#000000\" stroke-opacity=\"1\" stroke-width=\"3.2\"/>\n",
       "<circle clip-path=\"url(#clip882)\" cx=\"533.353\" cy=\"200.199\" r=\"14.4\" fill=\"#009af9\" fill-rule=\"evenodd\" fill-opacity=\"1\" stroke=\"#000000\" stroke-opacity=\"1\" stroke-width=\"3.2\"/>\n",
       "<circle clip-path=\"url(#clip882)\" cx=\"632.371\" cy=\"314.407\" r=\"14.4\" fill=\"#009af9\" fill-rule=\"evenodd\" fill-opacity=\"1\" stroke=\"#000000\" stroke-opacity=\"1\" stroke-width=\"3.2\"/>\n",
       "<circle clip-path=\"url(#clip882)\" cx=\"732.015\" cy=\"289.872\" r=\"14.4\" fill=\"#009af9\" fill-rule=\"evenodd\" fill-opacity=\"1\" stroke=\"#000000\" stroke-opacity=\"1\" stroke-width=\"3.2\"/>\n",
       "<circle clip-path=\"url(#clip882)\" cx=\"827.899\" cy=\"445.442\" r=\"14.4\" fill=\"#009af9\" fill-rule=\"evenodd\" fill-opacity=\"1\" stroke=\"#000000\" stroke-opacity=\"1\" stroke-width=\"3.2\"/>\n",
       "<circle clip-path=\"url(#clip882)\" cx=\"933.81\" cy=\"549.898\" r=\"14.4\" fill=\"#009af9\" fill-rule=\"evenodd\" fill-opacity=\"1\" stroke=\"#000000\" stroke-opacity=\"1\" stroke-width=\"3.2\"/>\n",
       "<circle clip-path=\"url(#clip882)\" cx=\"1028.44\" cy=\"753.547\" r=\"14.4\" fill=\"#009af9\" fill-rule=\"evenodd\" fill-opacity=\"1\" stroke=\"#000000\" stroke-opacity=\"1\" stroke-width=\"3.2\"/>\n",
       "<circle clip-path=\"url(#clip882)\" cx=\"1127.46\" cy=\"832.488\" r=\"14.4\" fill=\"#009af9\" fill-rule=\"evenodd\" fill-opacity=\"1\" stroke=\"#000000\" stroke-opacity=\"1\" stroke-width=\"3.2\"/>\n",
       "<circle clip-path=\"url(#clip882)\" cx=\"1227.1\" cy=\"901.426\" r=\"14.4\" fill=\"#009af9\" fill-rule=\"evenodd\" fill-opacity=\"1\" stroke=\"#000000\" stroke-opacity=\"1\" stroke-width=\"3.2\"/>\n",
       "<circle clip-path=\"url(#clip882)\" cx=\"1310.45\" cy=\"973.009\" r=\"14.4\" fill=\"#009af9\" fill-rule=\"evenodd\" fill-opacity=\"1\" stroke=\"#000000\" stroke-opacity=\"1\" stroke-width=\"3.2\"/>\n",
       "<circle clip-path=\"url(#clip882)\" cx=\"1416.36\" cy=\"1089.81\" r=\"14.4\" fill=\"#009af9\" fill-rule=\"evenodd\" fill-opacity=\"1\" stroke=\"#000000\" stroke-opacity=\"1\" stroke-width=\"3.2\"/>\n",
       "<circle clip-path=\"url(#clip882)\" cx=\"1509.74\" cy=\"1147.66\" r=\"14.4\" fill=\"#009af9\" fill-rule=\"evenodd\" fill-opacity=\"1\" stroke=\"#000000\" stroke-opacity=\"1\" stroke-width=\"3.2\"/>\n",
       "<circle clip-path=\"url(#clip882)\" cx=\"1619.41\" cy=\"1173.8\" r=\"14.4\" fill=\"#009af9\" fill-rule=\"evenodd\" fill-opacity=\"1\" stroke=\"#000000\" stroke-opacity=\"1\" stroke-width=\"3.2\"/>\n",
       "<circle clip-path=\"url(#clip882)\" cx=\"1718.43\" cy=\"1274.01\" r=\"14.4\" fill=\"#009af9\" fill-rule=\"evenodd\" fill-opacity=\"1\" stroke=\"#000000\" stroke-opacity=\"1\" stroke-width=\"3.2\"/>\n",
       "<circle clip-path=\"url(#clip882)\" cx=\"1808.05\" cy=\"1270.62\" r=\"14.4\" fill=\"#009af9\" fill-rule=\"evenodd\" fill-opacity=\"1\" stroke=\"#000000\" stroke-opacity=\"1\" stroke-width=\"3.2\"/>\n",
       "<circle clip-path=\"url(#clip882)\" cx=\"1922.73\" cy=\"1273.48\" r=\"14.4\" fill=\"#009af9\" fill-rule=\"evenodd\" fill-opacity=\"1\" stroke=\"#000000\" stroke-opacity=\"1\" stroke-width=\"3.2\"/>\n",
       "<circle clip-path=\"url(#clip882)\" cx=\"2015.48\" cy=\"1333.77\" r=\"14.4\" fill=\"#009af9\" fill-rule=\"evenodd\" fill-opacity=\"1\" stroke=\"#000000\" stroke-opacity=\"1\" stroke-width=\"3.2\"/>\n",
       "<circle clip-path=\"url(#clip882)\" cx=\"2116.38\" cy=\"1380.09\" r=\"14.4\" fill=\"#009af9\" fill-rule=\"evenodd\" fill-opacity=\"1\" stroke=\"#000000\" stroke-opacity=\"1\" stroke-width=\"3.2\"/>\n",
       "<circle clip-path=\"url(#clip882)\" cx=\"2216.65\" cy=\"1378.11\" r=\"14.4\" fill=\"#009af9\" fill-rule=\"evenodd\" fill-opacity=\"1\" stroke=\"#000000\" stroke-opacity=\"1\" stroke-width=\"3.2\"/>\n",
       "<circle clip-path=\"url(#clip882)\" cx=\"2290.6\" cy=\"1445.72\" r=\"14.4\" fill=\"#009af9\" fill-rule=\"evenodd\" fill-opacity=\"1\" stroke=\"#000000\" stroke-opacity=\"1\" stroke-width=\"3.2\"/>\n",
       "<path clip-path=\"url(#clip880)\" d=\"M1789.17 198.898 L2279.55 198.898 L2279.55 95.2176 L1789.17 95.2176  Z\" fill=\"#ffffff\" fill-rule=\"evenodd\" fill-opacity=\"1\"/>\n",
       "<polyline clip-path=\"url(#clip880)\" style=\"stroke:#000000; stroke-linecap:round; stroke-linejoin:round; stroke-width:4; stroke-opacity:1; fill:none\" points=\"1789.17,198.898 2279.55,198.898 2279.55,95.2176 1789.17,95.2176 1789.17,198.898 \"/>\n",
       "<circle clip-path=\"url(#clip880)\" cx=\"1886.78\" cy=\"147.058\" r=\"20.48\" fill=\"#009af9\" fill-rule=\"evenodd\" fill-opacity=\"1\" stroke=\"#000000\" stroke-opacity=\"1\" stroke-width=\"4.55111\"/>\n",
       "<path clip-path=\"url(#clip880)\" d=\"M1985.06 160.402 L1992.7 160.402 L1992.7 134.037 L1984.39 135.703 L1984.39 131.444 L1992.65 129.778 L1997.33 129.778 L1997.33 160.402 L2004.97 160.402 L2004.97 164.338 L1985.06 164.338 L1985.06 160.402 Z\" fill=\"#000000\" fill-rule=\"nonzero\" fill-opacity=\"1\" /><path clip-path=\"url(#clip880)\" d=\"M2014.41 158.458 L2019.29 158.458 L2019.29 164.338 L2014.41 164.338 L2014.41 158.458 Z\" fill=\"#000000\" fill-rule=\"nonzero\" fill-opacity=\"1\" /><path clip-path=\"url(#clip880)\" d=\"M2030.29 160.402 L2037.93 160.402 L2037.93 134.037 L2029.62 135.703 L2029.62 131.444 L2037.88 129.778 L2042.56 129.778 L2042.56 160.402 L2050.2 160.402 L2050.2 164.338 L2030.29 164.338 L2030.29 160.402 Z\" fill=\"#000000\" fill-rule=\"nonzero\" fill-opacity=\"1\" /><path clip-path=\"url(#clip880)\" d=\"M2091.45 134.615 L2091.45 147.509 L2104.34 147.509 L2104.34 151.444 L2091.45 151.444 L2091.45 164.338 L2087.56 164.338 L2087.56 151.444 L2074.66 151.444 L2074.66 147.509 L2087.56 147.509 L2087.56 134.615 L2091.45 134.615 Z\" fill=\"#000000\" fill-rule=\"nonzero\" fill-opacity=\"1\" /><path clip-path=\"url(#clip880)\" d=\"M2139.5 132.856 Q2135.89 132.856 2134.06 136.421 Q2132.26 139.963 2132.26 147.092 Q2132.26 154.199 2134.06 157.764 Q2135.89 161.305 2139.5 161.305 Q2143.14 161.305 2144.94 157.764 Q2146.77 154.199 2146.77 147.092 Q2146.77 139.963 2144.94 136.421 Q2143.14 132.856 2139.5 132.856 M2139.5 129.153 Q2145.31 129.153 2148.37 133.759 Q2151.45 138.342 2151.45 147.092 Q2151.45 155.819 2148.37 160.426 Q2145.31 165.009 2139.5 165.009 Q2133.69 165.009 2130.61 160.426 Q2127.56 155.819 2127.56 147.092 Q2127.56 138.342 2130.61 133.759 Q2133.69 129.153 2139.5 129.153 Z\" fill=\"#000000\" fill-rule=\"nonzero\" fill-opacity=\"1\" /><path clip-path=\"url(#clip880)\" d=\"M2159.66 158.458 L2164.55 158.458 L2164.55 164.338 L2159.66 164.338 L2159.66 158.458 Z\" fill=\"#000000\" fill-rule=\"nonzero\" fill-opacity=\"1\" /><path clip-path=\"url(#clip880)\" d=\"M2184.73 132.856 Q2181.12 132.856 2179.29 136.421 Q2177.49 139.963 2177.49 147.092 Q2177.49 154.199 2179.29 157.764 Q2181.12 161.305 2184.73 161.305 Q2188.37 161.305 2190.17 157.764 Q2192 154.199 2192 147.092 Q2192 139.963 2190.17 136.421 Q2188.37 132.856 2184.73 132.856 M2184.73 129.153 Q2190.54 129.153 2193.6 133.759 Q2196.68 138.342 2196.68 147.092 Q2196.68 155.819 2193.6 160.426 Q2190.54 165.009 2184.73 165.009 Q2178.92 165.009 2175.84 160.426 Q2172.79 155.819 2172.79 147.092 Q2172.79 138.342 2175.84 133.759 Q2178.92 129.153 2184.73 129.153 Z\" fill=\"#000000\" fill-rule=\"nonzero\" fill-opacity=\"1\" /><path clip-path=\"url(#clip880)\" d=\"M2204.29 138.412 L2208.55 138.412 L2208.55 164.338 L2204.29 164.338 L2204.29 138.412 M2204.29 128.319 L2208.55 128.319 L2208.55 133.713 L2204.29 133.713 L2204.29 128.319 Z\" fill=\"#000000\" fill-rule=\"nonzero\" fill-opacity=\"1\" /><path clip-path=\"url(#clip880)\" d=\"M2237.65 143.389 Q2239.25 140.518 2241.47 139.153 Q2243.69 137.787 2246.7 137.787 Q2250.75 137.787 2252.95 140.634 Q2255.15 143.458 2255.15 148.689 L2255.15 164.338 L2250.87 164.338 L2250.87 148.828 Q2250.87 145.102 2249.55 143.296 Q2248.23 141.49 2245.52 141.49 Q2242.21 141.49 2240.29 143.69 Q2238.37 145.889 2238.37 149.685 L2238.37 164.338 L2234.08 164.338 L2234.08 148.828 Q2234.08 145.078 2232.76 143.296 Q2231.45 141.49 2228.69 141.49 Q2225.43 141.49 2223.51 143.713 Q2221.58 145.912 2221.58 149.685 L2221.58 164.338 L2217.3 164.338 L2217.3 138.412 L2221.58 138.412 L2221.58 142.44 Q2223.04 140.055 2225.08 138.921 Q2227.12 137.787 2229.92 137.787 Q2232.74 137.787 2234.71 139.222 Q2236.7 140.657 2237.65 143.389 Z\" fill=\"#000000\" fill-rule=\"nonzero\" fill-opacity=\"1\" /></svg>\n"
      ],
      "text/html": [
       "<?xml version=\"1.0\" encoding=\"utf-8\"?>\n",
       "<svg xmlns=\"http://www.w3.org/2000/svg\" xmlns:xlink=\"http://www.w3.org/1999/xlink\" width=\"600\" height=\"400\" viewBox=\"0 0 2400 1600\">\n",
       "<defs>\n",
       "  <clipPath id=\"clip930\">\n",
       "    <rect x=\"0\" y=\"0\" width=\"2400\" height=\"1600\"/>\n",
       "  </clipPath>\n",
       "</defs>\n",
       "<path clip-path=\"url(#clip930)\" d=\"M0 1600 L2400 1600 L2400 0 L0 0  Z\" fill=\"#ffffff\" fill-rule=\"evenodd\" fill-opacity=\"1\"/>\n",
       "<defs>\n",
       "  <clipPath id=\"clip931\">\n",
       "    <rect x=\"480\" y=\"0\" width=\"1681\" height=\"1600\"/>\n",
       "  </clipPath>\n",
       "</defs>\n",
       "<path clip-path=\"url(#clip930)\" d=\"M156.598 1486.45 L2352.76 1486.45 L2352.76 47.2441 L156.598 47.2441  Z\" fill=\"#ffffff\" fill-rule=\"evenodd\" fill-opacity=\"1\"/>\n",
       "<defs>\n",
       "  <clipPath id=\"clip932\">\n",
       "    <rect x=\"156\" y=\"47\" width=\"2197\" height=\"1440\"/>\n",
       "  </clipPath>\n",
       "</defs>\n",
       "<polyline clip-path=\"url(#clip932)\" style=\"stroke:#000000; stroke-linecap:round; stroke-linejoin:round; stroke-width:2; stroke-opacity:0.1; fill:none\" points=\"501.706,1486.45 501.706,47.2441 \"/>\n",
       "<polyline clip-path=\"url(#clip932)\" style=\"stroke:#000000; stroke-linecap:round; stroke-linejoin:round; stroke-width:2; stroke-opacity:0.1; fill:none\" points=\"876.155,1486.45 876.155,47.2441 \"/>\n",
       "<polyline clip-path=\"url(#clip932)\" style=\"stroke:#000000; stroke-linecap:round; stroke-linejoin:round; stroke-width:2; stroke-opacity:0.1; fill:none\" points=\"1250.6,1486.45 1250.6,47.2441 \"/>\n",
       "<polyline clip-path=\"url(#clip932)\" style=\"stroke:#000000; stroke-linecap:round; stroke-linejoin:round; stroke-width:2; stroke-opacity:0.1; fill:none\" points=\"1625.05,1486.45 1625.05,47.2441 \"/>\n",
       "<polyline clip-path=\"url(#clip932)\" style=\"stroke:#000000; stroke-linecap:round; stroke-linejoin:round; stroke-width:2; stroke-opacity:0.1; fill:none\" points=\"1999.5,1486.45 1999.5,47.2441 \"/>\n",
       "<polyline clip-path=\"url(#clip932)\" style=\"stroke:#000000; stroke-linecap:round; stroke-linejoin:round; stroke-width:2; stroke-opacity:0.1; fill:none\" points=\"156.598,1420.7 2352.76,1420.7 \"/>\n",
       "<polyline clip-path=\"url(#clip932)\" style=\"stroke:#000000; stroke-linecap:round; stroke-linejoin:round; stroke-width:2; stroke-opacity:0.1; fill:none\" points=\"156.598,1062.64 2352.76,1062.64 \"/>\n",
       "<polyline clip-path=\"url(#clip932)\" style=\"stroke:#000000; stroke-linecap:round; stroke-linejoin:round; stroke-width:2; stroke-opacity:0.1; fill:none\" points=\"156.598,704.588 2352.76,704.588 \"/>\n",
       "<polyline clip-path=\"url(#clip932)\" style=\"stroke:#000000; stroke-linecap:round; stroke-linejoin:round; stroke-width:2; stroke-opacity:0.1; fill:none\" points=\"156.598,346.534 2352.76,346.534 \"/>\n",
       "<polyline clip-path=\"url(#clip930)\" style=\"stroke:#000000; stroke-linecap:round; stroke-linejoin:round; stroke-width:4; stroke-opacity:1; fill:none\" points=\"156.598,1486.45 2352.76,1486.45 \"/>\n",
       "<polyline clip-path=\"url(#clip930)\" style=\"stroke:#000000; stroke-linecap:round; stroke-linejoin:round; stroke-width:4; stroke-opacity:1; fill:none\" points=\"501.706,1486.45 501.706,1467.55 \"/>\n",
       "<polyline clip-path=\"url(#clip930)\" style=\"stroke:#000000; stroke-linecap:round; stroke-linejoin:round; stroke-width:4; stroke-opacity:1; fill:none\" points=\"876.155,1486.45 876.155,1467.55 \"/>\n",
       "<polyline clip-path=\"url(#clip930)\" style=\"stroke:#000000; stroke-linecap:round; stroke-linejoin:round; stroke-width:4; stroke-opacity:1; fill:none\" points=\"1250.6,1486.45 1250.6,1467.55 \"/>\n",
       "<polyline clip-path=\"url(#clip930)\" style=\"stroke:#000000; stroke-linecap:round; stroke-linejoin:round; stroke-width:4; stroke-opacity:1; fill:none\" points=\"1625.05,1486.45 1625.05,1467.55 \"/>\n",
       "<polyline clip-path=\"url(#clip930)\" style=\"stroke:#000000; stroke-linecap:round; stroke-linejoin:round; stroke-width:4; stroke-opacity:1; fill:none\" points=\"1999.5,1486.45 1999.5,1467.55 \"/>\n",
       "<path clip-path=\"url(#clip930)\" d=\"M464.507 1517.37 Q460.896 1517.37 459.067 1520.93 Q457.261 1524.47 457.261 1531.6 Q457.261 1538.71 459.067 1542.27 Q460.896 1545.82 464.507 1545.82 Q468.141 1545.82 469.946 1542.27 Q471.775 1538.71 471.775 1531.6 Q471.775 1524.47 469.946 1520.93 Q468.141 1517.37 464.507 1517.37 M464.507 1513.66 Q470.317 1513.66 473.372 1518.27 Q476.451 1522.85 476.451 1531.6 Q476.451 1540.33 473.372 1544.94 Q470.317 1549.52 464.507 1549.52 Q458.696 1549.52 455.618 1544.94 Q452.562 1540.33 452.562 1531.6 Q452.562 1522.85 455.618 1518.27 Q458.696 1513.66 464.507 1513.66 Z\" fill=\"#000000\" fill-rule=\"nonzero\" fill-opacity=\"1\" /><path clip-path=\"url(#clip930)\" d=\"M484.669 1542.97 L489.553 1542.97 L489.553 1548.85 L484.669 1548.85 L484.669 1542.97 Z\" fill=\"#000000\" fill-rule=\"nonzero\" fill-opacity=\"1\" /><path clip-path=\"url(#clip930)\" d=\"M503.766 1544.91 L520.085 1544.91 L520.085 1548.85 L498.141 1548.85 L498.141 1544.91 Q500.803 1542.16 505.386 1537.53 Q509.992 1532.88 511.173 1531.53 Q513.418 1529.01 514.298 1527.27 Q515.201 1525.51 515.201 1523.82 Q515.201 1521.07 513.256 1519.33 Q511.335 1517.6 508.233 1517.6 Q506.034 1517.6 503.58 1518.36 Q501.15 1519.13 498.372 1520.68 L498.372 1515.95 Q501.196 1514.82 503.65 1514.24 Q506.104 1513.66 508.141 1513.66 Q513.511 1513.66 516.705 1516.35 Q519.9 1519.03 519.9 1523.52 Q519.9 1525.65 519.09 1527.57 Q518.303 1529.47 516.196 1532.07 Q515.617 1532.74 512.516 1535.95 Q509.414 1539.15 503.766 1544.91 Z\" fill=\"#000000\" fill-rule=\"nonzero\" fill-opacity=\"1\" /><path clip-path=\"url(#clip930)\" d=\"M529.946 1514.29 L548.302 1514.29 L548.302 1518.22 L534.228 1518.22 L534.228 1526.7 Q535.247 1526.35 536.266 1526.19 Q537.284 1526 538.303 1526 Q544.09 1526 547.469 1529.17 Q550.849 1532.34 550.849 1537.76 Q550.849 1543.34 547.377 1546.44 Q543.904 1549.52 537.585 1549.52 Q535.409 1549.52 533.141 1549.15 Q530.895 1548.78 528.488 1548.04 L528.488 1543.34 Q530.571 1544.47 532.793 1545.03 Q535.016 1545.58 537.492 1545.58 Q541.497 1545.58 543.835 1543.48 Q546.173 1541.37 546.173 1537.76 Q546.173 1534.15 543.835 1532.04 Q541.497 1529.94 537.492 1529.94 Q535.617 1529.94 533.742 1530.35 Q531.891 1530.77 529.946 1531.65 L529.946 1514.29 Z\" fill=\"#000000\" fill-rule=\"nonzero\" fill-opacity=\"1\" /><path clip-path=\"url(#clip930)\" d=\"M838.458 1517.37 Q834.847 1517.37 833.018 1520.93 Q831.213 1524.47 831.213 1531.6 Q831.213 1538.71 833.018 1542.27 Q834.847 1545.82 838.458 1545.82 Q842.092 1545.82 843.898 1542.27 Q845.726 1538.71 845.726 1531.6 Q845.726 1524.47 843.898 1520.93 Q842.092 1517.37 838.458 1517.37 M838.458 1513.66 Q844.268 1513.66 847.324 1518.27 Q850.402 1522.85 850.402 1531.6 Q850.402 1540.33 847.324 1544.94 Q844.268 1549.52 838.458 1549.52 Q832.648 1549.52 829.569 1544.94 Q826.514 1540.33 826.514 1531.6 Q826.514 1522.85 829.569 1518.27 Q832.648 1513.66 838.458 1513.66 Z\" fill=\"#000000\" fill-rule=\"nonzero\" fill-opacity=\"1\" /><path clip-path=\"url(#clip930)\" d=\"M858.62 1542.97 L863.504 1542.97 L863.504 1548.85 L858.62 1548.85 L858.62 1542.97 Z\" fill=\"#000000\" fill-rule=\"nonzero\" fill-opacity=\"1\" /><path clip-path=\"url(#clip930)\" d=\"M873.736 1514.29 L892.092 1514.29 L892.092 1518.22 L878.018 1518.22 L878.018 1526.7 Q879.036 1526.35 880.055 1526.19 Q881.073 1526 882.092 1526 Q887.879 1526 891.259 1529.17 Q894.638 1532.34 894.638 1537.76 Q894.638 1543.34 891.166 1546.44 Q887.694 1549.52 881.374 1549.52 Q879.198 1549.52 876.93 1549.15 Q874.685 1548.78 872.277 1548.04 L872.277 1543.34 Q874.361 1544.47 876.583 1545.03 Q878.805 1545.58 881.282 1545.58 Q885.286 1545.58 887.624 1543.48 Q889.962 1541.37 889.962 1537.76 Q889.962 1534.15 887.624 1532.04 Q885.286 1529.94 881.282 1529.94 Q879.407 1529.94 877.532 1530.35 Q875.68 1530.77 873.736 1531.65 L873.736 1514.29 Z\" fill=\"#000000\" fill-rule=\"nonzero\" fill-opacity=\"1\" /><path clip-path=\"url(#clip930)\" d=\"M913.851 1517.37 Q910.24 1517.37 908.411 1520.93 Q906.606 1524.47 906.606 1531.6 Q906.606 1538.71 908.411 1542.27 Q910.24 1545.82 913.851 1545.82 Q917.485 1545.82 919.291 1542.27 Q921.12 1538.71 921.12 1531.6 Q921.12 1524.47 919.291 1520.93 Q917.485 1517.37 913.851 1517.37 M913.851 1513.66 Q919.661 1513.66 922.717 1518.27 Q925.795 1522.85 925.795 1531.6 Q925.795 1540.33 922.717 1544.94 Q919.661 1549.52 913.851 1549.52 Q908.041 1549.52 904.962 1544.94 Q901.907 1540.33 901.907 1531.6 Q901.907 1522.85 904.962 1518.27 Q908.041 1513.66 913.851 1513.66 Z\" fill=\"#000000\" fill-rule=\"nonzero\" fill-opacity=\"1\" /><path clip-path=\"url(#clip930)\" d=\"M1213.4 1517.37 Q1209.79 1517.37 1207.96 1520.93 Q1206.16 1524.47 1206.16 1531.6 Q1206.16 1538.71 1207.96 1542.27 Q1209.79 1545.82 1213.4 1545.82 Q1217.04 1545.82 1218.84 1542.27 Q1220.67 1538.71 1220.67 1531.6 Q1220.67 1524.47 1218.84 1520.93 Q1217.04 1517.37 1213.4 1517.37 M1213.4 1513.66 Q1219.21 1513.66 1222.27 1518.27 Q1225.35 1522.85 1225.35 1531.6 Q1225.35 1540.33 1222.27 1544.94 Q1219.21 1549.52 1213.4 1549.52 Q1207.59 1549.52 1204.52 1544.94 Q1201.46 1540.33 1201.46 1531.6 Q1201.46 1522.85 1204.52 1518.27 Q1207.59 1513.66 1213.4 1513.66 Z\" fill=\"#000000\" fill-rule=\"nonzero\" fill-opacity=\"1\" /><path clip-path=\"url(#clip930)\" d=\"M1233.57 1542.97 L1238.45 1542.97 L1238.45 1548.85 L1233.57 1548.85 L1233.57 1542.97 Z\" fill=\"#000000\" fill-rule=\"nonzero\" fill-opacity=\"1\" /><path clip-path=\"url(#clip930)\" d=\"M1247.46 1514.29 L1269.68 1514.29 L1269.68 1516.28 L1257.13 1548.85 L1252.25 1548.85 L1264.05 1518.22 L1247.46 1518.22 L1247.46 1514.29 Z\" fill=\"#000000\" fill-rule=\"nonzero\" fill-opacity=\"1\" /><path clip-path=\"url(#clip930)\" d=\"M1278.84 1514.29 L1297.2 1514.29 L1297.2 1518.22 L1283.13 1518.22 L1283.13 1526.7 Q1284.15 1526.35 1285.16 1526.19 Q1286.18 1526 1287.2 1526 Q1292.99 1526 1296.37 1529.17 Q1299.75 1532.34 1299.75 1537.76 Q1299.75 1543.34 1296.27 1546.44 Q1292.8 1549.52 1286.48 1549.52 Q1284.31 1549.52 1282.04 1549.15 Q1279.79 1548.78 1277.39 1548.04 L1277.39 1543.34 Q1279.47 1544.47 1281.69 1545.03 Q1283.91 1545.58 1286.39 1545.58 Q1290.4 1545.58 1292.73 1543.48 Q1295.07 1541.37 1295.07 1537.76 Q1295.07 1534.15 1292.73 1532.04 Q1290.4 1529.94 1286.39 1529.94 Q1284.52 1529.94 1282.64 1530.35 Q1280.79 1530.77 1278.84 1531.65 L1278.84 1514.29 Z\" fill=\"#000000\" fill-rule=\"nonzero\" fill-opacity=\"1\" /><path clip-path=\"url(#clip930)\" d=\"M1577.12 1544.91 L1584.76 1544.91 L1584.76 1518.55 L1576.45 1520.21 L1576.45 1515.95 L1584.72 1514.29 L1589.39 1514.29 L1589.39 1544.91 L1597.03 1544.91 L1597.03 1548.85 L1577.12 1548.85 L1577.12 1544.91 Z\" fill=\"#000000\" fill-rule=\"nonzero\" fill-opacity=\"1\" /><path clip-path=\"url(#clip930)\" d=\"M1606.48 1542.97 L1611.36 1542.97 L1611.36 1548.85 L1606.48 1548.85 L1606.48 1542.97 Z\" fill=\"#000000\" fill-rule=\"nonzero\" fill-opacity=\"1\" /><path clip-path=\"url(#clip930)\" d=\"M1631.55 1517.37 Q1627.93 1517.37 1626.11 1520.93 Q1624.3 1524.47 1624.3 1531.6 Q1624.3 1538.71 1626.11 1542.27 Q1627.93 1545.82 1631.55 1545.82 Q1635.18 1545.82 1636.99 1542.27 Q1638.81 1538.71 1638.81 1531.6 Q1638.81 1524.47 1636.99 1520.93 Q1635.18 1517.37 1631.55 1517.37 M1631.55 1513.66 Q1637.36 1513.66 1640.41 1518.27 Q1643.49 1522.85 1643.49 1531.6 Q1643.49 1540.33 1640.41 1544.94 Q1637.36 1549.52 1631.55 1549.52 Q1625.74 1549.52 1622.66 1544.94 Q1619.6 1540.33 1619.6 1531.6 Q1619.6 1522.85 1622.66 1518.27 Q1625.74 1513.66 1631.55 1513.66 Z\" fill=\"#000000\" fill-rule=\"nonzero\" fill-opacity=\"1\" /><path clip-path=\"url(#clip930)\" d=\"M1661.71 1517.37 Q1658.1 1517.37 1656.27 1520.93 Q1654.46 1524.47 1654.46 1531.6 Q1654.46 1538.71 1656.27 1542.27 Q1658.1 1545.82 1661.71 1545.82 Q1665.34 1545.82 1667.15 1542.27 Q1668.98 1538.71 1668.98 1531.6 Q1668.98 1524.47 1667.15 1520.93 Q1665.34 1517.37 1661.71 1517.37 M1661.71 1513.66 Q1667.52 1513.66 1670.57 1518.27 Q1673.65 1522.85 1673.65 1531.6 Q1673.65 1540.33 1670.57 1544.94 Q1667.52 1549.52 1661.71 1549.52 Q1655.9 1549.52 1652.82 1544.94 Q1649.76 1540.33 1649.76 1531.6 Q1649.76 1522.85 1652.82 1518.27 Q1655.9 1513.66 1661.71 1513.66 Z\" fill=\"#000000\" fill-rule=\"nonzero\" fill-opacity=\"1\" /><path clip-path=\"url(#clip930)\" d=\"M1952.07 1544.91 L1959.71 1544.91 L1959.71 1518.55 L1951.4 1520.21 L1951.4 1515.95 L1959.66 1514.29 L1964.34 1514.29 L1964.34 1544.91 L1971.98 1544.91 L1971.98 1548.85 L1952.07 1548.85 L1952.07 1544.91 Z\" fill=\"#000000\" fill-rule=\"nonzero\" fill-opacity=\"1\" /><path clip-path=\"url(#clip930)\" d=\"M1981.42 1542.97 L1986.31 1542.97 L1986.31 1548.85 L1981.42 1548.85 L1981.42 1542.97 Z\" fill=\"#000000\" fill-rule=\"nonzero\" fill-opacity=\"1\" /><path clip-path=\"url(#clip930)\" d=\"M2000.52 1544.91 L2016.84 1544.91 L2016.84 1548.85 L1994.9 1548.85 L1994.9 1544.91 Q1997.56 1542.16 2002.14 1537.53 Q2006.75 1532.88 2007.93 1531.53 Q2010.17 1529.01 2011.05 1527.27 Q2011.96 1525.51 2011.96 1523.82 Q2011.96 1521.07 2010.01 1519.33 Q2008.09 1517.6 2004.99 1517.6 Q2002.79 1517.6 2000.33 1518.36 Q1997.9 1519.13 1995.13 1520.68 L1995.13 1515.95 Q1997.95 1514.82 2000.4 1514.24 Q2002.86 1513.66 2004.9 1513.66 Q2010.27 1513.66 2013.46 1516.35 Q2016.65 1519.03 2016.65 1523.52 Q2016.65 1525.65 2015.84 1527.57 Q2015.06 1529.47 2012.95 1532.07 Q2012.37 1532.74 2009.27 1535.95 Q2006.17 1539.15 2000.52 1544.91 Z\" fill=\"#000000\" fill-rule=\"nonzero\" fill-opacity=\"1\" /><path clip-path=\"url(#clip930)\" d=\"M2026.7 1514.29 L2045.06 1514.29 L2045.06 1518.22 L2030.98 1518.22 L2030.98 1526.7 Q2032 1526.35 2033.02 1526.19 Q2034.04 1526 2035.06 1526 Q2040.84 1526 2044.22 1529.17 Q2047.6 1532.34 2047.6 1537.76 Q2047.6 1543.34 2044.13 1546.44 Q2040.66 1549.52 2034.34 1549.52 Q2032.16 1549.52 2029.89 1549.15 Q2027.65 1548.78 2025.24 1548.04 L2025.24 1543.34 Q2027.33 1544.47 2029.55 1545.03 Q2031.77 1545.58 2034.25 1545.58 Q2038.25 1545.58 2040.59 1543.48 Q2042.93 1541.37 2042.93 1537.76 Q2042.93 1534.15 2040.59 1532.04 Q2038.25 1529.94 2034.25 1529.94 Q2032.37 1529.94 2030.5 1530.35 Q2028.64 1530.77 2026.7 1531.65 L2026.7 1514.29 Z\" fill=\"#000000\" fill-rule=\"nonzero\" fill-opacity=\"1\" /><polyline clip-path=\"url(#clip930)\" style=\"stroke:#000000; stroke-linecap:round; stroke-linejoin:round; stroke-width:4; stroke-opacity:1; fill:none\" points=\"156.598,1486.45 156.598,47.2441 \"/>\n",
       "<polyline clip-path=\"url(#clip930)\" style=\"stroke:#000000; stroke-linecap:round; stroke-linejoin:round; stroke-width:4; stroke-opacity:1; fill:none\" points=\"156.598,1420.7 175.496,1420.7 \"/>\n",
       "<polyline clip-path=\"url(#clip930)\" style=\"stroke:#000000; stroke-linecap:round; stroke-linejoin:round; stroke-width:4; stroke-opacity:1; fill:none\" points=\"156.598,1062.64 175.496,1062.64 \"/>\n",
       "<polyline clip-path=\"url(#clip930)\" style=\"stroke:#000000; stroke-linecap:round; stroke-linejoin:round; stroke-width:4; stroke-opacity:1; fill:none\" points=\"156.598,704.588 175.496,704.588 \"/>\n",
       "<polyline clip-path=\"url(#clip930)\" style=\"stroke:#000000; stroke-linecap:round; stroke-linejoin:round; stroke-width:4; stroke-opacity:1; fill:none\" points=\"156.598,346.534 175.496,346.534 \"/>\n",
       "<path clip-path=\"url(#clip930)\" d=\"M64.6495 1406.49 Q61.0384 1406.49 59.2097 1410.06 Q57.4041 1413.6 57.4041 1420.73 Q57.4041 1427.84 59.2097 1431.4 Q61.0384 1434.94 64.6495 1434.94 Q68.2837 1434.94 70.0892 1431.4 Q71.9179 1427.84 71.9179 1420.73 Q71.9179 1413.6 70.0892 1410.06 Q68.2837 1406.49 64.6495 1406.49 M64.6495 1402.79 Q70.4596 1402.79 73.5152 1407.4 Q76.5938 1411.98 76.5938 1420.73 Q76.5938 1429.46 73.5152 1434.06 Q70.4596 1438.65 64.6495 1438.65 Q58.8393 1438.65 55.7606 1434.06 Q52.7051 1429.46 52.7051 1420.73 Q52.7051 1411.98 55.7606 1407.4 Q58.8393 1402.79 64.6495 1402.79 Z\" fill=\"#000000\" fill-rule=\"nonzero\" fill-opacity=\"1\" /><path clip-path=\"url(#clip930)\" d=\"M84.8114 1432.1 L89.6956 1432.1 L89.6956 1437.98 L84.8114 1437.98 L84.8114 1432.1 Z\" fill=\"#000000\" fill-rule=\"nonzero\" fill-opacity=\"1\" /><path clip-path=\"url(#clip930)\" d=\"M100.691 1434.04 L108.33 1434.04 L108.33 1407.67 L100.02 1409.34 L100.02 1405.08 L108.283 1403.42 L112.959 1403.42 L112.959 1434.04 L120.598 1434.04 L120.598 1437.98 L100.691 1437.98 L100.691 1434.04 Z\" fill=\"#000000\" fill-rule=\"nonzero\" fill-opacity=\"1\" /><path clip-path=\"url(#clip930)\" d=\"M65.0198 1048.44 Q61.4087 1048.44 59.58 1052.01 Q57.7745 1055.55 57.7745 1062.68 Q57.7745 1069.78 59.58 1073.35 Q61.4087 1076.89 65.0198 1076.89 Q68.6541 1076.89 70.4596 1073.35 Q72.2883 1069.78 72.2883 1062.68 Q72.2883 1055.55 70.4596 1052.01 Q68.6541 1048.44 65.0198 1048.44 M65.0198 1044.74 Q70.83 1044.74 73.8855 1049.34 Q76.9642 1053.93 76.9642 1062.68 Q76.9642 1071.4 73.8855 1076.01 Q70.83 1080.59 65.0198 1080.59 Q59.2097 1080.59 56.131 1076.01 Q53.0754 1071.4 53.0754 1062.68 Q53.0754 1053.93 56.131 1049.34 Q59.2097 1044.74 65.0198 1044.74 Z\" fill=\"#000000\" fill-rule=\"nonzero\" fill-opacity=\"1\" /><path clip-path=\"url(#clip930)\" d=\"M85.1818 1074.04 L90.066 1074.04 L90.066 1079.92 L85.1818 1079.92 L85.1818 1074.04 Z\" fill=\"#000000\" fill-rule=\"nonzero\" fill-opacity=\"1\" /><path clip-path=\"url(#clip930)\" d=\"M104.279 1075.99 L120.598 1075.99 L120.598 1079.92 L98.6539 1079.92 L98.6539 1075.99 Q101.316 1073.23 105.899 1068.6 Q110.506 1063.95 111.686 1062.61 Q113.932 1060.08 114.811 1058.35 Q115.714 1056.59 115.714 1054.9 Q115.714 1052.14 113.77 1050.41 Q111.848 1048.67 108.746 1048.67 Q106.547 1048.67 104.094 1049.44 Q101.663 1050.2 98.8854 1051.75 L98.8854 1047.03 Q101.709 1045.89 104.163 1045.32 Q106.617 1044.74 108.654 1044.74 Q114.024 1044.74 117.219 1047.42 Q120.413 1050.11 120.413 1054.6 Q120.413 1056.73 119.603 1058.65 Q118.816 1060.55 116.709 1063.14 Q116.131 1063.81 113.029 1067.03 Q109.927 1070.22 104.279 1075.99 Z\" fill=\"#000000\" fill-rule=\"nonzero\" fill-opacity=\"1\" /><path clip-path=\"url(#clip930)\" d=\"M64.0708 690.387 Q60.4597 690.387 58.631 693.951 Q56.8254 697.493 56.8254 704.623 Q56.8254 711.729 58.631 715.294 Q60.4597 718.835 64.0708 718.835 Q67.705 718.835 69.5105 715.294 Q71.3392 711.729 71.3392 704.623 Q71.3392 697.493 69.5105 693.951 Q67.705 690.387 64.0708 690.387 M64.0708 686.683 Q69.8809 686.683 72.9365 691.289 Q76.0151 695.873 76.0151 704.623 Q76.0151 713.349 72.9365 717.956 Q69.8809 722.539 64.0708 722.539 Q58.2606 722.539 55.1819 717.956 Q52.1264 713.349 52.1264 704.623 Q52.1264 695.873 55.1819 691.289 Q58.2606 686.683 64.0708 686.683 Z\" fill=\"#000000\" fill-rule=\"nonzero\" fill-opacity=\"1\" /><path clip-path=\"url(#clip930)\" d=\"M84.2327 715.988 L89.1169 715.988 L89.1169 721.868 L84.2327 721.868 L84.2327 715.988 Z\" fill=\"#000000\" fill-rule=\"nonzero\" fill-opacity=\"1\" /><path clip-path=\"url(#clip930)\" d=\"M113.469 703.234 Q116.825 703.951 118.7 706.22 Q120.598 708.488 120.598 711.822 Q120.598 716.937 117.08 719.738 Q113.561 722.539 107.08 722.539 Q104.904 722.539 102.589 722.099 Q100.297 721.683 97.8437 720.826 L97.8437 716.312 Q99.7882 717.447 102.103 718.025 Q104.418 718.604 106.941 718.604 Q111.339 718.604 113.631 716.868 Q115.945 715.132 115.945 711.822 Q115.945 708.766 113.793 707.053 Q111.663 705.317 107.844 705.317 L103.816 705.317 L103.816 701.474 L108.029 701.474 Q111.478 701.474 113.307 700.109 Q115.135 698.72 115.135 696.127 Q115.135 693.465 113.237 692.053 Q111.362 690.618 107.844 690.618 Q105.922 690.618 103.723 691.035 Q101.524 691.451 98.8854 692.331 L98.8854 688.164 Q101.547 687.424 103.862 687.053 Q106.2 686.683 108.26 686.683 Q113.584 686.683 116.686 689.113 Q119.788 691.521 119.788 695.641 Q119.788 698.512 118.145 700.502 Q116.501 702.47 113.469 703.234 Z\" fill=\"#000000\" fill-rule=\"nonzero\" fill-opacity=\"1\" /><path clip-path=\"url(#clip930)\" d=\"M62.9365 332.333 Q59.3254 332.333 57.4967 335.897 Q55.6912 339.439 55.6912 346.569 Q55.6912 353.675 57.4967 357.24 Q59.3254 360.782 62.9365 360.782 Q66.5707 360.782 68.3763 357.24 Q70.205 353.675 70.205 346.569 Q70.205 339.439 68.3763 335.897 Q66.5707 332.333 62.9365 332.333 M62.9365 328.629 Q68.7467 328.629 71.8022 333.235 Q74.8809 337.819 74.8809 346.569 Q74.8809 355.295 71.8022 359.902 Q68.7467 364.485 62.9365 364.485 Q57.1264 364.485 54.0477 359.902 Q50.9921 355.295 50.9921 346.569 Q50.9921 337.819 54.0477 333.235 Q57.1264 328.629 62.9365 328.629 Z\" fill=\"#000000\" fill-rule=\"nonzero\" fill-opacity=\"1\" /><path clip-path=\"url(#clip930)\" d=\"M83.0984 357.934 L87.9827 357.934 L87.9827 363.814 L83.0984 363.814 L83.0984 357.934 Z\" fill=\"#000000\" fill-rule=\"nonzero\" fill-opacity=\"1\" /><path clip-path=\"url(#clip930)\" d=\"M111.015 333.328 L99.2095 351.777 L111.015 351.777 L111.015 333.328 M109.788 329.254 L115.668 329.254 L115.668 351.777 L120.598 351.777 L120.598 355.666 L115.668 355.666 L115.668 363.814 L111.015 363.814 L111.015 355.666 L95.4132 355.666 L95.4132 351.152 L109.788 329.254 Z\" fill=\"#000000\" fill-rule=\"nonzero\" fill-opacity=\"1\" /><circle clip-path=\"url(#clip932)\" cx=\"218.754\" cy=\"87.9763\" r=\"14.4\" fill=\"#009af9\" fill-rule=\"evenodd\" fill-opacity=\"1\" stroke=\"#000000\" stroke-opacity=\"1\" stroke-width=\"3.2\"/>\n",
       "<circle clip-path=\"url(#clip932)\" cx=\"291.45\" cy=\"131.787\" r=\"14.4\" fill=\"#009af9\" fill-rule=\"evenodd\" fill-opacity=\"1\" stroke=\"#000000\" stroke-opacity=\"1\" stroke-width=\"3.2\"/>\n",
       "<circle clip-path=\"url(#clip932)\" cx=\"367.28\" cy=\"261.453\" r=\"14.4\" fill=\"#009af9\" fill-rule=\"evenodd\" fill-opacity=\"1\" stroke=\"#000000\" stroke-opacity=\"1\" stroke-width=\"3.2\"/>\n",
       "<circle clip-path=\"url(#clip932)\" cx=\"447.497\" cy=\"243.432\" r=\"14.4\" fill=\"#009af9\" fill-rule=\"evenodd\" fill-opacity=\"1\" stroke=\"#000000\" stroke-opacity=\"1\" stroke-width=\"3.2\"/>\n",
       "<circle clip-path=\"url(#clip932)\" cx=\"533.353\" cy=\"200.199\" r=\"14.4\" fill=\"#009af9\" fill-rule=\"evenodd\" fill-opacity=\"1\" stroke=\"#000000\" stroke-opacity=\"1\" stroke-width=\"3.2\"/>\n",
       "<circle clip-path=\"url(#clip932)\" cx=\"632.371\" cy=\"314.407\" r=\"14.4\" fill=\"#009af9\" fill-rule=\"evenodd\" fill-opacity=\"1\" stroke=\"#000000\" stroke-opacity=\"1\" stroke-width=\"3.2\"/>\n",
       "<circle clip-path=\"url(#clip932)\" cx=\"732.015\" cy=\"289.872\" r=\"14.4\" fill=\"#009af9\" fill-rule=\"evenodd\" fill-opacity=\"1\" stroke=\"#000000\" stroke-opacity=\"1\" stroke-width=\"3.2\"/>\n",
       "<circle clip-path=\"url(#clip932)\" cx=\"827.899\" cy=\"445.442\" r=\"14.4\" fill=\"#009af9\" fill-rule=\"evenodd\" fill-opacity=\"1\" stroke=\"#000000\" stroke-opacity=\"1\" stroke-width=\"3.2\"/>\n",
       "<circle clip-path=\"url(#clip932)\" cx=\"933.81\" cy=\"549.898\" r=\"14.4\" fill=\"#009af9\" fill-rule=\"evenodd\" fill-opacity=\"1\" stroke=\"#000000\" stroke-opacity=\"1\" stroke-width=\"3.2\"/>\n",
       "<circle clip-path=\"url(#clip932)\" cx=\"1028.44\" cy=\"753.547\" r=\"14.4\" fill=\"#009af9\" fill-rule=\"evenodd\" fill-opacity=\"1\" stroke=\"#000000\" stroke-opacity=\"1\" stroke-width=\"3.2\"/>\n",
       "<circle clip-path=\"url(#clip932)\" cx=\"1127.46\" cy=\"832.488\" r=\"14.4\" fill=\"#009af9\" fill-rule=\"evenodd\" fill-opacity=\"1\" stroke=\"#000000\" stroke-opacity=\"1\" stroke-width=\"3.2\"/>\n",
       "<circle clip-path=\"url(#clip932)\" cx=\"1227.1\" cy=\"901.426\" r=\"14.4\" fill=\"#009af9\" fill-rule=\"evenodd\" fill-opacity=\"1\" stroke=\"#000000\" stroke-opacity=\"1\" stroke-width=\"3.2\"/>\n",
       "<circle clip-path=\"url(#clip932)\" cx=\"1310.45\" cy=\"973.009\" r=\"14.4\" fill=\"#009af9\" fill-rule=\"evenodd\" fill-opacity=\"1\" stroke=\"#000000\" stroke-opacity=\"1\" stroke-width=\"3.2\"/>\n",
       "<circle clip-path=\"url(#clip932)\" cx=\"1416.36\" cy=\"1089.81\" r=\"14.4\" fill=\"#009af9\" fill-rule=\"evenodd\" fill-opacity=\"1\" stroke=\"#000000\" stroke-opacity=\"1\" stroke-width=\"3.2\"/>\n",
       "<circle clip-path=\"url(#clip932)\" cx=\"1509.74\" cy=\"1147.66\" r=\"14.4\" fill=\"#009af9\" fill-rule=\"evenodd\" fill-opacity=\"1\" stroke=\"#000000\" stroke-opacity=\"1\" stroke-width=\"3.2\"/>\n",
       "<circle clip-path=\"url(#clip932)\" cx=\"1619.41\" cy=\"1173.8\" r=\"14.4\" fill=\"#009af9\" fill-rule=\"evenodd\" fill-opacity=\"1\" stroke=\"#000000\" stroke-opacity=\"1\" stroke-width=\"3.2\"/>\n",
       "<circle clip-path=\"url(#clip932)\" cx=\"1718.43\" cy=\"1274.01\" r=\"14.4\" fill=\"#009af9\" fill-rule=\"evenodd\" fill-opacity=\"1\" stroke=\"#000000\" stroke-opacity=\"1\" stroke-width=\"3.2\"/>\n",
       "<circle clip-path=\"url(#clip932)\" cx=\"1808.05\" cy=\"1270.62\" r=\"14.4\" fill=\"#009af9\" fill-rule=\"evenodd\" fill-opacity=\"1\" stroke=\"#000000\" stroke-opacity=\"1\" stroke-width=\"3.2\"/>\n",
       "<circle clip-path=\"url(#clip932)\" cx=\"1922.73\" cy=\"1273.48\" r=\"14.4\" fill=\"#009af9\" fill-rule=\"evenodd\" fill-opacity=\"1\" stroke=\"#000000\" stroke-opacity=\"1\" stroke-width=\"3.2\"/>\n",
       "<circle clip-path=\"url(#clip932)\" cx=\"2015.48\" cy=\"1333.77\" r=\"14.4\" fill=\"#009af9\" fill-rule=\"evenodd\" fill-opacity=\"1\" stroke=\"#000000\" stroke-opacity=\"1\" stroke-width=\"3.2\"/>\n",
       "<circle clip-path=\"url(#clip932)\" cx=\"2116.38\" cy=\"1380.09\" r=\"14.4\" fill=\"#009af9\" fill-rule=\"evenodd\" fill-opacity=\"1\" stroke=\"#000000\" stroke-opacity=\"1\" stroke-width=\"3.2\"/>\n",
       "<circle clip-path=\"url(#clip932)\" cx=\"2216.65\" cy=\"1378.11\" r=\"14.4\" fill=\"#009af9\" fill-rule=\"evenodd\" fill-opacity=\"1\" stroke=\"#000000\" stroke-opacity=\"1\" stroke-width=\"3.2\"/>\n",
       "<circle clip-path=\"url(#clip932)\" cx=\"2290.6\" cy=\"1445.72\" r=\"14.4\" fill=\"#009af9\" fill-rule=\"evenodd\" fill-opacity=\"1\" stroke=\"#000000\" stroke-opacity=\"1\" stroke-width=\"3.2\"/>\n",
       "<path clip-path=\"url(#clip930)\" d=\"M1789.17 198.898 L2279.55 198.898 L2279.55 95.2176 L1789.17 95.2176  Z\" fill=\"#ffffff\" fill-rule=\"evenodd\" fill-opacity=\"1\"/>\n",
       "<polyline clip-path=\"url(#clip930)\" style=\"stroke:#000000; stroke-linecap:round; stroke-linejoin:round; stroke-width:4; stroke-opacity:1; fill:none\" points=\"1789.17,198.898 2279.55,198.898 2279.55,95.2176 1789.17,95.2176 1789.17,198.898 \"/>\n",
       "<circle clip-path=\"url(#clip930)\" cx=\"1886.78\" cy=\"147.058\" r=\"20.48\" fill=\"#009af9\" fill-rule=\"evenodd\" fill-opacity=\"1\" stroke=\"#000000\" stroke-opacity=\"1\" stroke-width=\"4.55111\"/>\n",
       "<path clip-path=\"url(#clip930)\" d=\"M1985.06 160.402 L1992.7 160.402 L1992.7 134.037 L1984.39 135.703 L1984.39 131.444 L1992.65 129.778 L1997.33 129.778 L1997.33 160.402 L2004.97 160.402 L2004.97 164.338 L1985.06 164.338 L1985.06 160.402 Z\" fill=\"#000000\" fill-rule=\"nonzero\" fill-opacity=\"1\" /><path clip-path=\"url(#clip930)\" d=\"M2014.41 158.458 L2019.29 158.458 L2019.29 164.338 L2014.41 164.338 L2014.41 158.458 Z\" fill=\"#000000\" fill-rule=\"nonzero\" fill-opacity=\"1\" /><path clip-path=\"url(#clip930)\" d=\"M2030.29 160.402 L2037.93 160.402 L2037.93 134.037 L2029.62 135.703 L2029.62 131.444 L2037.88 129.778 L2042.56 129.778 L2042.56 160.402 L2050.2 160.402 L2050.2 164.338 L2030.29 164.338 L2030.29 160.402 Z\" fill=\"#000000\" fill-rule=\"nonzero\" fill-opacity=\"1\" /><path clip-path=\"url(#clip930)\" d=\"M2091.45 134.615 L2091.45 147.509 L2104.34 147.509 L2104.34 151.444 L2091.45 151.444 L2091.45 164.338 L2087.56 164.338 L2087.56 151.444 L2074.66 151.444 L2074.66 147.509 L2087.56 147.509 L2087.56 134.615 L2091.45 134.615 Z\" fill=\"#000000\" fill-rule=\"nonzero\" fill-opacity=\"1\" /><path clip-path=\"url(#clip930)\" d=\"M2139.5 132.856 Q2135.89 132.856 2134.06 136.421 Q2132.26 139.963 2132.26 147.092 Q2132.26 154.199 2134.06 157.764 Q2135.89 161.305 2139.5 161.305 Q2143.14 161.305 2144.94 157.764 Q2146.77 154.199 2146.77 147.092 Q2146.77 139.963 2144.94 136.421 Q2143.14 132.856 2139.5 132.856 M2139.5 129.153 Q2145.31 129.153 2148.37 133.759 Q2151.45 138.342 2151.45 147.092 Q2151.45 155.819 2148.37 160.426 Q2145.31 165.009 2139.5 165.009 Q2133.69 165.009 2130.61 160.426 Q2127.56 155.819 2127.56 147.092 Q2127.56 138.342 2130.61 133.759 Q2133.69 129.153 2139.5 129.153 Z\" fill=\"#000000\" fill-rule=\"nonzero\" fill-opacity=\"1\" /><path clip-path=\"url(#clip930)\" d=\"M2159.66 158.458 L2164.55 158.458 L2164.55 164.338 L2159.66 164.338 L2159.66 158.458 Z\" fill=\"#000000\" fill-rule=\"nonzero\" fill-opacity=\"1\" /><path clip-path=\"url(#clip930)\" d=\"M2184.73 132.856 Q2181.12 132.856 2179.29 136.421 Q2177.49 139.963 2177.49 147.092 Q2177.49 154.199 2179.29 157.764 Q2181.12 161.305 2184.73 161.305 Q2188.37 161.305 2190.17 157.764 Q2192 154.199 2192 147.092 Q2192 139.963 2190.17 136.421 Q2188.37 132.856 2184.73 132.856 M2184.73 129.153 Q2190.54 129.153 2193.6 133.759 Q2196.68 138.342 2196.68 147.092 Q2196.68 155.819 2193.6 160.426 Q2190.54 165.009 2184.73 165.009 Q2178.92 165.009 2175.84 160.426 Q2172.79 155.819 2172.79 147.092 Q2172.79 138.342 2175.84 133.759 Q2178.92 129.153 2184.73 129.153 Z\" fill=\"#000000\" fill-rule=\"nonzero\" fill-opacity=\"1\" /><path clip-path=\"url(#clip930)\" d=\"M2204.29 138.412 L2208.55 138.412 L2208.55 164.338 L2204.29 164.338 L2204.29 138.412 M2204.29 128.319 L2208.55 128.319 L2208.55 133.713 L2204.29 133.713 L2204.29 128.319 Z\" fill=\"#000000\" fill-rule=\"nonzero\" fill-opacity=\"1\" /><path clip-path=\"url(#clip930)\" d=\"M2237.65 143.389 Q2239.25 140.518 2241.47 139.153 Q2243.69 137.787 2246.7 137.787 Q2250.75 137.787 2252.95 140.634 Q2255.15 143.458 2255.15 148.689 L2255.15 164.338 L2250.87 164.338 L2250.87 148.828 Q2250.87 145.102 2249.55 143.296 Q2248.23 141.49 2245.52 141.49 Q2242.21 141.49 2240.29 143.69 Q2238.37 145.889 2238.37 149.685 L2238.37 164.338 L2234.08 164.338 L2234.08 148.828 Q2234.08 145.078 2232.76 143.296 Q2231.45 141.49 2228.69 141.49 Q2225.43 141.49 2223.51 143.713 Q2221.58 145.912 2221.58 149.685 L2221.58 164.338 L2217.3 164.338 L2217.3 138.412 L2221.58 138.412 L2221.58 142.44 Q2223.04 140.055 2225.08 138.921 Q2227.12 137.787 2229.92 137.787 Q2232.74 137.787 2234.71 139.222 Q2236.7 140.657 2237.65 143.389 Z\" fill=\"#000000\" fill-rule=\"nonzero\" fill-opacity=\"1\" /></svg>\n"
      ]
     },
     "execution_count": 62,
     "metadata": {},
     "output_type": "execute_result"
    }
   ],
   "source": [
    "k = 13\n",
    "scatter(DELTA_GAMMELMARK, myfi[:, k], label=\"$(alphas[k])\")"
   ]
  }
 ],
 "metadata": {
  "kernelspec": {
   "display_name": "Julia 1.10.8",
   "language": "julia",
   "name": "julia-1.10"
  },
  "language_info": {
   "file_extension": ".jl",
   "mimetype": "application/julia",
   "name": "julia",
   "version": "1.10.8"
  }
 },
 "nbformat": 4,
 "nbformat_minor": 5
}
