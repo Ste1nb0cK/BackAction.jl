{
 "cells": [
  {
   "cell_type": "code",
   "execution_count": 1,
   "id": "ebaf49db-1431-47f7-bb96-4e9911fa6d70",
   "metadata": {},
   "outputs": [
    {
     "name": "stderr",
     "output_type": "stream",
     "text": [
      "\u001b[32m\u001b[1m  Activating\u001b[22m\u001b[39m project at `~/Documents/Research/MonitoringMetrology/QuTaM.jl`\n"
     ]
    }
   ],
   "source": [
    "import Pkg; Pkg.activate(\"../\"); # Activate the project \n",
    "# Import all the necessary libraries\n",
    "libraries = [\"QuTaM\", \"LinearAlgebra\", \"Plots\", \"LaTeXStrings\", \"Statistics\", \"OrdinaryDiffEq\", \"ProgressMeter\", \"CSV\", \"DataFrames\"]\n",
    "\n",
    "function ensure_imports(packages::Vector{String})\n",
    "    for pkg in packages\n",
    "        try\n",
    "            @eval using $(Symbol(pkg))\n",
    "        catch e\n",
    "            if e isa ArgumentError && occursin(pkg, e.msg)\n",
    "                println(\"Installing $pkg...\")\n",
    "                Pkg.add(pkg)\n",
    "                @eval using $(Symbol(pkg))\n",
    "            else\n",
    "                rethrow(e)\n",
    "            end\n",
    "        end\n",
    "    end\n",
    "end\n",
    "\n",
    "ensure_imports(libraries)"
   ]
  },
  {
   "cell_type": "code",
   "execution_count": 45,
   "id": "3c75c79e-fd89-4a06-b32d-fc2aafe0613d",
   "metadata": {},
   "outputs": [
    {
     "data": {
      "text/plain": [
       "SimulParameters(psi0=ComplexF64[1.0 + 0.0im, 0.0 + 0.0im]\n",
       "nsamples=25000\n",
       "seed=1\n",
       "ntraj=250)\n",
       "multiplier=1.0\n",
       "tf=25.0\n",
       "dt=0.001\n",
       "eps=0.001)"
      ]
     },
     "execution_count": 45,
     "metadata": {},
     "output_type": "execute_result"
    }
   ],
   "source": [
    "rf_EPS = 1e-5 # Tolerance for the distance respect to the Frobenious norm\n",
    "rf_delta= 0.0 # Detuning. For comparison with the Analytic WTD this must be zero\n",
    "rf_omega = 0.5 # Rabi Frequency\n",
    "rf_gamma = 0.5\n",
    "rf_L = sqrt(rf_gamma)*QuTaM.sigma_m\n",
    "rf_psi0 = zeros(ComplexF64, 2)\n",
    "rf_psi0[1] = 1 # Initial condition\n",
    "\n",
    "alpha = 10.0\n",
    "L = sqrt(rf_gamma)*QuTaM.sigma_m + alpha*I\n",
    "H = QuTaM.rf_H - 0.5im*(conj(alpha)*L-alpha*adjoint(L))\n",
    "\n",
    "sys = System(H,[L]) #Jump Operators\n",
    "params = SimulParameters(rf_psi0,\n",
    "    25.0, # Final time. Set very long so that all trajectories jump\n",
    "    1, # seed\n",
    "    250, # Number of trajectories\n",
    "    25000, # Number of samples in the finegrid\n",
    "    1.0, # Multiplier to use in the fine grid\n",
    "    1e-3 # Tolerance for passing Dark state test\n",
    ")"
   ]
  },
  {
   "cell_type": "code",
   "execution_count": 46,
   "id": "ea7e1911-967e-4dde-be7e-cb5d77da8fc7",
   "metadata": {},
   "outputs": [
    {
     "data": {
      "text/plain": [
       "1"
      ]
     },
     "execution_count": 46,
     "metadata": {},
     "output_type": "execute_result"
    }
   ],
   "source": [
    "t0 = eps(Float64) # To avoid having jumps at 0\n",
    "ts = collect(LinRange(t0, params.multiplier*params.tf, params.nsamples))\n",
    "Qs = Array{ComplexF64}(undef, sys.NLEVELS, sys.NLEVELS, params.nsamples)\n",
    "Vs = Array{ComplexF64}(undef, sys.NLEVELS, sys.NLEVELS, params.nsamples)\n",
    "QuTaM.precompute!(sys, params.nsamples, ts, Qs, Vs)\n",
    "# To store the data\n",
    "# Create copies of the everything arrays, one for each thread\n",
    "W = Array{Float64}(undef, params.nsamples,1 )\n",
    "P = Array{Float64}(undef, sys.NCHANNELS, 1)\n",
    "tid  = 1 #threadid()\n"
   ]
  },
  {
   "cell_type": "code",
   "execution_count": 47,
   "id": "4f928997-1b38-4d1e-b0de-13dfd7c24c59",
   "metadata": {},
   "outputs": [
    {
     "data": {
      "text/plain": [
       "myfunc (generic function with 1 method)"
      ]
     },
     "execution_count": 47,
     "metadata": {},
     "output_type": "execute_result"
    }
   ],
   "source": [
    "function myfunc()\n",
    "    t0 = eps(Float64) # To avoid having jumps at 0\n",
    "    ts = collect(LinRange(t0, params.multiplier*params.tf, params.nsamples))\n",
    "    Qs = Array{ComplexF64}(undef, sys.NLEVELS, sys.NLEVELS, params.nsamples)\n",
    "    Vs = Array{ComplexF64}(undef, sys.NLEVELS, sys.NLEVELS, params.nsamples)\n",
    "    QuTaM.precompute!(sys, params.nsamples, ts, Qs, Vs)\n",
    "    # To store the data\n",
    "    data = Vector{Trajectory}(undef, params.ntraj)\n",
    "    # Create copies of the everything arrays, one for each thread\n",
    "    W = Array{Float64}(undef, params.nsamples, 1)\n",
    "    P = Array{Float64}(undef, sys.NCHANNELS, 1)\n",
    "    tid  = 1\n",
    "    QuTaM.run_single_trajectory(sys, params, W[:, tid], P[:, tid],\n",
    "                            ts, Qs, Vs; seed = params.seed + 1)\n",
    " \n",
    "end"
   ]
  },
  {
   "cell_type": "code",
   "execution_count": 49,
   "id": "1a0bb9cf-5c49-445c-b9ac-40ddfb625266",
   "metadata": {},
   "outputs": [
    {
     "name": "stdout",
     "output_type": "stream",
     "text": [
      "  5.364917 seconds (65.61 M allocations: 7.824 GiB, 8.72% gc time)\n"
     ]
    },
    {
     "data": {
      "text/plain": [
       "2609-element Vector{DetectionClick}:\n",
       " DetectionClick(2.220446049250313e-16, 1)\n",
       " DetectionClick(0.013000520020801055, 1)\n",
       " DetectionClick(0.00200008000320035, 1)\n",
       " DetectionClick(0.010000400016000862, 1)\n",
       " DetectionClick(0.014000560022401118, 1)\n",
       " DetectionClick(0.07500300012000502, 1)\n",
       " DetectionClick(0.0450018000720031, 1)\n",
       " DetectionClick(0.009000360014400799, 1)\n",
       " DetectionClick(0.006000240009600606, 1)\n",
       " DetectionClick(2.220446049250313e-16, 1)\n",
       " DetectionClick(0.017000680027201308, 1)\n",
       " DetectionClick(0.010000400016000862, 1)\n",
       " DetectionClick(0.004000160006400478, 1)\n",
       " ⋮\n",
       " DetectionClick(0.018000720028801376, 1)\n",
       " DetectionClick(0.021000840033601566, 1)\n",
       " DetectionClick(0.003000120004800414, 1)\n",
       " DetectionClick(0.006000240009600606, 1)\n",
       " DetectionClick(0.014000560022401118, 1)\n",
       " DetectionClick(0.005000200008000542, 1)\n",
       " DetectionClick(0.008000320012800734, 1)\n",
       " DetectionClick(0.001000040001600286, 1)\n",
       " DetectionClick(0.006000240009600606, 1)\n",
       " DetectionClick(2.220446049250313e-16, 1)\n",
       " DetectionClick(0.008000320012800734, 1)\n",
       " DetectionClick(0.028001120044802014, 1)"
      ]
     },
     "execution_count": 49,
     "metadata": {},
     "output_type": "execute_result"
    }
   ],
   "source": [
    "@time begin myfunc()\n",
    "end "
   ]
  },
  {
   "cell_type": "code",
   "execution_count": null,
   "id": "355abacd-805f-4db0-9320-5103813835e2",
   "metadata": {},
   "outputs": [],
   "source": [
    "trajectories = run_trajectories(sys, params);"
   ]
  },
  {
   "cell_type": "code",
   "execution_count": null,
   "id": "d83f5ac3-a3cb-4fbe-a52b-d3e676f6ce84",
   "metadata": {},
   "outputs": [],
   "source": [
    "## Average Simulation ################3\n",
    "# Now from each trajectory, generate the states at the given times\n",
    "ntimes = size(t_given)[1]\n",
    "sample = zeros(ComplexF64, sys.NLEVELS, ntimes, params.ntraj)\n",
    "@time begin\n",
    "for n in 1:params.ntraj\n",
    "    sample[:, :, n] = QuTaM.evaluate_at_t(t_given, sample_clicks[n], sys,  params.psi0)\n",
    "end\n",
    "\n",
    "end "
   ]
  }
 ],
 "metadata": {
  "kernelspec": {
   "display_name": "Julia 1.10.0",
   "language": "julia",
   "name": "julia-1.10"
  },
  "language_info": {
   "file_extension": ".jl",
   "mimetype": "application/julia",
   "name": "julia",
   "version": "1.10.0"
  }
 },
 "nbformat": 4,
 "nbformat_minor": 5
}
