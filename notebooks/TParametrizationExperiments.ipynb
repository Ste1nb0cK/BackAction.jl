{
 "cells": [
  {
   "cell_type": "code",
   "execution_count": 2,
   "id": "82aef7bd-76dd-490e-a36e-2b4dc3dac708",
   "metadata": {},
   "outputs": [
    {
     "name": "stderr",
     "output_type": "stream",
     "text": [
      "\u001b[32m\u001b[1m  Activating\u001b[22m\u001b[39m project at `~/Documents/Research/MonitoringMetrology/BackAction.jl/notebooks`\n"
     ]
    }
   ],
   "source": [
    "import Pkg; Pkg.activate(\"./\")"
   ]
  },
  {
   "cell_type": "code",
   "execution_count": 3,
   "id": "d7515636-530c-4815-a6c3-b781dd6b03b0",
   "metadata": {},
   "outputs": [],
   "source": [
    "using Random, Statistics, Plots, LaTeXStrings, DifferentialEquations, LinearAlgebra, BackAction, Base.Threads, StatsBase"
   ]
  },
  {
   "cell_type": "code",
   "execution_count": null,
   "id": "92372399-e2c4-4503-89fa-038f32c427ca",
   "metadata": {},
   "outputs": [],
   "source": [
    "function sample_c2(seed)\n",
    "    theta = pi*rand()\n",
    "    phi = 2*pi*rand()\n",
    "    return [cos(theta*0.5); exp(1im*phi)*sin(theta*0.5)] \n",
    "end"
   ]
  },
  {
   "cell_type": "code",
   "execution_count": null,
   "id": "65c8c6c3-efcf-4b83-a5b7-502965e94e2a",
   "metadata": {},
   "outputs": [],
   "source": [
    "# Set up the unravelings\n",
    "seed = 12\n",
    "Random.seed!(seed)\n",
    "println(\"1. Draw a random T\")\n",
    "T = sample_c2(seed) #T_matrix = reshape([-0.32839473+0.66388951*1im;\n",
    "                    #-0.17785852+0.64789966*1im], 2, 1)# sample_c2(seed)\n",
    "T = reshape(T/norm(T), 2,1)\n",
    "println(\"Sanity check, T is an isometry \") \n",
    "println(\"T^daggerT = 1: $(adjoint(T)*T)\", \"\\tdims=$(size(adjoint(T)*T))\")\n",
    "println(\"We are using T = \", T, \"\\n\")\n",
    "\n",
    "println(\"2. Transform T into T_curvy, the 2x2 matrix\")\n",
    "T_curvy = [real(T[1]) imag(T[1]); real(T[2]) imag(T[2]) ]\n",
    "println(\"We are using T_curvy=\", T_curvy)\n",
    "\n",
    "println(\"3.Polar decomposition\")\n",
    "println(\"3.1 get the SVD (see https://en.wikipedia.org/wiki/Polar_decomposition#Relation_to_the_SVD)\")\n",
    "F = svd(T_curvy) # Factorization object\n",
    "println(\"Sanity check, this do is an SVD factorization:\")\n",
    "println(\"|T_curvy - F.U * Diagonal(F.S) * F.Vt|_2 =\", opnorm(T_curvy - F.U * Diagonal(F.S) * F.Vt),\"\\n\") # Evaluate distance using the Frobenious norm\n",
    "println(\"3.2 Define P and O\")\n",
    "P = F.V * Diagonal(F.S) * F.Vt\n",
    "O = F.U * F.Vt\n",
    "println(\"Sanity check, O is orthogonal and P is positive symmetric\")\n",
    "println(\"|O^T O - I|_2 , |O O^T - I |_2 = \", opnorm(I - O'*O), \"\\t\",opnorm(I - O*O'))\n",
    "println(\"|P - P^T|= \",  opnorm(P - P'))\n",
    "println(\"Eigenvalues of P: \", eigen(P).values, \"\\n\")\n",
    "\n",
    "println(\"4. Obtain T_curvy_dyne\")\n",
    "T_curvy_dyne = O' * T_curvy\n",
    "println(\"T_curvy_dyne = \")\n",
    "println(T_curvy_dyne, \"\\n\")\n",
    "\n",
    "println(\"5. Obtain T_dyne\")\n",
    "T_dyne = O' * real.(T) + 1im * O' * imag.(T)\n",
    "println(\"Sanity check: T_curvy_dyne has as columns the real/imaginary parts of T_dyne\")\n",
    "println(\"|T_curvy_dyne[1, :] - real(T_dyne)| = \", norm(T_curvy_dyne[1, :] - real(T_dyne)))\n",
    "println(\"|T_curvy_dyne[2, :] - imag(T_dyne)| = \", norm(T_curvy_dyne[2, :] - imag(T_dyne)))\n",
    "println(\"T_dyne =\")\n",
    "println(T_dyne)\n",
    "println(\"Sanity check: T_curvy_dyne is an isometry\")\n",
    "println(\"T_dyne^dagger T_dyne = $(adjoint(T)*T)\\n\" )\n",
    "\n",
    "println(\"6. Now define the matrices we will use for the unravelings\")\n",
    "Ta = T \n",
    "Tb = T_dyne \n",
    "Tc = T_dyne \n",
    "println(\"T_a = \", Ta)\n",
    "println(\"T_b = \", Tb)\n",
    "println(\"T_c = \", Tc)\n",
    "\n",
    "Ts = Dict([(\"a\", Ta), (\"b\", Tb), (\"c\", Tc)]) # Dictionary with the Ts\n",
    "println(\"Sanity check: the the T's are isometries\")\n",
    "for key in keys(Ts)\n",
    "    println(\"$key : \", adjoint(Ts[key]) * Ts[key])\n",
    "end\n",
    "\n",
    "println(\"We are using the alphas:\")\n",
    "alpha0 = [2.0 + 0im; 2.0 + 0im] \n",
    "alphas = Dict([(\"a\", alpha0), (\"b\", alpha0), (\"c\", O' * alpha0)]) # Dictionary with the alphas\n",
    "for key in keys(Ts)\n",
    "    println(\"$key : \", adjoint(alphas[key]))\n",
    "end\n"
   ]
  },
  {
   "cell_type": "code",
   "execution_count": null,
   "id": "1938e7b4-7aed-47dc-af55-f718251a691f",
   "metadata": {},
   "outputs": [],
   "source": []
  },
  {
   "cell_type": "code",
   "execution_count": 4,
   "id": "d4e576e1-76d9-480a-9e45-be7c44b8e8ba",
   "metadata": {},
   "outputs": [
    {
     "data": {
      "text/plain": [
       "2×2 Matrix{ComplexF64}:\n",
       " 0.0+0.0im  0.5+0.0im\n",
       " 0.0+0.0im  0.0+0.0im"
      ]
     },
     "execution_count": 4,
     "metadata": {},
     "output_type": "execute_result"
    }
   ],
   "source": [
    "# Parameters and time evaluation\n",
    "ntimes = 75\n",
    "params = SimulParameters(1/sqrt(2) * [1.0 + 0im;1.0 + 0im], #initial condition\n",
    "    25.0, #tf\n",
    "    1, # seed\n",
    "    10_000, # Number of trajectories\n",
    "    # You can ignore the rest, they are only used for the Gillipsie method\n",
    "    25_000, # Number of samples in the finegrid\n",
    "    4.0, # Multiplier to use in the fine grid\n",
    "    1e-3 # Tolerance for passing Dark state test\n",
    ")\n",
    "t_eval = collect(LinRange(0.0, params.tf, ntimes));\n",
    "gamma = 0.25\n",
    "delta = 0.0\n",
    "omega = 1.0\n",
    "# Operator definitions\n",
    "H = 0.5*delta*BackAction.sigma_z + 0.5*omega*BackAction.sigma_x\n",
    "L = sqrt(gamma)*BackAction.sigma_m"
   ]
  },
  {
   "cell_type": "code",
   "execution_count": null,
   "id": "13f2d76c-ed0e-4ad1-93e2-a510c28e8530",
   "metadata": {},
   "outputs": [],
   "source": [
    "# Function for obtaianing a sample of Bloch vectors from a given T\n",
    "function get_r_sample(T, alpha)\n",
    "    sys = System(H, [L], T, alpha)\n",
    "    # Problem definition\n",
    "    @time begin\n",
    "    sim = get_sol_jumps(sys, params, t_eval; reltol=1e-8);\n",
    "    end\n",
    "    # observable evaluation \n",
    "    r_sample = Array{Float64}(undef, 3, ntimes,params.ntraj)\n",
    "    sigma = [BackAction.sigma_x, BackAction.sigma_y, BackAction.sigma_z]\n",
    "    @threads for n in 1:params.ntraj\n",
    "                 for t in 1:ntimes\n",
    "                    psi = sim[n](t_eval[t])\n",
    "                    for k in 1:3\n",
    "                        r_sample[k, t, n] = real(dot(psi, sigma[k], psi))/dot(psi, psi)\n",
    "                     end\n",
    "                 end \n",
    "            end \n",
    "    return r_sample\n",
    "end"
   ]
  },
  {
   "cell_type": "code",
   "execution_count": 85,
   "id": "af9ed5d4-68be-4681-ad44-9585a0462542",
   "metadata": {},
   "outputs": [],
   "source": [
    "# Analytical solution\n",
    "function resonance_fluorescene!(du, u, p, t)\n",
    "    #     -0.5*gamma*(2*nbar+1)*r[1] - delta*r[2]\n",
    "    # delta*r[1] - 0.5*gamma*(2*nbar+1)*r[2] - omega*r[3];\n",
    "    # omega*r[2] - gamma*(2*nbar+1)*r[3] - gamma]\n",
    "\n",
    "    du[1] = - 0.5*gamma*u[1] - delta*u[2]  \n",
    "    du[2] = + delta*u[1] - 0.5*gamma*u[2]- omega*u[3]  \n",
    "    du[3] = omega*u[2] - gamma*u[3] - gamma\n",
    "end\n",
    "u0 = [1.0, 0.0, 0.0]\n",
    "prob_analytical = ODEProblem(resonance_fluorescene!, u0, extrema(t_eval))\n",
    "sol_analytical = solve(prob_analytical);"
   ]
  },
  {
   "cell_type": "code",
   "execution_count": 5,
   "id": "9ac3ca60-5d01-48b8-b575-6a24e8bfd7bb",
   "metadata": {},
   "outputs": [
    {
     "data": {
      "text/plain": [
       "2-element Vector{ComplexF64}:\n",
       " 0.7071067811865475 + 0.0im\n",
       " 0.7071067811865475 + 0.0im"
      ]
     },
     "execution_count": 5,
     "metadata": {},
     "output_type": "execute_result"
    }
   ],
   "source": [
    "params.psi0"
   ]
  },
  {
   "cell_type": "code",
   "execution_count": 82,
   "id": "3767bae6-7b09-419f-a965-05d6c3abe54f",
   "metadata": {
    "scrolled": true
   },
   "outputs": [
    {
     "name": "stdout",
     "output_type": "stream",
     "text": [
      "143.599656 seconds (3.35 G allocations: 285.871 GiB, 42.23% gc time)\n",
      "155.542526 seconds (3.31 G allocations: 282.253 GiB, 46.41% gc time)\n",
      "152.601160 seconds (3.35 G allocations: 285.775 GiB, 43.35% gc time)\n"
     ]
    }
   ],
   "source": [
    "r_samples = Dict()\n",
    "for key in keys(Ts)\n",
    "    r_samples[key] = get_r_sample(Ts[key], alphas[key])\n",
    "end"
   ]
  },
  {
   "cell_type": "code",
   "execution_count": 83,
   "id": "e88ffd75-cd8a-4261-a8b1-2e63fb56f9b9",
   "metadata": {},
   "outputs": [
    {
     "data": {
      "text/plain": [
       "\"red\""
      ]
     },
     "execution_count": 83,
     "metadata": {},
     "output_type": "execute_result"
    }
   ],
   "source": [
    "colors = Dict()\n",
    "colors[\"a\"] = \"green\"\n",
    "colors[\"b\"] = \"yellow\"\n",
    "colors[\"c\"] = \"red\""
   ]
  },
  {
   "cell_type": "code",
   "execution_count": 84,
   "id": "c0ca398f-f1d8-4e55-a00b-7d4dbc59cd71",
   "metadata": {},
   "outputs": [
    {
     "data": {
      "text/plain": [
       "3-element Vector{Symbol}:\n",
       " :dash\n",
       " :dot\n",
       " :solid"
      ]
     },
     "execution_count": 84,
     "metadata": {},
     "output_type": "execute_result"
    }
   ],
   "source": [
    "lines = [:dash, :dot, :solid]"
   ]
  },
  {
   "cell_type": "code",
   "execution_count": null,
   "id": "19a73b23-e746-44b3-ac27-179f2686c109",
   "metadata": {},
   "outputs": [],
   "source": [
    "# Now plot the  n-th moment for z\n",
    "p = plot(title=\"mean, \"*L\"\\alpha_1=%$(norm(alpha0[1])), \\alpha_2=%$(norm(alpha0[2])), \\Omega=%$(omega), \\gamma=%$(gamma), \\Delta=%$(delta)\", size=(1200, 400))\n",
    "for key in keys(Ts)\n",
    "    for k in 1:3\n",
    "        data = [mean(r_samples[key][k, t, :]) for t in 1:ntimes ]\n",
    "        plot!(t_eval, data, label=L\"T_%$key:\\langle\\sigma_%$k\\rangle\", color=colors[key], line=lines[k]) \n",
    "    end\n",
    "end \n",
    "plot!(sol_analytical,   label=\"Analytical\", linewidth=2, line=:dash, color=\"black\")\n",
    "savefig(\"Images/mean%$(omega)_$(gamma)_$(delta)_$(alpha0[1])_$(alpha0[2]).png\")\n",
    "p"
   ]
  }
 ],
 "metadata": {
  "kernelspec": {
   "display_name": "Julia 1.10.8",
   "language": "julia",
   "name": "julia-1.10"
  },
  "language_info": {
   "file_extension": ".jl",
   "mimetype": "application/julia",
   "name": "julia",
   "version": "1.10.8"
  }
 },
 "nbformat": 4,
 "nbformat_minor": 5
}
