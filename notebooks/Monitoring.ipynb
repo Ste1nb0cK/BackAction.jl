{
 "cells": [
  {
   "cell_type": "code",
   "execution_count": 1,
   "id": "a6233b08-3b55-49d1-b72b-0188de7d2e08",
   "metadata": {},
   "outputs": [
    {
     "name": "stderr",
     "output_type": "stream",
     "text": [
      "\u001b[32m\u001b[1m  Activating\u001b[22m\u001b[39m project at `~/Documents/Research/MonitoringMetrology/QuTaM.jl`\n"
     ]
    }
   ],
   "source": [
    "import Pkg; Pkg.activate(\"../\"); # Activate the project "
   ]
  },
  {
   "cell_type": "code",
   "execution_count": 2,
   "id": "4bfe8f4c-33f8-42d0-a6a3-0b73c87efd35",
   "metadata": {},
   "outputs": [
    {
     "name": "stderr",
     "output_type": "stream",
     "text": [
      "\u001b[32m\u001b[1mPrecompiling\u001b[22m\u001b[39m QuTaM\n",
      "\u001b[32m  ✓ \u001b[39mQuTaM\n",
      "  1 dependency successfully precompiled in 6 seconds. 294 already precompiled.\n"
     ]
    }
   ],
   "source": [
    "# Import all the necessary libraries\n",
    "libraries = [\"QuTaM\", \"LinearAlgebra\"]\n",
    "\n",
    "function ensure_imports(packages::Vector{String})\n",
    "    for pkg in packages\n",
    "        try\n",
    "            @eval using $(Symbol(pkg))\n",
    "        catch e\n",
    "            if e isa ArgumentError && occursin(pkg, e.msg)\n",
    "                println(\"Installing $pkg...\")\n",
    "                Pkg.add(pkg)\n",
    "                @eval using $(Symbol(pkg))\n",
    "            else\n",
    "                rethrow(e)\n",
    "            end\n",
    "        end\n",
    "    end\n",
    "end\n",
    "\n",
    "ensure_imports(libraries)"
   ]
  },
  {
   "cell_type": "code",
   "execution_count": 3,
   "id": "fd489b13-5d8f-41e5-a7a3-ca7816da247b",
   "metadata": {},
   "outputs": [
    {
     "data": {
      "text/plain": [
       "GetHeffParametrized (generic function with 1 method)"
      ]
     },
     "execution_count": 3,
     "metadata": {},
     "output_type": "execute_result"
    }
   ],
   "source": [
    "H_parametrized = (delta::Float64, gamma::Float64) -> (0.5*delta*QuTaM.sigma_z)::Matrix{ComplexF64}\n",
    "L_parametrized = (delta::Float64, gamma::Float64) -> (sqrt(gamma)*QuTaM.sigma_m)::Matrix{ComplexF64}\n",
    "# Function that constructs returns a parametrization of the effective hamiltonian from \n",
    "# the parametrization of the hamiltonian and the jump operators\n",
    "function GetHeffParametrized(H_par::Function, Ls_par)::Function\n",
    "    return (input...) -> begin\n",
    "        LLs_par = [ adjoint(L_par(input...))*L_par(input...) for L_par in Ls_par]\n",
    "        return H_par(input...) - 0.5im*sum(LLs_par)  \n",
    "    end \n",
    "end "
   ]
  },
  {
   "cell_type": "code",
   "execution_count": 4,
   "id": "87eb6f99-e9ec-41f2-beee-99cdf8fc94c2",
   "metadata": {},
   "outputs": [
    {
     "data": {
      "text/plain": [
       "DerivativesAtJumps (generic function with 1 method)"
      ]
     },
     "execution_count": 4,
     "metadata": {},
     "output_type": "execute_result"
    }
   ],
   "source": [
    "function DerivativeExpHeff(Heff_par::Function, tau::Float64, theta::Vector{Float64}, dtheta::Vector{Float64})\n",
    "    f1 =  exp(-1im*tau*Heff_par((theta + 2*dtheta)...))\n",
    "    f2 =  exp(-1im*tau*Heff_par((theta + 1*dtheta)...))\n",
    "    f3 =  exp(-1im*tau*Heff_par((theta - 1*dtheta)...))\n",
    "    f4 =  exp(-1im*tau*Heff_par((theta - 2*dtheta)...))\n",
    "    return (-f1 + 8*f2 - 8*f3 + f4 )/(12*norm(dtheta))\n",
    "end \n",
    "\n",
    "function DerivativesAtJumps(sys::System, Heff_par::Function, Ls_par, traj::Trajectory, psi0::Vector{ComplexF64}, theta::Vector{Float64},\n",
    "                            dtheta::Vector{Float64})\n",
    "    # 1. Get the derivatives of L\n",
    "    nchannels = size(Ls_par)[1]\n",
    "    dLs = zeros(ComplexF64, sys.NLEVELS, sys.NLEVELS, nchannels)\n",
    "    \n",
    "    for k in 1:nchannels\n",
    "        f1 = Ls_par[k]((theta + 2*dtheta)...) \n",
    "        f2 = Ls_par[k]((theta+dtheta)...) \n",
    "        f3 = Ls_par[k]((theta-dtheta)...)\n",
    "        f4 = Ls_par[k]((theta-2*dtheta)...)\n",
    "        dLs[:, :, k] = (-f1 + 8*f2 - 8*f3 + f4 )/(12*norm(dtheta))\n",
    "    end \n",
    "    # 2.1 Setup \n",
    "    njumps = size(traj)[1]\n",
    "    tmp1 = copy(psi0)\n",
    "    tmp2 = zeros(ComplexF64, sys.NLEVELS) \n",
    "    dpsis = zeros(ComplexF64, sys.NLEVELS, njumps)\n",
    "    # 2.2 Set up the first jump\n",
    "    click = traj[1] \n",
    "    label = click.label\n",
    "    tau = click.time\n",
    "    dpsis[:, 1] .= dLs[:, :, label] * exp(-1im*tau*sys.Heff) * tmp1 +\n",
    "                      sys.Ls[label] * DerivativeExpHeff(Heff_par, tau, theta, dtheta) * tmp1 # Derivative\n",
    "    # In case there are no more jumps, return\n",
    "    if njumps  == 1 \n",
    "        return dpsis\n",
    "    end  \n",
    "    # 3. Go over the rest of the jumps \n",
    "    psitildes = states_at_jumps(traj, sys, psi0; normalize=false)\n",
    "    for k in 2:njumps \n",
    "      click = traj[k] \n",
    "      label = click.label\n",
    "      tau = click.time\n",
    "      # Calculate the derivative\n",
    "      dpsis[:, k] .= (dLs[:, :, label]) * exp(-1im*tau*sys.Heff) * psitildes[k-1, :] +\n",
    "                     sys.Ls[label] * DerivativeExpHeff(Heff_par, tau, theta, dtheta) * psitildes[k-1, :] # Derivative\n",
    "                     sys.Ls[label] * exp(-1im*tau*sys.Heff) * dpsis[:, k -1]\n",
    "   end \n",
    "   return dpsis \n",
    "    \n",
    "end "
   ]
  },
  {
   "cell_type": "code",
   "execution_count": 5,
   "id": "9cf353f7-8955-4c61-8200-6eb393e558a8",
   "metadata": {},
   "outputs": [
    {
     "data": {
      "text/plain": [
       "2×1 Matrix{ComplexF64}:\n",
       " 0.17355820485444767 - 0.01129719801926627im\n",
       "                 0.0 + 0.0im"
      ]
     },
     "execution_count": 5,
     "metadata": {},
     "output_type": "execute_result"
    }
   ],
   "source": [
    "Heff_parametrized = GetHeffParametrized(H_parametrized, [L_parametrized])\n",
    "sys = QuTaM.rd_sys \n",
    "traj = [DetectionClick(0.1, 1)]\n",
    "psi0 = [0.0 + 0im, 1.0+ 0im]\n",
    "DerivativesAtJumps(sys, Heff_parametrized, [L_parametrized], traj, psi0, \n",
    "                    [QuTaM.rd_deltaomega, QuTaM.rd_gamma], [0.0, QuTaM.rd_gamma/100])"
   ]
  },
  {
   "cell_type": "code",
   "execution_count": 6,
   "id": "99e15589-252e-4c9c-9a3f-4f975c627ebd",
   "metadata": {},
   "outputs": [
    {
     "data": {
      "text/plain": [
       "0.17355820539697653 - 0.011297198054579793im"
      ]
     },
     "execution_count": 6,
     "metadata": {},
     "output_type": "execute_result"
    }
   ],
   "source": [
    "0.5/sqrt(QuTaM.rd_gamma) * exp(-1im*traj[1].time*(0.5*QuTaM.rd_deltaomega - 0.5im*QuTaM.rd_gamma)) +\n",
    "sqrt(QuTaM.rd_gamma)*(-0.5*traj[1].time)*exp(-1im*traj[1].time*(0.5*QuTaM.rd_deltaomega - 0.5im*QuTaM.rd_gamma))"
   ]
  }
 ],
 "metadata": {
  "kernelspec": {
   "display_name": "Julia 1.10.0",
   "language": "julia",
   "name": "julia-1.10"
  },
  "language_info": {
   "file_extension": ".jl",
   "mimetype": "application/julia",
   "name": "julia",
   "version": "1.10.0"
  }
 },
 "nbformat": 4,
 "nbformat_minor": 5
}
