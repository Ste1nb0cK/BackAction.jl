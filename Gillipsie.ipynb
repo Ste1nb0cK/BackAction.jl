{
 "cells": [
  {
   "cell_type": "code",
   "execution_count": 35,
   "id": "d211e633-d6c2-47f1-a38c-a7a9f97c7807",
   "metadata": {},
   "outputs": [
    {
     "name": "stderr",
     "output_type": "stream",
     "text": [
      "WARNING: replacing module QuTaM.\n"
     ]
    }
   ],
   "source": [
    "using LinearAlgebra\n",
    "using Plots\n",
    "import StatsBase\n",
    "include(\"src/Trajectories.jl\")\n",
    "using .QuTaM\n",
    "using Random"
   ]
  },
  {
   "cell_type": "code",
   "execution_count": 31,
   "id": "edda6828-0946-41b5-a221-62f2ec51242e",
   "metadata": {},
   "outputs": [],
   "source": [
    "import Distributions"
   ]
  },
  {
   "cell_type": "code",
   "execution_count": 45,
   "id": "cb47a265-e7f3-4793-b744-6e5bbb4492a9",
   "metadata": {},
   "outputs": [
    {
     "data": {
      "text/plain": [
       "0.8892515029363947"
      ]
     },
     "execution_count": 45,
     "metadata": {},
     "output_type": "execute_result"
    }
   ],
   "source": [
    "d = Distributions.Exponential(1)\n",
    "Random.seed!(123)\n",
    "sample = rand(d, 100)\n",
    "a = Distributions.fit(Distributions.Exponential, sample).θ"
   ]
  },
  {
   "cell_type": "code",
   "execution_count": 43,
   "id": "8940d7a8-fed7-443b-b0b0-dce69b65bcfb",
   "metadata": {},
   "outputs": [
    {
     "name": "stdout",
     "output_type": "stream",
     "text": [
      "search: \u001b[0m\u001b[1ma\u001b[22m \u001b[0m\u001b[1ma\u001b[22ms\n",
      "\n"
     ]
    },
    {
     "data": {
      "text/latex": [
       "No documentation found for private symbol.\n",
       "\n",
       "\\texttt{a} is of type \\texttt{Distributions.Exponential\\{Float64\\}}.\n",
       "\n",
       "\\section{Summary}\n",
       "\\begin{verbatim}\n",
       "struct Distributions.Exponential{Float64}\n",
       "\\end{verbatim}\n",
       "\\section{Fields}\n",
       "\\begin{verbatim}\n",
       "θ :: Float64\n",
       "\\end{verbatim}\n",
       "\\section{Supertype Hierarchy}\n",
       "\\begin{verbatim}\n",
       "Distributions.Exponential{Float64} <: Distributions.Distribution{Distributions.Univariate, Distributions.Continuous} <: Distributions.Sampleable{Distributions.Univariate, Distributions.Continuous} <: Any\n",
       "\\end{verbatim}\n"
      ],
      "text/markdown": [
       "No documentation found for private symbol.\n",
       "\n",
       "`a` is of type `Distributions.Exponential{Float64}`.\n",
       "\n",
       "# Summary\n",
       "\n",
       "```\n",
       "struct Distributions.Exponential{Float64}\n",
       "```\n",
       "\n",
       "# Fields\n",
       "\n",
       "```\n",
       "θ :: Float64\n",
       "```\n",
       "\n",
       "# Supertype Hierarchy\n",
       "\n",
       "```\n",
       "Distributions.Exponential{Float64} <: Distributions.Distribution{Distributions.Univariate, Distributions.Continuous} <: Distributions.Sampleable{Distributions.Univariate, Distributions.Continuous} <: Any\n",
       "```\n"
      ],
      "text/plain": [
       "  No documentation found for private symbol.\n",
       "\n",
       "  \u001b[36ma\u001b[39m is of type \u001b[36mDistributions.Exponential{Float64}\u001b[39m.\n",
       "\n",
       "\u001b[1m  Summary\u001b[22m\n",
       "\u001b[1m  ≡≡≡≡≡≡≡\u001b[22m\n",
       "\n",
       "\u001b[36m  struct Distributions.Exponential{Float64}\u001b[39m\n",
       "\n",
       "\u001b[1m  Fields\u001b[22m\n",
       "\u001b[1m  ≡≡≡≡≡≡\u001b[22m\n",
       "\n",
       "\u001b[36m  θ :: Float64\u001b[39m\n",
       "\n",
       "\u001b[1m  Supertype Hierarchy\u001b[22m\n",
       "\u001b[1m  ≡≡≡≡≡≡≡≡≡≡≡≡≡≡≡≡≡≡≡\u001b[22m\n",
       "\n",
       "\u001b[36m  Distributions.Exponential{Float64} <: Distributions.Distribution{Distributions.Univariate, Distributions.Continuous} <: Distributions.Sampleable{Distributions.Univariate, Distributions.Continuous} <: Any\u001b[39m"
      ]
     },
     "execution_count": 43,
     "metadata": {},
     "output_type": "execute_result"
    }
   ],
   "source": [
    "?a"
   ]
  }
 ],
 "metadata": {
  "kernelspec": {
   "display_name": "Julia 1.11.2",
   "language": "julia",
   "name": "julia-1.11"
  },
  "language_info": {
   "file_extension": ".jl",
   "mimetype": "application/julia",
   "name": "julia",
   "version": "1.11.2"
  }
 },
 "nbformat": 4,
 "nbformat_minor": 5
}
