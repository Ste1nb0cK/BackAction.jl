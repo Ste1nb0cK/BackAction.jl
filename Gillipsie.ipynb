{
 "cells": [
  {
   "cell_type": "code",
   "execution_count": 1,
   "id": "d211e633-d6c2-47f1-a38c-a7a9f97c7807",
   "metadata": {},
   "outputs": [],
   "source": [
    "include(\"src/Trajectories.jl\")\n",
    "using .QuTaM"
   ]
  },
  {
   "cell_type": "code",
   "execution_count": 13,
   "id": "89b95a8d-53d3-4993-b2dc-69e423d0e71e",
   "metadata": {},
   "outputs": [],
   "source": [
    "using LinearAlgebra"
   ]
  },
  {
   "cell_type": "code",
   "execution_count": 2,
   "id": "f9d66d31-0bc9-4975-88d2-8b1e8d590902",
   "metadata": {},
   "outputs": [],
   "source": [
    "# Create a data set of trajectories and evaluate them at given time\n",
    "# Using rf as basis\n",
    "sys = QuTaM.rd_sys\n",
    "params = QuTaM.rd_params\n",
    "sample_no_states = QuTaM.run_trajectories(sys,params);"
   ]
  },
  {
   "cell_type": "code",
   "execution_count": 3,
   "id": "b64594b6-f7bf-4dd3-9529-520c9b4f8188",
   "metadata": {},
   "outputs": [],
   "source": [
    "# Now from each trajectory, generate the states the given times\n",
    "ntimes = 1000\n",
    "t = collect(LinRange(0, params.tf, ntimes))\n",
    "sample_states = Array{ComplexF64}(undef,   params.ntraj, ntimes, sys.NLEVELS );"
   ]
  },
  {
   "cell_type": "code",
   "execution_count": 19,
   "id": "14a74a4d-59cb-4dfb-a1a2-35ebc04b4b33",
   "metadata": {},
   "outputs": [
    {
     "data": {
      "text/plain": [
       "10-element Vector{ComplexF64}:\n",
       " 0.0 + 0.0im\n",
       " 0.0 + 0.0im\n",
       " 0.0 + 0.0im\n",
       " 0.0 + 0.0im\n",
       " 0.0 + 0.0im\n",
       " 0.0 + 0.0im\n",
       " 0.0 + 0.0im\n",
       " 0.0 + 0.0im\n",
       " 0.0 + 0.0im\n",
       " 0.0 + 0.0im"
      ]
     },
     "execution_count": 19,
     "metadata": {},
     "output_type": "execute_result"
    }
   ],
   "source": [
    "s = zeros(ComplexF64, 10, 10)\n",
    "s[1, :]"
   ]
  },
  {
   "cell_type": "code",
   "execution_count": 27,
   "id": "825719eb-dde5-4db2-8a0d-e0c3537c019d",
   "metadata": {},
   "outputs": [
    {
     "data": {
      "text/plain": [
       "true"
      ]
     },
     "execution_count": 27,
     "metadata": {},
     "output_type": "execute_result"
    }
   ],
   "source": [
    "a = Array{ComplexF64}(undef, 0, 0, 0)\n",
    "isempty(a)"
   ]
  },
  {
   "cell_type": "code",
   "execution_count": 28,
   "id": "daf22ce7-6bae-4586-9cf7-02303d8c3ee4",
   "metadata": {},
   "outputs": [
    {
     "data": {
      "text/plain": [
       "0×0×0 Array{ComplexF64, 3}"
      ]
     },
     "execution_count": 28,
     "metadata": {},
     "output_type": "execute_result"
    }
   ],
   "source": [
    "a"
   ]
  }
 ],
 "metadata": {
  "kernelspec": {
   "display_name": "Julia 1.10.0",
   "language": "julia",
   "name": "julia-1.10"
  },
  "language_info": {
   "file_extension": ".jl",
   "mimetype": "application/julia",
   "name": "julia",
   "version": "1.10.0"
  }
 },
 "nbformat": 4,
 "nbformat_minor": 5
}
