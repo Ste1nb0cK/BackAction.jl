{
 "cells": [
  {
   "cell_type": "code",
   "execution_count": 1,
   "id": "d211e633-d6c2-47f1-a38c-a7a9f97c7807",
   "metadata": {},
   "outputs": [],
   "source": [
    "using Plots\n",
    "using LinearAlgebra\n",
    "using Statistics\n",
    "include(\"src/Trajectories.jl\")\n",
    "using .QuTaM"
   ]
  },
  {
   "cell_type": "code",
   "execution_count": 3,
   "id": "5aa60fb6-cc71-4a8c-89f5-662d0f5c9167",
   "metadata": {},
   "outputs": [
    {
     "data": {
      "text/plain": [
       "rf_de! (generic function with 1 method)"
      ]
     },
     "execution_count": 3,
     "metadata": {},
     "output_type": "execute_result"
    }
   ],
   "source": [
    "using DifferentialEquations\n",
    "function rf_de!(dr, r, p, t)\n",
    "    gamma = QuTaM.rf_gamma\n",
    "    delta = QuTaM.rf_delta\n",
    "    omega = QuTaM.rf_omega\n",
    "    dr[1] = -0.5*gamma*r[1] - 2*delta*r[2]\n",
    "    dr[2] = 2*delta*r[1] - 0.5*gamma*r[2] - 2*omega*r[3]\n",
    "    dr[3] = 2*omega*r[2] - gamma*(r[3] + 1)\n",
    "end"
   ]
  },
  {
   "cell_type": "code",
   "execution_count": 4,
   "id": "74a23600-0147-4fff-bd55-71c0ad374be7",
   "metadata": {},
   "outputs": [
    {
     "data": {
      "text/plain": [
       "SimulParameters(psi0=ComplexF64[1.0 + 0.0im, 0.0 + 0.0im]\n",
       "nsamples=75000\n",
       "seed=1\n",
       "ntraj=500)\n",
       "multiplier=3.0\n",
       "tf=25.0\n",
       "dt=0.001\n",
       "eps=0.001)"
      ]
     },
     "execution_count": 4,
     "metadata": {},
     "output_type": "execute_result"
    }
   ],
   "source": [
    "sys = QuTaM.rf_sys\n",
    "params = QuTaM.rf_params"
   ]
  },
  {
   "cell_type": "code",
   "execution_count": 5,
   "id": "2e5e0717-62ad-4656-90f2-8b048e283e3d",
   "metadata": {},
   "outputs": [
    {
     "data": {
      "text/plain": [
       "\u001b[38;2;86;182;194mODEProblem\u001b[0m with uType \u001b[38;2;86;182;194mVector{Float64}\u001b[0m and tType \u001b[38;2;86;182;194mFloat64\u001b[0m. In-place: \u001b[38;2;86;182;194mtrue\u001b[0m\n",
       "timespan: (0.0, 25.0)\n",
       "u0: 3-element Vector{Float64}:\n",
       "  0.0\n",
       "  0.0\n",
       " -1.0"
      ]
     },
     "execution_count": 5,
     "metadata": {},
     "output_type": "execute_result"
    }
   ],
   "source": [
    "r0 = [0.0; 0.0; -1.0] # Initial Condition\n",
    "tspan = (0.0, params.tf)\n",
    "t_given = collect(LinRange(0, params.tf, 1000))\n",
    "prob = ODEProblem(rf_de!, r0, tspan)"
   ]
  },
  {
   "cell_type": "code",
   "execution_count": 6,
   "id": "edada9d1-9879-4a66-b8ff-67d190aa74e2",
   "metadata": {},
   "outputs": [],
   "source": [
    "sol = solve(prob, reltol = 1e-6, saveat = t_given); "
   ]
  },
  {
   "cell_type": "code",
   "execution_count": 7,
   "id": "4dd16660-fa42-4dd6-817a-14e7d60dbd25",
   "metadata": {},
   "outputs": [
    {
     "data": {
      "text/plain": [
       "0.5"
      ]
     },
     "execution_count": 7,
     "metadata": {},
     "output_type": "execute_result"
    }
   ],
   "source": [
    "# Steady State\n",
    "gamma = QuTaM.rf_gamma\n",
    "delta = QuTaM.rf_delta\n",
    "omega = QuTaM.rf_omega\n",
    "#r_steady = 1/(gamma^2 + 2*omega^2+4*delta^2) * [-4*delta*omega; 2*omega*gamma;-gamma^2-4*delta^2 ]"
   ]
  },
  {
   "cell_type": "code",
   "execution_count": null,
   "id": "84baa30d-bc66-4ed6-9127-47e8e7398325",
   "metadata": {},
   "outputs": [],
   "source": [
    "################## Average Simulation ################3\n",
    "# Now from each trajectory, generate the states the given times\n",
    "sample_clicks = QuTaM.run_trajectories(sys, params)\n",
    "ntimes = size(t_given)[1]\n",
    "sample = zeros(ComplexF64, ntimes, sys.NLEVELS, params.ntraj)\n",
    "for n in 1:params.ntraj\n",
    "    states = QuTaM.evaluate_at_t(t_given, sample_clicks[n], sys,  params.psi0)\n",
    "    for j in 1:sys.NLEVELS\n",
    "        for tn in 1:ntimes\n",
    "            sample[tn, j, n] = states[tn, j]\n",
    "        end \n",
    "    end \n",
    "end\n"
   ]
  },
  {
   "cell_type": "code",
   "execution_count": null,
   "id": "bf03df55-c4b9-4e16-ab01-278be24880f8",
   "metadata": {},
   "outputs": [],
   "source": [
    "# Obtain the observable on the sample.\n",
    "r_sample = zeros(Float64, ntimes, 3, params.ntraj)\n",
    "sigma = [QuTaM.sigma_x, QuTaM.sigma_y, QuTaM.sigma_z]\n",
    "for j in 1:params.ntraj\n",
    "    for k in 1:3\n",
    "        for tn in 1:ntimes\n",
    "                r_sample[tn, k, j] = dot(sample[tn, :, j], sigma[k] * sample[tn, :, j])   # Drop the extra dimension\n",
    "        end\n",
    "    end\n",
    "end \n",
    "# Average\n",
    "r_avg = dropdims(mean(r_sample, dims=3), dims=3);"
   ]
  },
  {
   "cell_type": "code",
   "execution_count": null,
   "id": "b3d3bbe6-1509-4ab4-b022-25e6916db23d",
   "metadata": {},
   "outputs": [],
   "source": [
    "tau_sample = Vector{Float64}()\n",
    "for traj in sample_clicks\n",
    "    if !isempty(traj)\n",
    "        for click in traj\n",
    "            push!(tau_sample, click.time)\n",
    "        end \n",
    "    else\n",
    "        continue\n",
    "    end \n",
    "end "
   ]
  },
  {
   "cell_type": "code",
   "execution_count": 2,
   "id": "c22f5188-fdf9-428f-ad6c-43faf7ce1807",
   "metadata": {},
   "outputs": [
    {
     "data": {
      "text/plain": [
       "2×2 Matrix{Complex{Int64}}:\n",
       " 0+0im  0+1im\n",
       " 0-1im  0+0im"
      ]
     },
     "execution_count": 2,
     "metadata": {},
     "output_type": "execute_result"
    }
   ],
   "source": [
    "QuTaM.sigma_y"
   ]
  },
  {
   "cell_type": "code",
   "execution_count": null,
   "id": "d18a2ada-a010-4707-bc1a-6e7cd332f6a4",
   "metadata": {},
   "outputs": [],
   "source": [
    "plot(sol, idxs=(0,2))\n",
    "plot!(t_given, r_avg[:, 2])"
   ]
  },
  {
   "cell_type": "code",
   "execution_count": null,
   "id": "6a378c44-fec9-48ee-be17-5a994b32b1c6",
   "metadata": {},
   "outputs": [],
   "source": [
    "WTD_analytical(tau) =  (16*gamma*omega^2)*exp(-0.5*gamma*tau) * sin(0.25*tau*sqrt(16*omega^2-gamma^2))^2/(-gamma^2+16*omega^2)\n",
    "histogram(tau_sample, normalize=:pdf)\n",
    "plot!(t_given, WTD_analytical.(t_given), label=\"Analytical\")"
   ]
  }
 ],
 "metadata": {
  "kernelspec": {
   "display_name": "Julia 1.10.0",
   "language": "julia",
   "name": "julia-1.10"
  },
  "language_info": {
   "file_extension": ".jl",
   "mimetype": "application/julia",
   "name": "julia",
   "version": "1.10.0"
  }
 },
 "nbformat": 4,
 "nbformat_minor": 5
}
