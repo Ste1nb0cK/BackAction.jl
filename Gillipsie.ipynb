{
 "cells": [
  {
   "cell_type": "code",
   "execution_count": 1,
   "id": "d211e633-d6c2-47f1-a38c-a7a9f97c7807",
   "metadata": {},
   "outputs": [],
   "source": [
    "include(\"src/Trajectories.jl\")\n",
    "using .QuTaM"
   ]
  },
  {
   "cell_type": "code",
   "execution_count": 6,
   "id": "89b95a8d-53d3-4993-b2dc-69e423d0e71e",
   "metadata": {},
   "outputs": [],
   "source": [
    "using LinearAlgebra"
   ]
  },
  {
   "cell_type": "code",
   "execution_count": 3,
   "id": "6bf20b9e-5231-4f6e-9c38-76df2240ce95",
   "metadata": {},
   "outputs": [
    {
     "data": {
      "text/plain": [
       "2-element Vector{ComplexF64}:\n",
       " 0.0 + 0.0im\n",
       " 1.0 + 0.0im"
      ]
     },
     "execution_count": 3,
     "metadata": {},
     "output_type": "execute_result"
    }
   ],
   "source": [
    "QuTaM.rf_params.psi0"
   ]
  },
  {
   "cell_type": "code",
   "execution_count": 15,
   "id": "f2bc1e9a-be6c-44a2-a68b-a93b6e4b19cb",
   "metadata": {},
   "outputs": [
    {
     "data": {
      "text/plain": [
       "0.005876208123315946"
      ]
     },
     "execution_count": 15,
     "metadata": {},
     "output_type": "execute_result"
    }
   ],
   "source": [
    "q0 = norm(exp(-5im*params.multiplier*params.tf*sys.Heff)*params.psi0)"
   ]
  },
  {
   "cell_type": "code",
   "execution_count": 11,
   "id": "1214c6cc-2e21-4d5f-93d7-0e906923c123",
   "metadata": {},
   "outputs": [
    {
     "data": {
      "text/plain": [
       "10.0"
      ]
     },
     "execution_count": 11,
     "metadata": {},
     "output_type": "execute_result"
    }
   ],
   "source": [
    "params.multiplier*params.tf"
   ]
  },
  {
   "cell_type": "code",
   "execution_count": 2,
   "id": "f9d66d31-0bc9-4975-88d2-8b1e8d590902",
   "metadata": {},
   "outputs": [
    {
     "data": {
      "text/plain": [
       "1000-element Vector{Vector{Main.QuTaM.DetectionClick}}:\n",
       " [Main.QuTaM.DetectionClick(2.220446049250313e-16, 1)]\n",
       " [Main.QuTaM.DetectionClick(0.04000800160032029, 1)]\n",
       " [Main.QuTaM.DetectionClick(0.1900380076015205, 1)]\n",
       " [Main.QuTaM.DetectionClick(0.41008201640328085, 1)]\n",
       " [Main.QuTaM.DetectionClick(0.1800360072014405, 1)]\n",
       " [Main.QuTaM.DetectionClick(0.020004000800160255, 1)]\n",
       " [Main.QuTaM.DetectionClick(0.0500100020004003, 1)]\n",
       " [Main.QuTaM.DetectionClick(0.03000600120024027, 1)]\n",
       " [Main.QuTaM.DetectionClick(0.03000600120024027, 1)]\n",
       " [Main.QuTaM.DetectionClick(0.08001600320064035, 1)]\n",
       " [Main.QuTaM.DetectionClick(0.03000600120024027, 1)]\n",
       " [Main.QuTaM.DetectionClick(0.010002000400080239, 1)]\n",
       " [Main.QuTaM.DetectionClick(0.1700340068013605, 1)]\n",
       " ⋮\n",
       " [Main.QuTaM.DetectionClick(0.08001600320064035, 1)]\n",
       " [Main.QuTaM.DetectionClick(0.020004000800160255, 1)]\n",
       " [Main.QuTaM.DetectionClick(0.08001600320064035, 1)]\n",
       " [Main.QuTaM.DetectionClick(0.0500100020004003, 1)]\n",
       " [Main.QuTaM.DetectionClick(0.09001800360072036, 1)]\n",
       " [Main.QuTaM.DetectionClick(0.010002000400080239, 1)]\n",
       " [Main.QuTaM.DetectionClick(0.03000600120024027, 1)]\n",
       " [Main.QuTaM.DetectionClick(0.1800360072014405, 1)]\n",
       " [Main.QuTaM.DetectionClick(0.010002000400080239, 1)]\n",
       " [Main.QuTaM.DetectionClick(8.451690338067614, 1)]\n",
       " [Main.QuTaM.DetectionClick(0.07001400280056033, 1)]\n",
       " [Main.QuTaM.DetectionClick(0.07001400280056033, 1)]"
      ]
     },
     "execution_count": 2,
     "metadata": {},
     "output_type": "execute_result"
    }
   ],
   "source": [
    "# Create a data set of trajectories and evaluate them at given time\n",
    "# Using rf as basis\n",
    "sys = QuTaM.rf_sys\n",
    "params = QuTaM.rf_params\n",
    "data = QuTaM.run_trajectories(sys,params)"
   ]
  },
  {
   "cell_type": "code",
   "execution_count": null,
   "id": "b64594b6-f7bf-4dd3-9529-520c9b4f8188",
   "metadata": {},
   "outputs": [],
   "source": []
  }
 ],
 "metadata": {
  "kernelspec": {
   "display_name": "Julia 1.10.0",
   "language": "julia",
   "name": "julia-1.10"
  },
  "language_info": {
   "file_extension": ".jl",
   "mimetype": "application/julia",
   "name": "julia",
   "version": "1.10.0"
  }
 },
 "nbformat": 4,
 "nbformat_minor": 5
}
