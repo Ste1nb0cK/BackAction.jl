{
 "cells": [
  {
   "cell_type": "code",
   "execution_count": 1,
   "id": "d211e633-d6c2-47f1-a38c-a7a9f97c7807",
   "metadata": {},
   "outputs": [],
   "source": [
    "using LinearAlgebra\n",
    "using Plots\n",
    "import StatsBase\n",
    "include(\"src/Trajectories.jl\")\n",
    "using .QuTaM"
   ]
  },
  {
   "cell_type": "code",
   "execution_count": 2,
   "id": "46e80c78-8023-4c55-9b19-b682d7894f29",
   "metadata": {},
   "outputs": [
    {
     "data": {
      "text/plain": [
       "SimulParameters(psi0=ComplexF64[0.0 + 0.0im, 1.0 + 0.0im]\n",
       "nsamples=10000\n",
       "seed=10\n",
       "ntraj=1000)\n",
       "multiplier=10.0\n",
       "tf=5.0\n",
       "dt=0.005\n",
       "eps=0.001)"
      ]
     },
     "execution_count": 2,
     "metadata": {},
     "output_type": "execute_result"
    }
   ],
   "source": [
    "sys = QuTaM.rf_sys\n",
    "params = QuTaM.rf_params"
   ]
  },
  {
   "cell_type": "code",
   "execution_count": 3,
   "id": "260f6c0d-ca86-45e9-9e68-34cfff9ccc34",
   "metadata": {},
   "outputs": [
    {
     "data": {
      "text/plain": [
       "11-element Vector{Main.QuTaM.DetectionClick}:\n",
       " Main.QuTaM.DetectionClick(0.115011501150115, 1)\n",
       " Main.QuTaM.DetectionClick(0.115011501150115, 2)\n",
       " Main.QuTaM.DetectionClick(0.2000200020002, 1)\n",
       " Main.QuTaM.DetectionClick(1.0251025102510252, 2)\n",
       " Main.QuTaM.DetectionClick(0.39003900390039004, 1)\n",
       " Main.QuTaM.DetectionClick(0.7350735073507351, 2)\n",
       " Main.QuTaM.DetectionClick(0.020002000200020003, 1)\n",
       " Main.QuTaM.DetectionClick(1.1951195119511953, 2)\n",
       " Main.QuTaM.DetectionClick(0.58005800580058, 1)\n",
       " Main.QuTaM.DetectionClick(0.22002200220022, 2)\n",
       " Main.QuTaM.DetectionClick(0.075007500750075, 1)"
      ]
     },
     "execution_count": 3,
     "metadata": {},
     "output_type": "execute_result"
    }
   ],
   "source": [
    "traj = QuTaM.sample_single_trajectory(sys, params, 10)"
   ]
  },
  {
   "cell_type": "code",
   "execution_count": 4,
   "id": "50f8218c-77fa-4349-a0e4-9ee79f5e0b79",
   "metadata": {},
   "outputs": [
    {
     "data": {
      "text/plain": [
       "11-element Vector{Float64}:\n",
       " 0.115011501150115\n",
       " 0.23002300230023\n",
       " 0.43004300430043\n",
       " 1.4551455145514551\n",
       " 1.8451845184518452\n",
       " 2.5802580258025802\n",
       " 2.6002600260026\n",
       " 3.7953795379537953\n",
       " 4.3754375437543755\n",
       " 4.595459545954595\n",
       " 4.67046704670467"
      ]
     },
     "execution_count": 4,
     "metadata": {},
     "output_type": "execute_result"
    }
   ],
   "source": [
    "cumsum([click.time for click in traj ])"
   ]
  },
  {
   "cell_type": "code",
   "execution_count": null,
   "id": "3f5a6609-8ef7-4219-9ac5-e7b521d2ff81",
   "metadata": {},
   "outputs": [],
   "source": [
    "t_given = collect(LinRange(0,1, 10))"
   ]
  },
  {
   "cell_type": "code",
   "execution_count": 27,
   "id": "72c7ba69-73be-4734-a5c6-8bb1e7c35c17",
   "metadata": {},
   "outputs": [
    {
     "data": {
      "text/plain": [
       "2.220446049250313e-16"
      ]
     },
     "execution_count": 27,
     "metadata": {},
     "output_type": "execute_result"
    }
   ],
   "source": [
    "#realmin(Float64)\n",
    "eps(Float64)"
   ]
  },
  {
   "cell_type": "code",
   "execution_count": 24,
   "id": "2f4195c9-cd16-4f07-b6a9-ed4904e515a1",
   "metadata": {},
   "outputs": [
    {
     "data": {
      "text/plain": [
       "Float64"
      ]
     },
     "execution_count": 24,
     "metadata": {},
     "output_type": "execute_result"
    }
   ],
   "source": [
    "typeof(0.1)"
   ]
  },
  {
   "cell_type": "code",
   "execution_count": null,
   "id": "4a4aafef-82cf-4c88-b362-c964a6ed8005",
   "metadata": {},
   "outputs": [],
   "source": [
    "type"
   ]
  },
  {
   "cell_type": "code",
   "execution_count": 5,
   "id": "4124b3e7-67e2-46f1-b936-7cb5c4b7468e",
   "metadata": {},
   "outputs": [
    {
     "data": {
      "text/plain": [
       "10-element Vector{Float64}:\n",
       " 0.0\n",
       " 0.1111111111111111\n",
       " 0.2222222222222222\n",
       " 0.3333333333333333\n",
       " 0.4444444444444444\n",
       " 0.5555555555555556\n",
       " 0.6666666666666666\n",
       " 0.7777777777777778\n",
       " 0.8888888888888888\n",
       " 1.0"
      ]
     },
     "execution_count": 5,
     "metadata": {},
     "output_type": "execute_result"
    }
   ],
   "source": [
    "t_given = collect(LinRange(0,1, 10))"
   ]
  },
  {
   "cell_type": "code",
   "execution_count": 6,
   "id": "cf62aea9-cb77-4b9e-8dc7-fbe7ad64cef2",
   "metadata": {},
   "outputs": [
    {
     "data": {
      "text/plain": [
       "10-element Vector{Vector{ComplexF64}}:\n",
       " [0.0 + 0.0im, 1.0 + 0.0im]\n",
       " [0.0 + 0.0im, 1.0 + 0.0im]\n",
       " [1.0 + 0.0im, 0.0 + 0.0im]\n",
       " [0.0 + 0.0im, 1.0 + 0.0im]\n",
       " [1.0 + 0.0im, 0.0 + 0.0im]\n",
       " [1.0 + 0.0im, 0.0 + 0.0im]\n",
       " [1.0 + 0.0im, 0.0 + 0.0im]\n",
       " [1.0 + 0.0im, 0.0 + 0.0im]\n",
       " [1.0 + 0.0im, 0.0 + 0.0im]\n",
       " [1.0 + 0.0im, 0.0 + 0.0im]"
      ]
     },
     "execution_count": 6,
     "metadata": {},
     "output_type": "execute_result"
    }
   ],
   "source": [
    "QuTaM.evaluate_at_t(t_given, traj, sys, params.psi0)"
   ]
  }
 ],
 "metadata": {
  "kernelspec": {
   "display_name": "Julia 1.11.2",
   "language": "julia",
   "name": "julia-1.11"
  },
  "language_info": {
   "file_extension": ".jl",
   "mimetype": "application/julia",
   "name": "julia",
   "version": "1.11.2"
  }
 },
 "nbformat": 4,
 "nbformat_minor": 5
}
