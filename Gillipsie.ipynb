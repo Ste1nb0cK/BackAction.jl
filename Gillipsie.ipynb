{
 "cells": [
  {
   "cell_type": "code",
   "execution_count": null,
   "id": "d211e633-d6c2-47f1-a38c-a7a9f97c7807",
   "metadata": {},
   "outputs": [],
   "source": [
    "using LinearAlgebra\n",
    "using Plots\n",
    "import StatsBase\n",
    "include(\"src/Trajectories.jl\")\n",
    "using .QuTaM"
   ]
  },
  {
   "cell_type": "code",
   "execution_count": 3,
   "id": "fff1abed-13d8-48a3-97b9-34de0d488e16",
   "metadata": {},
   "outputs": [
    {
     "data": {
      "text/plain": [
       "false"
      ]
     },
     "execution_count": 3,
     "metadata": {},
     "output_type": "execute_result"
    }
   ],
   "source": [
    " norm(QuTaM.rd_sys.Heff- QuTaM.rd_He) < QuTaM.rd_EPS"
   ]
  },
  {
   "cell_type": "code",
   "execution_count": 2,
   "id": "a3e59ecf-9377-4f1d-b79e-13010a5f85f1",
   "metadata": {},
   "outputs": [
    {
     "data": {
      "text/plain": [
       "2×2 Matrix{ComplexF64}:\n",
       " 5.0-1.5im  -1.5+0.0im\n",
       " 1.5+0.0im  -5.0-1.5im"
      ]
     },
     "execution_count": 2,
     "metadata": {},
     "output_type": "execute_result"
    }
   ],
   "source": [
    "QuTaM.rd_sys.Heff"
   ]
  },
  {
   "cell_type": "code",
   "execution_count": 4,
   "id": "cf14e775-44e0-430a-8459-d6a87618a159",
   "metadata": {},
   "outputs": [
    {
     "data": {
      "text/plain": [
       "2×2 Matrix{ComplexF64}:\n",
       " 5.0+0.0im   0.0+0.0im\n",
       " 0.0+0.0im  -5.0-1.5im"
      ]
     },
     "execution_count": 4,
     "metadata": {},
     "output_type": "execute_result"
    }
   ],
   "source": [
    "QuTaM.rd_He"
   ]
  },
  {
   "cell_type": "code",
   "execution_count": null,
   "id": "8151068a-88e2-4af5-95de-ab86bd92b26e",
   "metadata": {},
   "outputs": [],
   "source": [
    "QuTaM.sigma_m"
   ]
  },
  {
   "cell_type": "code",
   "execution_count": null,
   "id": "979f64a3-be3e-4b4f-babd-bde13375e288",
   "metadata": {},
   "outputs": [],
   "source": [
    "# Evaluation at Given times\n",
    "To make sure "
   ]
  },
  {
   "cell_type": "code",
   "execution_count": 2,
   "id": "92ee02af-27c8-4da8-af83-3eb069f35361",
   "metadata": {},
   "outputs": [],
   "source": [
    "sys = QuTaM.rf_sys\n",
    "params = QuTaM.rf_params\n",
    "data = QuTaM.sample_single_trajectory(sys, params);\n",
    "times = collect(LinRange(0,0.5,10));"
   ]
  },
  {
   "cell_type": "code",
   "execution_count": 3,
   "id": "08f16c37-b61d-4f45-a98c-4625663c6c5a",
   "metadata": {},
   "outputs": [
    {
     "data": {
      "text/plain": [
       "11-element Vector{Main.QuTaM.DetectionClick}:\n",
       " Main.QuTaM.DetectionClick(0.115011501150115, 1)\n",
       " Main.QuTaM.DetectionClick(0.115011501150115, 2)\n",
       " Main.QuTaM.DetectionClick(0.2000200020002, 1)\n",
       " Main.QuTaM.DetectionClick(1.0251025102510252, 2)\n",
       " Main.QuTaM.DetectionClick(0.39003900390039004, 1)\n",
       " Main.QuTaM.DetectionClick(0.7350735073507351, 2)\n",
       " Main.QuTaM.DetectionClick(0.020002000200020003, 1)\n",
       " Main.QuTaM.DetectionClick(1.1951195119511953, 2)\n",
       " Main.QuTaM.DetectionClick(0.58005800580058, 1)\n",
       " Main.QuTaM.DetectionClick(0.22002200220022, 2)\n",
       " Main.QuTaM.DetectionClick(0.075007500750075, 1)"
      ]
     },
     "execution_count": 3,
     "metadata": {},
     "output_type": "execute_result"
    }
   ],
   "source": [
    "data"
   ]
  },
  {
   "cell_type": "code",
   "execution_count": 4,
   "id": "14980a73-c6da-4f4b-8a99-b83a78415bf5",
   "metadata": {
    "scrolled": true
   },
   "outputs": [
    {
     "name": "stdout",
     "output_type": "stream",
     "text": [
      "ComplexF64[1.0 + 0.0im, 0.0 + 0.0im]"
     ]
    },
    {
     "data": {
      "text/plain": [
       "11-element Vector{Vector{ComplexF64}}:\n",
       " [1.0 + 0.0im, 0.0 + 0.0im]\n",
       " [0.0 + 0.0im, 1.0 + 0.0im]\n",
       " [1.0 + 0.0im, 0.0 + 0.0im]\n",
       " [0.0 + 0.0im, 1.0 + 0.0im]\n",
       " [1.0 + 0.0im, 0.0 + 0.0im]\n",
       " [0.0 + 0.0im, 1.0 + 0.0im]\n",
       " [1.0 + 0.0im, 0.0 + 0.0im]\n",
       " [0.0 + 0.0im, 1.0 + 0.0im]\n",
       " [1.0 + 0.0im, 0.0 + 0.0im]\n",
       " [0.0 + 0.0im, 1.0 + 0.0im]\n",
       " [1.0 + 0.0im, 0.0 + 0.0im]"
      ]
     },
     "execution_count": 4,
     "metadata": {},
     "output_type": "execute_result"
    }
   ],
   "source": [
    "states = QuTaM.states_at_jumps(data, sys, params.psi0)"
   ]
  },
  {
   "cell_type": "code",
   "execution_count": 5,
   "id": "1c4ad0e9-64a3-4cc3-9287-6dac5dfffe25",
   "metadata": {},
   "outputs": [
    {
     "data": {
      "text/plain": [
       "1-element Vector{Vector{ComplexF64}}:\n",
       " [1.0 + 1.0im, 1.0 + 1.0im]"
      ]
     },
     "execution_count": 5,
     "metadata": {},
     "output_type": "execute_result"
    }
   ],
   "source": [
    "states = Vector{Vector{ComplexF64}}()\n",
    "push!(states, [1+1im, 1+1im])"
   ]
  },
  {
   "cell_type": "code",
   "execution_count": 6,
   "id": "7688d883-d11e-48c9-a08d-0f8222bc1bd5",
   "metadata": {},
   "outputs": [
    {
     "data": {
      "text/plain": [
       "2-element Vector{Complex{Int64}}:\n",
       " 1 + 1im\n",
       " 1 + 1im"
      ]
     },
     "execution_count": 6,
     "metadata": {},
     "output_type": "execute_result"
    }
   ],
   "source": [
    "states[1] = [1+1im, 1+1im]"
   ]
  }
 ],
 "metadata": {
  "kernelspec": {
   "display_name": "Julia 1.11.2",
   "language": "julia",
   "name": "julia-1.11"
  },
  "language_info": {
   "file_extension": ".jl",
   "mimetype": "application/julia",
   "name": "julia",
   "version": "1.11.2"
  }
 },
 "nbformat": 4,
 "nbformat_minor": 5
}
