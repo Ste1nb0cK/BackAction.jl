{
 "cells": [
  {
   "cell_type": "code",
   "execution_count": 21,
   "id": "d211e633-d6c2-47f1-a38c-a7a9f97c7807",
   "metadata": {},
   "outputs": [
    {
     "name": "stderr",
     "output_type": "stream",
     "text": [
      "WARNING: replacing module QuTaM.\n",
      "WARNING: using QuTaM.System in module Main conflicts with an existing identifier.\n",
      "WARNING: using QuTaM.SimulParameters in module Main conflicts with an existing identifier.\n",
      "WARNING: using QuTaM.run_trajectories in module Main conflicts with an existing identifier.\n"
     ]
    }
   ],
   "source": [
    "using LinearAlgebra\n",
    "using Plots\n",
    "import StatsBase\n",
    "include(\"src/Trajectories.jl\")\n",
    "using .QuTaM\n",
    "import Distributions, HypothesisTests"
   ]
  },
  {
   "cell_type": "markdown",
   "id": "eb21bf5a-d3ff-4b32-a018-28fd2a9c6115",
   "metadata": {},
   "source": [
    "# Evaluation at Given times\n",
    "To make sure "
   ]
  },
  {
   "cell_type": "code",
   "execution_count": 2,
   "id": "6c0d205d-26e9-475c-90f1-b43feafd11ac",
   "metadata": {
    "collapsed": true,
    "jupyter": {
     "outputs_hidden": true,
     "source_hidden": true
    }
   },
   "outputs": [
    {
     "data": {
      "text/plain": [
       "SimulParameters(psi0=[0.0, 1.0]\n",
       "nsamples=10000\n",
       "seed=10\n",
       "ntraj=1000)\n",
       "multiplier=10.0\n",
       "tf=5.0\n",
       "dt=0.005\n",
       "eps=0.001)"
      ]
     },
     "execution_count": 2,
     "metadata": {},
     "output_type": "execute_result"
    }
   ],
   "source": [
    "################### Qubit decay example ######################\n",
    "#### 1. Create the system instance\n",
    "gamma = 1.5\n",
    "n = 1\n",
    "gamma1 = (n+1)*gamma \n",
    "gamma2 = (n)*gamma\n",
    "sigma_m = [[0.0+0im, 0]  [1, 0]]\n",
    "sigma_p = [[0.0+0im, 1]  [0, 0]]\n",
    "sys = System( zeros(ComplexF64, 2, 2), # Hamiltonian\n",
    "    [sqrt(gamma1)*sigma_m, sqrt(gamma2)*sigma_p ]) #Jump Operators\n",
    "#### 2. Create the simulation parameters instance\n",
    "psi0 = zeros(ComplexF64, 2)\n",
    "psi0[2] = 1 # Initial condition\n",
    "simulparams = SimulParameters(psi0,\n",
    "    5.0, # Final time. Set very long so that all trajectories jump\n",
    "    10, # seed\n",
    "    1000, # Number of trajectories\n",
    "    10_000, # Number of samples in the finegrid\n",
    "    10, # Multiplier to use in the fine grid\n",
    "    1e-3 # Tolerance for passing Dark state test\n",
    ") "
   ]
  },
  {
   "cell_type": "markdown",
   "id": "e957820c-0725-42f4-bab7-2232909ddb08",
   "metadata": {
    "jupyter": {
     "source_hidden": true
    }
   },
   "source": [
    "# Qubit Radiative Damping Test\n",
    "To test this thing we will look at the following master equation:\n",
    "$$ \\dot{\\rho} = -i\\frac{\\Delta\\omega_a}{2}\\left[\\sigma_z, \\rho \\right] + \\gamma \\left( \\sigma_-\\rho\\sigma_+ -\\frac{1}{2}\n",
    "\\left\\{\\rho, \\sigma_+\\sigma_-\\right\\}\\right) .$$ \n",
    "We have:\n",
    "\n",
    "$$ L = \\sqrt{\\gamma}\\sigma_-$$\n",
    "\n",
    "$$ H = \\frac{\\Delta\\omega_a}{2}\\sigma_z$$\n",
    "\n",
    "$$ H_e =\\frac{\\Delta\\omega_a}{2}\\sigma_z -  \\gamma\\frac{i}{2}|e\\rangle \\langle e | = \\frac{1}{2}(\\Delta\\omega_a - i\\gamma)|e\\rangle \\langle e | - \\frac{\\Delta\\Omega_a}{2}|g\\rangle\\langle g|$$\n",
    "\n",
    "$$ W(t \\hspace{0.05cm}| \\hspace{0.05cm} |e\\rangle\\langle e |) = \\gamma e^{-\\gamma t}$$"
   ]
  },
  {
   "cell_type": "code",
   "execution_count": 3,
   "id": "1fb6ca4d-5635-48f1-b875-fc2df2237a7a",
   "metadata": {
    "collapsed": true,
    "jupyter": {
     "outputs_hidden": true,
     "source_hidden": true
    }
   },
   "outputs": [
    {
     "data": {
      "text/plain": [
       "SimulParameters(psi0=[0.0, 1.0]\n",
       "nsamples=10000\n",
       "seed=1\n",
       "ntraj=10)\n",
       "multiplier=3.0\n",
       "tf=5.0\n",
       "dt=0.0015\n",
       "eps=0.001)"
      ]
     },
     "execution_count": 3,
     "metadata": {},
     "output_type": "execute_result"
    }
   ],
   "source": [
    "################### Data Generation\n",
    "#EXAMPLE : RADIATIVE DAMPING ######################\n",
    "#### 1. Create the system instance\n",
    "gamma = 3\n",
    "sigma_m = [[0.0+0im, 0] [1, 0]]\n",
    "sys = System(zeros(ComplexF64, 2, 2), # Hamiltonian\n",
    "    [sigma_m]) #Jump Operators\n",
    "#### 2. Create the simulation parameters instance\n",
    "psi0 = zeros(ComplexF64, 2)\n",
    "psi0[2] = 1 # Initial condition\n",
    "simulparams = SimulParameters(psi0,\n",
    "    5.0, # Final time. Set very long so that all trajectories jump\n",
    "    1, # seed\n",
    "    10, # Number of trajectories\n",
    "    10_000, # Number of samples in the finegrid\n",
    "    3, # Multiplier to use in the fine grid\n",
    "    1e-3 # Tolerance for passing Dark state test\n",
    ") "
   ]
  },
  {
   "cell_type": "code",
   "execution_count": 1,
   "id": "e657a14e-6607-49db-8252-2589b617146f",
   "metadata": {},
   "outputs": [],
   "source": [
    "################ Data Point ################\n",
    "struct DetectionClick\n",
    "    time::Float64\n",
    "    label::Int64 \n",
    "    function DetectionClick(t, l)\n",
    "        new(t, l)\n",
    "    end \n",
    "end\n",
    "\n",
    "mutable struct Trajectory\n",
    "    record::Vector{DetectionClick}\n",
    " #   function Trajectory()\n",
    " #       new()\n",
    " #   end \n",
    "end "
   ]
  },
  {
   "cell_type": "code",
   "execution_count": 2,
   "id": "e446ca87-1560-450d-9ef5-b9f2753bed54",
   "metadata": {},
   "outputs": [
    {
     "name": "stderr",
     "output_type": "stream",
     "text": [
      "\u001b[32m\u001b[1m   Resolving\u001b[22m\u001b[39m package versions...\n",
      "\u001b[32m\u001b[1m   Installed\u001b[22m\u001b[39m StructArrays ─ v0.7.0\n",
      "\u001b[32m\u001b[1m    Updating\u001b[22m\u001b[39m `~/Documents/Research/MonitoringMetrology/GillipsieAlgorithm/Project.toml`\n",
      "  \u001b[90m[09ab397b] \u001b[39m\u001b[92m+ StructArrays v0.7.0\u001b[39m\n",
      "\u001b[32m\u001b[1m    Updating\u001b[22m\u001b[39m `~/Documents/Research/MonitoringMetrology/GillipsieAlgorithm/Manifest.toml`\n",
      "  \u001b[90m[e2d170a0] \u001b[39m\u001b[92m+ DataValueInterfaces v1.0.0\u001b[39m\n",
      "  \u001b[90m[82899510] \u001b[39m\u001b[92m+ IteratorInterfaceExtensions v1.0.0\u001b[39m\n",
      "  \u001b[90m[09ab397b] \u001b[39m\u001b[92m+ StructArrays v0.7.0\u001b[39m\n",
      "  \u001b[90m[3783bdb8] \u001b[39m\u001b[92m+ TableTraits v1.0.1\u001b[39m\n",
      "  \u001b[90m[bd369af6] \u001b[39m\u001b[92m+ Tables v1.12.0\u001b[39m\n",
      "\u001b[92m\u001b[1mPrecompiling\u001b[22m\u001b[39m project...\n",
      "   1120.8 ms\u001b[32m  ✓ \u001b[39mStructArrays\n",
      "    613.1 ms\u001b[32m  ✓ \u001b[39mStructArrays → StructArraysLinearAlgebraExt\n",
      "    669.3 ms\u001b[32m  ✓ \u001b[39m\u001b[90mAccessors → AccessorsStructArraysExt\u001b[39m\n",
      "    912.7 ms\u001b[32m  ✓ \u001b[39mStructArrays → StructArraysSparseArraysExt\n",
      "  4 dependencies successfully precompiled in 3 seconds. 85 already precompiled.\n"
     ]
    }
   ],
   "source": [
    "using Pkg; Pkg.add(\"StructArrays\")"
   ]
  },
  {
   "cell_type": "code",
   "execution_count": 7,
   "id": "90fe3f3f-2e8c-419a-abe3-b9828797f1f6",
   "metadata": {},
   "outputs": [
    {
     "data": {
      "text/plain": [
       "DetectionClick(1.0, 1)"
      ]
     },
     "execution_count": 7,
     "metadata": {},
     "output_type": "execute_result"
    }
   ],
   "source": [
    "a = DetectionClick(1.0, 1)"
   ]
  },
  {
   "cell_type": "code",
   "execution_count": 4,
   "id": "1c8c8357-696b-4051-b86d-6598b9aaf886",
   "metadata": {},
   "outputs": [
    {
     "ename": "LoadError",
     "evalue": "MethodError: no method matching setindex!(::Trajectory, ::DetectionClick, ::Int64)\nThe function `setindex!` exists, but no method is defined for this combination of argument types.",
     "output_type": "error",
     "traceback": [
      "MethodError: no method matching setindex!(::Trajectory, ::DetectionClick, ::Int64)\nThe function `setindex!` exists, but no method is defined for this combination of argument types.",
      "",
      "Stacktrace:",
      " [1] top-level scope",
      "   @ In[4]:1"
     ]
    }
   ],
   "source": [
    "traj[1] = a"
   ]
  },
  {
   "cell_type": "code",
   "execution_count": 9,
   "id": "5ee21f2c-767e-4777-b5db-685e9b8aade0",
   "metadata": {},
   "outputs": [
    {
     "data": {
      "text/plain": [
       "ComplexF64[]"
      ]
     },
     "execution_count": 9,
     "metadata": {},
     "output_type": "execute_result"
    }
   ],
   "source": [
    "v = Vector{ComplexF64}()"
   ]
  },
  {
   "cell_type": "code",
   "execution_count": 10,
   "id": "1c0f1df1-7ff4-46e0-9bbc-a02f2e0a53bd",
   "metadata": {},
   "outputs": [
    {
     "data": {
      "text/plain": [
       "1-element Vector{ComplexF64}:\n",
       " 1.0 + 0.0im"
      ]
     },
     "execution_count": 10,
     "metadata": {},
     "output_type": "execute_result"
    }
   ],
   "source": [
    "push!(v, 1.0+0im)"
   ]
  },
  {
   "cell_type": "code",
   "execution_count": 12,
   "id": "cc435fca-42a7-488b-b9cb-7783b425572d",
   "metadata": {},
   "outputs": [
    {
     "data": {
      "text/plain": [
       "DetectionClick[]"
      ]
     },
     "execution_count": 12,
     "metadata": {},
     "output_type": "execute_result"
    }
   ],
   "source": [
    "traj = Vector{DetectionClick}()"
   ]
  },
  {
   "cell_type": "code",
   "execution_count": 13,
   "id": "92f3c332-062d-4ad5-81d7-298dfc6d44b8",
   "metadata": {},
   "outputs": [
    {
     "data": {
      "text/plain": [
       "1-element Vector{DetectionClick}:\n",
       " DetectionClick(1.0, 1)"
      ]
     },
     "execution_count": 13,
     "metadata": {},
     "output_type": "execute_result"
    }
   ],
   "source": [
    "push!(traj, a)"
   ]
  },
  {
   "cell_type": "code",
   "execution_count": 3,
   "id": "9585df81-a4c0-4d16-bed8-6559990b11ef",
   "metadata": {},
   "outputs": [],
   "source": [
    "using StructArrays"
   ]
  }
 ],
 "metadata": {
  "kernelspec": {
   "display_name": "Julia 1.11.2",
   "language": "julia",
   "name": "julia-1.11"
  },
  "language_info": {
   "file_extension": ".jl",
   "mimetype": "application/julia",
   "name": "julia",
   "version": "1.11.2"
  }
 },
 "nbformat": 4,
 "nbformat_minor": 5
}
