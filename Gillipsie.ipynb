{
 "cells": [
  {
   "cell_type": "code",
   "execution_count": 1,
   "id": "d211e633-d6c2-47f1-a38c-a7a9f97c7807",
   "metadata": {},
   "outputs": [],
   "source": [
    "using LinearAlgebra\n",
    "import Plots\n",
    "import Roots # Root finding, I am using root_find\n",
    "import Random\n",
    "import StatsBase"
   ]
  },
  {
   "cell_type": "code",
   "execution_count": 15,
   "id": "b0edc280-f081-4319-9d8d-b96b3b536102",
   "metadata": {},
   "outputs": [],
   "source": [
    "curvyls = Vector{Function}(undef, 2) # Jump super operators\n",
    "Ls = [ones(Float64, 2,2), zeros(Float64, 2,2)]\n",
    "for k in 1:(size(Ls)[1])\n",
    "    curvyls[k] = x -> x^2 #rho -> Ls[k]*rho*adjoint(Ls[k])\n",
    "end \n",
    "      "
   ]
  },
  {
   "cell_type": "code",
   "execution_count": 4,
   "id": "6b3d52fe-3cae-4c32-9b6f-05a97fd6f395",
   "metadata": {},
   "outputs": [],
   "source": [
    "# The System is defined by the jump operators and the Hamiltonian\n",
    "struct System\n",
    "    NLEVELS::Int64 #Number of levels of the system\n",
    "    H::Matrix{ComplexF64} # Hamiltonian\n",
    "    Ls::Vector{Matrix{ComplexF64}} # List of jump operators\n",
    "    J::Matrix{ComplexF64} # Sum of Jump operators\n",
    "    Heff::Matrix{ComplexF64} # Effective Hamiltonian\n",
    "    ExpHeff::Function # Function that calculates the exponential of Heff at tau\n",
    "    JumpSuperOperators::Vector{Function}  # Jump super operators\n",
    "    NoJumpSuperOperator::Function # No-Jump superoperator\n",
    "    # Inner Constructor\n",
    "    function System(H::Matrix{ComplexF64}, Ls::Vector{Matrix{ComplexF64}})\n",
    "        NLEVELS = size(H)[1] \n",
    "        NCHANNELS = size(Ls)[1] # Number of jump channels\n",
    "        J = zeros(ComplexF64, NLEVELS, NLEVELS) \n",
    "        for L in Ls\n",
    "            J = J + adjoint(L)*L\n",
    "        end \n",
    "        CurvyLs = Vector{Function}(undef, NCHANNELS)\n",
    "        for k in 1:NCHANNELS\n",
    "            CurvyLs[k] = rho::Matrix{ComplexF64} -> Ls[k]*rho*adjoint(Ls[k])\n",
    "        end \n",
    "        He = H - 0.5im*J\n",
    "        expHe(tau::Float64) =  expm(-1im*tau*He)\n",
    "        function expcurvyL0(rho::Matrix{ComplexF64}, tau::Float64)\n",
    "            A = expHe(tau)\n",
    "            return A*rho*adjoint(A)\n",
    "        end \n",
    "        new(NLEVELS, H, Ls, J, He, expHe, CurvyLs,  expcurvyL0 )\n",
    "    end \n",
    "end "
   ]
  },
  {
   "cell_type": "code",
   "execution_count": 5,
   "id": "367b9fcf-fd28-4aea-8f93-fe3824ca1c72",
   "metadata": {},
   "outputs": [
    {
     "data": {
      "text/plain": [
       "System(2, ComplexF64[0.0 + 0.0im 0.0 + 0.0im; 0.0 + 0.0im 0.0 + 0.0im], Matrix{ComplexF64}[[0.0 + 0.0im 1.0 + 0.0im; 0.0 + 0.0im 0.0 + 0.0im]], ComplexF64[0.0 + 0.0im 0.0 + 0.0im; 0.0 + 0.0im 1.0 + 0.0im], ComplexF64[0.0 + 0.0im 0.0 + 0.0im; 0.0 + 0.0im 0.0 - 0.5im], var\"#expHe#7\"{Matrix{ComplexF64}}(ComplexF64[0.0 + 0.0im 0.0 + 0.0im; 0.0 + 0.0im 0.0 - 0.5im]), Function[var\"#5#6\"{Vector{Matrix{ComplexF64}}, Int64}(Matrix{ComplexF64}[[0.0 + 0.0im 1.0 + 0.0im; 0.0 + 0.0im 0.0 + 0.0im]], 1)], var\"#expcurvyL0#8\"{var\"#expHe#7\"{Matrix{ComplexF64}}}(var\"#expHe#7\"{Matrix{ComplexF64}}(ComplexF64[0.0 + 0.0im 0.0 + 0.0im; 0.0 + 0.0im 0.0 - 0.5im])))"
      ]
     },
     "execution_count": 5,
     "metadata": {},
     "output_type": "execute_result"
    }
   ],
   "source": [
    "gamma = 1\n",
    "sigma_m = [[0.0+0im, 0]  [1, 0]]\n",
    "sys = System(\n",
    "    zeros(ComplexF64, 2, 2), # Hamiltonian\n",
    "    [sqrt(gamma)*sigma_m ] # Jump operators\n",
    ")"
   ]
  },
  {
   "cell_type": "code",
   "execution_count": 20,
   "id": "b24ae1e2-ba26-4047-85f3-94094385860c",
   "metadata": {},
   "outputs": [
    {
     "data": {
      "text/plain": [
       "System(2, Matrix{ComplexF64}[[0.0 + 0.0im 1.0 + 0.0im; 0.0 + 0.0im 0.0 + 0.0im]])"
      ]
     },
     "execution_count": 20,
     "metadata": {},
     "output_type": "execute_result"
    }
   ],
   "source": [
    "gamma = 1\n",
    "sys = System(2, [sqrt(gamma)*sigma_m])"
   ]
  },
  {
   "cell_type": "code",
   "execution_count": 421,
   "id": "ee487b50-761e-4bfe-9998-26141e9d5f2d",
   "metadata": {},
   "outputs": [
    {
     "name": "stdout",
     "output_type": "stream",
     "text": [
      "  0.666617 seconds (9.61 M allocations: 302.479 MiB, 11.33% gc time)\n"
     ]
    }
   ],
   "source": [
    "################### Setup ###############################\n",
    "#1. Simulation conditions\n",
    "NSAMPLES = 10000 # Number of points in the fine-grid, for the precomputation\n",
    "seed = 1 # Seed, clearly\n",
    "W = zeros(NSAMPLES) # To store the weights in sampling\n",
    "const Trajectory = Vector{Tuple{Float64, Vector{Float64}}} # Alias for trajectory \n",
    "observed_trajectories = Vector{Trajectory}() # Vector with the trajectories\n",
    "EPS = 1e-3\n",
    "NTRAJ = 50 # Number of trajectories\n",
    "tf = 1 # Final time\n",
    "# Paramters\n",
    "gamma = 1\n",
    "# Initial State\n",
    "psi0 = zeros(2)\n",
    "psi0[2] = 1 # Initial condition\n",
    "NLEVELS = size(psi0)[1]\n",
    "# Jump Operators and related\n",
    "sigma_m = [[0.0+0im, 0]  [1, 0]]\n",
    "L1 = sqrt(gamma) * sigma_m\n",
    "J = adjoint(L1)*L1\n",
    "H_eff = -0.5im * J\n",
    "expH_eff(tau) = exp(-1im*H_eff*tau) # Exponential of -i*tau*H_eff\n",
    "\n",
    "################### Precomputation ######################\n",
    "# Following Radaelli's advice, I'll choose a fine grid of time \n",
    "# To precompute J\n",
    "multiplier = 10 # Factor to multiply by tf and create the sample\n",
    "ts = LinRange(0, multiplier*tf, NSAMPLES)\n",
    "Qs = Vector{Matrix{ComplexF64}}(undef, NSAMPLES)\n",
    "dt = multiplier*tf/NSAMPLES\n",
    "for k in 1:NSAMPLES\n",
    "    expm = expH_eff(ts[k]) \n",
    "    Qs[k] = expm * J * adjoint(expm)\n",
    "end \n",
    "\n",
    "@time begin\n",
    "for j in 1:NTRAJ\n",
    "Random.seed!(seed+j)\n",
    "############### Running the Trajectory #################\n",
    "# 0. Set Initial condition\n",
    "    trajectory = Vector{Tuple{Float64,Vector{ComplexF64}}}()\n",
    "    psi = zeros(2)\n",
    "    psi = psi0\n",
    "    t = 0\n",
    "    while t < tf\n",
    "    # 1. Calculate the WTD for the state, these act as weights\n",
    "        for k in 1:NSAMPLES\n",
    "           W[k] = real(dot(conj.(psi), Qs[k]*psi)) \n",
    "        end \n",
    "        # 1.a We must verify if we got a dark state, that can be cheked by \n",
    "        # looking at the normalization of the QTD\n",
    "        if abs(sum(W)*dt - 1) > EPS\n",
    "            break\n",
    "        end \n",
    "        # 2. Sample jump time\n",
    "        tau = StatsBase.sample(ts, weights(W))\n",
    "        t = tau + t\n",
    "        if t>tf # If the next jump happens after tf, stop \n",
    "            break\n",
    "        end \n",
    "        psi_tilde = expH_eff(tau) * L1*psi # State without normalization\n",
    "        psi = psi_tilde / norm(psi_tilde)\n",
    "        push!(trajectory, (t, psi))\n",
    "    end \n",
    "    push!(observed_trajectories, trajectory)\n",
    "end \n",
    "end "
   ]
  },
  {
   "cell_type": "code",
   "execution_count": null,
   "id": "41834e94-862a-408b-b527-a6e080762567",
   "metadata": {},
   "outputs": [],
   "source": [
    "function SampleSingleTrajectory\n",
    "end"
   ]
  }
 ],
 "metadata": {
  "kernelspec": {
   "display_name": "Julia 1.11.1",
   "language": "julia",
   "name": "julia-1.11"
  },
  "language_info": {
   "file_extension": ".jl",
   "mimetype": "application/julia",
   "name": "julia",
   "version": "1.11.1"
  }
 },
 "nbformat": 4,
 "nbformat_minor": 5
}
