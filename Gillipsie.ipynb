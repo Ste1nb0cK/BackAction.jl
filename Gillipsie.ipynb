{
 "cells": [
  {
   "cell_type": "code",
   "execution_count": 1,
   "id": "d211e633-d6c2-47f1-a38c-a7a9f97c7807",
   "metadata": {},
   "outputs": [
    {
     "data": {
      "text/plain": [
       "Main.QuantumTrajectories"
      ]
     },
     "execution_count": 1,
     "metadata": {},
     "output_type": "execute_result"
    }
   ],
   "source": [
    "using LinearAlgebra\n",
    "using Plots\n",
    "import StatsBase\n",
    "include(\"src/Trajectories.jl\")"
   ]
  },
  {
   "cell_type": "code",
   "execution_count": 4,
   "id": "155a0a36-5d3d-4828-bec0-6fb2f31a9658",
   "metadata": {},
   "outputs": [],
   "source": [
    "using .QuantumTrajectories"
   ]
  },
  {
   "cell_type": "code",
   "execution_count": 6,
   "id": "6c0d205d-26e9-475c-90f1-b43feafd11ac",
   "metadata": {},
   "outputs": [
    {
     "data": {
      "text/plain": [
       "SimulParameters(psi0=[0.0, 1.0]\n",
       "nsamples=100000\n",
       "seed=4/\n",
       "\n",
       "ntraj=1000)\n",
       "multiplier=1.0\n",
       "tf=10.0\n",
       "dt=0.0001\n",
       "eps=0.001)"
      ]
     },
     "execution_count": 6,
     "metadata": {},
     "output_type": "execute_result"
    }
   ],
   "source": [
    "################### Qubit decay example ######################\n",
    "#### 1. Create the system instance\n",
    "gamma = 1\n",
    "sigma_m = [[0.0+0im, 0]  [1, 0]]\n",
    "sys = System( zeros(ComplexF64, 2, 2), # Hamiltonian\n",
    "    [sqrt(gamma)*sigma_m ]) #Jump Operators\n",
    "#### 2. Create the simulation parameters instance\n",
    "psi0 = zeros(ComplexF64, 2)\n",
    "psi0[2] = 1 # Initial condition\n",
    "simulparams = SimulParameters(psi0,\n",
    "    10.0, # Final time. Set very long so that all trajectories jump\n",
    "    4, # seed\n",
    "    1000, # Number of trajectories\n",
    "    100_000, # Number of samples in the finegrid\n",
    "    1, # Multiplier to use in the fine grid\n",
    "    1e-3 # Tolerance for passing WTD normalziation\n",
    ") \n",
    "### 3. Run a single trajectory\n",
    "#data = run_single_trajectory(sys, simulparams)"
   ]
  },
  {
   "cell_type": "code",
   "execution_count": 7,
   "id": "9d09f894-9fb4-40e0-b6ce-6f2cdeafe5a8",
   "metadata": {},
   "outputs": [
    {
     "data": {
      "text/plain": [
       "1000-element Vector{Float64}:\n",
       " 4.247498246e-315\n",
       " 4.24749955e-315\n",
       " 4.637726234e-315\n",
       " 4.16309642e-315\n",
       " 4.66488269e-315\n",
       " 4.243991583e-314\n",
       " 4.129709597e-315\n",
       " 4.129709993e-315\n",
       " 4.12971039e-315\n",
       " 4.129710783e-315\n",
       " 4.63772643e-315\n",
       " 4.16309642e-315\n",
       " 4.664883007e-315\n",
       " ⋮\n",
       " 4.10096786e-315\n",
       " 0.0\n",
       " 1.2734047049e-313\n",
       " 0.0\n",
       " 0.0\n",
       " 0.0\n",
       " 0.0\n",
       " 0.0\n",
       " 4.11291915e-315\n",
       " 4.70152663e-315\n",
       " 6.90355396584437e-310\n",
       " 5.6e-322"
      ]
     },
     "execution_count": 7,
     "metadata": {},
     "output_type": "execute_result"
    }
   ],
   "source": [
    "# To see if we actually got it right, run many trajectories and see if the jump times are exponentially distributed\n",
    "N = 1000\n",
    "times = Vector{Float64}(undef, N)"
   ]
  },
  {
   "cell_type": "code",
   "execution_count": null,
   "id": "195547dc-98ba-4949-916c-8c8aa6a2168d",
   "metadata": {},
   "outputs": [],
   "source": [
    "@time begin\n",
    "data = run_trajectories(sys, simulparams)\n",
    "end "
   ]
  },
  {
   "cell_type": "code",
   "execution_count": null,
   "id": "3bba40f7-997e-4504-a2cf-6afc6da4bceb",
   "metadata": {},
   "outputs": [],
   "source": [
    "for k in 1:N\n",
    "    times[k] = data[k].times[1] \n",
    "end "
   ]
  },
  {
   "cell_type": "code",
   "execution_count": null,
   "id": "5c27d2c0-8c67-42fe-a4d2-0b37c306ddee",
   "metadata": {},
   "outputs": [],
   "source": [
    "histogram(times, normalize=:pdf)\n",
    "scatter!(times, exp.(-times))"
   ]
  },
  {
   "cell_type": "markdown",
   "id": "4f5dd318-8bf8-4e5c-9f14-1ec62fdc4e16",
   "metadata": {},
   "source": [
    "# "
   ]
  },
  {
   "cell_type": "markdown",
   "id": "4fa82554-5e01-4df5-8df9-e22897dbbd9d",
   "metadata": {},
   "source": [
    "# "
   ]
  }
 ],
 "metadata": {
  "kernelspec": {
   "display_name": "Julia 1.11.1",
   "language": "julia",
   "name": "julia-1.11"
  },
  "language_info": {
   "file_extension": ".jl",
   "mimetype": "application/julia",
   "name": "julia",
   "version": "1.11.1"
  }
 },
 "nbformat": 4,
 "nbformat_minor": 5
}
