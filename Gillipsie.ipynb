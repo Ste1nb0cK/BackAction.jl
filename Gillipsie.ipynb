{
 "cells": [
  {
   "cell_type": "code",
   "execution_count": 1,
   "id": "d211e633-d6c2-47f1-a38c-a7a9f97c7807",
   "metadata": {},
   "outputs": [],
   "source": [
    "using LinearAlgebra\n",
    "using Plots\n",
    "import StatsBase\n",
    "include(\"src/Trajectories.jl\")\n",
    "using .QuTaM"
   ]
  },
  {
   "cell_type": "code",
   "execution_count": 2,
   "id": "46e80c78-8023-4c55-9b19-b682d7894f29",
   "metadata": {},
   "outputs": [
    {
     "data": {
      "text/plain": [
       "SimulParameters(psi0=ComplexF64[0.0 + 0.0im, 1.0 + 0.0im]\n",
       "nsamples=3000\n",
       "seed=1\n",
       "ntraj=1000)\n",
       "multiplier=3.0\n",
       "tf=5.0\n",
       "dt=0.005\n",
       "eps=0.001)"
      ]
     },
     "execution_count": 2,
     "metadata": {},
     "output_type": "execute_result"
    }
   ],
   "source": [
    "sys = QuTaM.rd_sys\n",
    "params = QuTaM.rd_params\n",
    " "
   ]
  },
  {
   "cell_type": "code",
   "execution_count": null,
   "id": "fa84b794-97e3-4bc6-b8ba-fce19c4347a7",
   "metadata": {},
   "outputs": [],
   "source": [
    "sys"
   ]
  },
  {
   "cell_type": "code",
   "execution_count": 3,
   "id": "260f6c0d-ca86-45e9-9e68-34cfff9ccc34",
   "metadata": {},
   "outputs": [
    {
     "data": {
      "text/plain": [
       "1-element Vector{Main.QuTaM.DetectionClick}:\n",
       " Main.QuTaM.DetectionClick(0.1150383461153718, 1)"
      ]
     },
     "execution_count": 3,
     "metadata": {},
     "output_type": "execute_result"
    }
   ],
   "source": [
    "traj = QuTaM.sample_single_trajectory(sys, params, 10)"
   ]
  },
  {
   "cell_type": "code",
   "execution_count": 4,
   "id": "4124b3e7-67e2-46f1-b936-7cb5c4b7468e",
   "metadata": {},
   "outputs": [
    {
     "data": {
      "text/plain": [
       "10-element Vector{Float64}:\n",
       " 0.0\n",
       " 0.1111111111111111\n",
       " 0.2222222222222222\n",
       " 0.3333333333333333\n",
       " 0.4444444444444444\n",
       " 0.5555555555555556\n",
       " 0.6666666666666666\n",
       " 0.7777777777777778\n",
       " 0.8888888888888888\n",
       " 1.0"
      ]
     },
     "execution_count": 4,
     "metadata": {},
     "output_type": "execute_result"
    }
   ],
   "source": [
    "t_given = collect(LinRange(0,1, 10))"
   ]
  },
  {
   "cell_type": "code",
   "execution_count": 5,
   "id": "cf62aea9-cb77-4b9e-8dc7-fbe7ad64cef2",
   "metadata": {},
   "outputs": [
    {
     "data": {
      "text/plain": [
       "10-element Vector{Vector{ComplexF64}}:\n",
       " [0.0 + 0.0im, 1.0 + 0.0im]\n",
       " [0.0 + 0.0im, 0.8496075628495278 + 0.5274153857718655im]\n",
       " [0.9992289403702703 + 0.03926225574909081im, 0.0 + 0.0im]\n",
       " [0.8696599825188818 - 0.49365120764083864im, 0.0 + 0.0im]\n",
       " [0.47851045614098997 - 0.8780818545920089im, 0.0 + 0.0im]\n",
       " [-0.05656777763895737 - 0.9983987612837817im, 0.0 + 0.0im]\n",
       " [-0.5746312795322869 - 0.8184124220605933im, 0.0 + 0.0im]\n",
       " [-0.9198543842421067 - 0.3922600053415781im, 0.0 + 0.0im]\n",
       " [-0.9883992036124918 + 0.15187828777739157im, 0.0 + 0.0im]\n",
       " [-0.7596484927651397 + 0.6503338891981961im, 0.0 + 0.0im]"
      ]
     },
     "execution_count": 5,
     "metadata": {},
     "output_type": "execute_result"
    }
   ],
   "source": [
    "QuTaM.evaluate_at_t(t_given, traj, sys, params.psi0)"
   ]
  }
 ],
 "metadata": {
  "kernelspec": {
   "display_name": "Julia 1.11.2",
   "language": "julia",
   "name": "julia-1.11"
  },
  "language_info": {
   "file_extension": ".jl",
   "mimetype": "application/julia",
   "name": "julia",
   "version": "1.11.2"
  }
 },
 "nbformat": 4,
 "nbformat_minor": 5
}
