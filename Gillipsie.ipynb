{
 "cells": [
  {
   "cell_type": "code",
   "execution_count": 3,
   "id": "d211e633-d6c2-47f1-a38c-a7a9f97c7807",
   "metadata": {},
   "outputs": [
    {
     "name": "stderr",
     "output_type": "stream",
     "text": [
      "WARNING: replacing module QuTaM.\n"
     ]
    }
   ],
   "source": [
    "using LinearAlgebra\n",
    "using Plots\n",
    "import StatsBase\n",
    "include(\"src/Trajectories.jl\")\n",
    "using .QuTaM\n",
    "import Distributions, HypothesisTests"
   ]
  },
  {
   "cell_type": "markdown",
   "id": "eb21bf5a-d3ff-4b32-a018-28fd2a9c6115",
   "metadata": {},
   "source": [
    "# Evaluation at Given times\n",
    "To make sure "
   ]
  },
  {
   "cell_type": "code",
   "execution_count": 2,
   "id": "6c0d205d-26e9-475c-90f1-b43feafd11ac",
   "metadata": {
    "collapsed": true,
    "jupyter": {
     "outputs_hidden": true,
     "source_hidden": true
    }
   },
   "outputs": [
    {
     "data": {
      "text/plain": [
       "SimulParameters(psi0=[0.0, 1.0]\n",
       "nsamples=10000\n",
       "seed=10\n",
       "ntraj=1000)\n",
       "multiplier=10.0\n",
       "tf=5.0\n",
       "dt=0.005\n",
       "eps=0.001)"
      ]
     },
     "execution_count": 2,
     "metadata": {},
     "output_type": "execute_result"
    }
   ],
   "source": [
    "################### Qubit decay example ######################\n",
    "#### 1. Create the system instance\n",
    "gamma = 1.5\n",
    "n = 1\n",
    "gamma1 = (n+1)*gamma \n",
    "gamma2 = (n)*gamma\n",
    "sigma_m = [[0.0+0im, 0]  [1, 0]]\n",
    "sigma_p = [[0.0+0im, 1]  [0, 0]]\n",
    "sys = System( zeros(ComplexF64, 2, 2), # Hamiltonian\n",
    "    [sqrt(gamma1)*sigma_m, sqrt(gamma2)*sigma_p ]) #Jump Operators\n",
    "#### 2. Create the simulation parameters instance\n",
    "psi0 = zeros(ComplexF64, 2)\n",
    "psi0[2] = 1 # Initial condition\n",
    "simulparams = SimulParameters(psi0,\n",
    "    5.0, # Final time. Set very long so that all trajectories jump\n",
    "    10, # seed\n",
    "    1000, # Number of trajectories\n",
    "    10_000, # Number of samples in the finegrid\n",
    "    10, # Multiplier to use in the fine grid\n",
    "    1e-3 # Tolerance for passing Dark state test\n",
    ") "
   ]
  },
  {
   "cell_type": "markdown",
   "id": "e957820c-0725-42f4-bab7-2232909ddb08",
   "metadata": {
    "jupyter": {
     "source_hidden": true
    }
   },
   "source": [
    "# Qubit Radiative Damping Test\n",
    "To test this thing we will look at the following master equation:\n",
    "$$ \\dot{\\rho} = -i\\frac{\\Delta\\omega_a}{2}\\left[\\sigma_z, \\rho \\right] + \\gamma \\left( \\sigma_-\\rho\\sigma_+ -\\frac{1}{2}\n",
    "\\left\\{\\rho, \\sigma_+\\sigma_-\\right\\}\\right) .$$ \n",
    "We have:\n",
    "\n",
    "$$ L = \\sqrt{\\gamma}\\sigma_-$$\n",
    "\n",
    "$$ H = \\frac{\\Delta\\omega_a}{2}\\sigma_z$$\n",
    "\n",
    "$$ H_e =\\frac{\\Delta\\omega_a}{2}\\sigma_z -  \\gamma\\frac{i}{2}|e\\rangle \\langle e | = \\frac{1}{2}(\\Delta\\omega_a - i\\gamma)|e\\rangle \\langle e | - \\frac{\\Delta\\Omega_a}{2}|g\\rangle\\langle g|$$\n",
    "\n",
    "$$ W(t \\hspace{0.05cm}| \\hspace{0.05cm} |e\\rangle\\langle e |) = \\gamma e^{-\\gamma t}$$"
   ]
  },
  {
   "cell_type": "code",
   "execution_count": 3,
   "id": "1fb6ca4d-5635-48f1-b875-fc2df2237a7a",
   "metadata": {
    "collapsed": true,
    "jupyter": {
     "outputs_hidden": true,
     "source_hidden": true
    }
   },
   "outputs": [
    {
     "data": {
      "text/plain": [
       "SimulParameters(psi0=[0.0, 1.0]\n",
       "nsamples=10000\n",
       "seed=1\n",
       "ntraj=10)\n",
       "multiplier=3.0\n",
       "tf=5.0\n",
       "dt=0.0015\n",
       "eps=0.001)"
      ]
     },
     "execution_count": 3,
     "metadata": {},
     "output_type": "execute_result"
    }
   ],
   "source": [
    "################### Data Generation\n",
    "#EXAMPLE : RADIATIVE DAMPING ######################\n",
    "#### 1. Create the system instance\n",
    "gamma = 3\n",
    "sigma_m = [[0.0+0im, 0] [1, 0]]\n",
    "sys = System(zeros(ComplexF64, 2, 2), # Hamiltonian\n",
    "    [sigma_m]) #Jump Operators\n",
    "#### 2. Create the simulation parameters instance\n",
    "psi0 = zeros(ComplexF64, 2)\n",
    "psi0[2] = 1 # Initial condition\n",
    "simulparams = SimulParameters(psi0,\n",
    "    5.0, # Final time. Set very long so that all trajectories jump\n",
    "    1, # seed\n",
    "    10, # Number of trajectories\n",
    "    10_000, # Number of samples in the finegrid\n",
    "    3, # Multiplier to use in the fine grid\n",
    "    1e-3 # Tolerance for passing Dark state test\n",
    ") "
   ]
  },
  {
   "cell_type": "code",
   "execution_count": 2,
   "id": "759383ee-1e11-4cb0-8775-0569cce3cea3",
   "metadata": {},
   "outputs": [
    {
     "ename": "LoadError",
     "evalue": "UndefVarError: `states_at_jumps` not defined in `Main.QuTaM`\nSuggestion: check for spelling errors or missing imports.",
     "output_type": "error",
     "traceback": [
      "UndefVarError: `states_at_jumps` not defined in `Main.QuTaM`\nSuggestion: check for spelling errors or missing imports.",
      "",
      "Stacktrace:",
      " [1] getproperty(x::Module, f::Symbol)",
      "   @ Base ./Base.jl:42",
      " [2] top-level scope",
      "   @ In[2]:1"
     ]
    }
   ],
   "source": [
    "QuTaM.states_at_jumps"
   ]
  }
 ],
 "metadata": {
  "kernelspec": {
   "display_name": "Julia 1.11.2",
   "language": "julia",
   "name": "julia-1.11"
  },
  "language_info": {
   "file_extension": ".jl",
   "mimetype": "application/julia",
   "name": "julia",
   "version": "1.11.2"
  }
 },
 "nbformat": 4,
 "nbformat_minor": 5
}
