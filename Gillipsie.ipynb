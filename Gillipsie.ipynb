{
 "cells": [
  {
   "cell_type": "code",
   "execution_count": 1,
   "id": "d211e633-d6c2-47f1-a38c-a7a9f97c7807",
   "metadata": {},
   "outputs": [
    {
     "data": {
      "text/plain": [
       "Main.QuantumTrajectories"
      ]
     },
     "execution_count": 1,
     "metadata": {},
     "output_type": "execute_result"
    }
   ],
   "source": [
    "using LinearAlgebra\n",
    "using Plots\n",
    "import StatsBase\n",
    "include(\"src/Trajectories.jl\")"
   ]
  },
  {
   "cell_type": "code",
   "execution_count": 2,
   "id": "155a0a36-5d3d-4828-bec0-6fb2f31a9658",
   "metadata": {},
   "outputs": [],
   "source": [
    "using .QuantumTrajectories"
   ]
  },
  {
   "cell_type": "code",
   "execution_count": 4,
   "id": "95609657-cad7-4f50-9260-4cd9add6fc9d",
   "metadata": {},
   "outputs": [
    {
     "name": "stdout",
     "output_type": "stream",
     "text": [
      "search: \u001b[0m\u001b[1mp\u001b[22m\u001b[0m\u001b[1mr\u001b[22m\u001b[0m\u001b[1me\u001b[22m\u001b[0m\u001b[1mc\u001b[22m\u001b[0m\u001b[1mo\u001b[22m\u001b[0m\u001b[1mm\u001b[22m\u001b[0m\u001b[1mp\u001b[22m\u001b[0m\u001b[1mu\u001b[22m\u001b[0m\u001b[1mt\u001b[22m\u001b[0m\u001b[1me\u001b[22m\u001b[0m\u001b[1m!\u001b[22m \u001b[0m\u001b[1mp\u001b[22m\u001b[0m\u001b[1mr\u001b[22m\u001b[0m\u001b[1me\u001b[22m\u001b[0m\u001b[1mc\u001b[22m\u001b[0m\u001b[1mo\u001b[22m\u001b[0m\u001b[1mm\u001b[22m\u001b[0m\u001b[1mp\u001b[22mile \u001b[0m\u001b[1mp\u001b[22me\u001b[0m\u001b[1mr\u001b[22mmut\u001b[0m\u001b[1me\u001b[22m! __\u001b[0m\u001b[1mp\u001b[22m\u001b[0m\u001b[1mr\u001b[22m\u001b[0m\u001b[1me\u001b[22m\u001b[0m\u001b[1mc\u001b[22m\u001b[0m\u001b[1mo\u001b[22m\u001b[0m\u001b[1mm\u001b[22m\u001b[0m\u001b[1mp\u001b[22mile__ \u001b[0m\u001b[1mp\u001b[22m\u001b[0m\u001b[1mr\u001b[22momot\u001b[0m\u001b[1me\u001b[22m\n",
      "\n"
     ]
    },
    {
     "data": {
      "text/latex": [
       "No documentation found for public symbol.\n",
       "\n",
       "\\texttt{Main.QuantumTrajectories.precompute!} is a \\texttt{Function}.\n",
       "\n",
       "\\begin{verbatim}\n",
       "# 1 method for generic function \"precompute!\" from Main.QuantumTrajectories:\n",
       " [1] precompute!(J::Matrix{ComplexF64}, Heff::Matrix{ComplexF64}, nsamples::Int64, multiplier::Float64, ts::Vector{Float64}, Qs::Vector{Matrix{ComplexF64}})\n",
       "     @ ~/Documents/Research/MonitoringMetrology/GillipsieAlgorithm/src/functions.jl:7\n",
       "\\end{verbatim}\n"
      ],
      "text/markdown": [
       "No documentation found for public symbol.\n",
       "\n",
       "`Main.QuantumTrajectories.precompute!` is a `Function`.\n",
       "\n",
       "```\n",
       "# 1 method for generic function \"precompute!\" from Main.QuantumTrajectories:\n",
       " [1] precompute!(J::Matrix{ComplexF64}, Heff::Matrix{ComplexF64}, nsamples::Int64, multiplier::Float64, ts::Vector{Float64}, Qs::Vector{Matrix{ComplexF64}})\n",
       "     @ ~/Documents/Research/MonitoringMetrology/GillipsieAlgorithm/src/functions.jl:7\n",
       "```\n"
      ],
      "text/plain": [
       "  No documentation found for public symbol.\n",
       "\n",
       "  \u001b[36mMain.QuantumTrajectories.precompute!\u001b[39m is a \u001b[36mFunction\u001b[39m.\n",
       "\n",
       "\u001b[36m  # 1 method for generic function \"precompute!\" from Main.QuantumTrajectories:\u001b[39m\n",
       "\u001b[36m   [1] precompute!(J::Matrix{ComplexF64}, Heff::Matrix{ComplexF64}, nsamples::Int64, multiplier::Float64, ts::Vector{Float64}, Qs::Vector{Matrix{ComplexF64}})\u001b[39m\n",
       "\u001b[36m       @ ~/Documents/Research/MonitoringMetrology/GillipsieAlgorithm/src/functions.jl:7\u001b[39m"
      ]
     },
     "execution_count": 4,
     "metadata": {},
     "output_type": "execute_result"
    }
   ],
   "source": [
    "?precompute!"
   ]
  },
  {
   "cell_type": "code",
   "execution_count": 6,
   "id": "6c0d205d-26e9-475c-90f1-b43feafd11ac",
   "metadata": {},
   "outputs": [
    {
     "data": {
      "text/plain": [
       "SimulParameters(psi0=[0.0, 1.0]\n",
       "nsamples=10000\n",
       "seed=4\n",
       "ntraj=100)\n",
       "multiplier=1.0\n",
       "tf=10.0\n",
       "dt=0.001\n",
       "eps=0.001)"
      ]
     },
     "execution_count": 6,
     "metadata": {},
     "output_type": "execute_result"
    }
   ],
   "source": [
    "################### Qubit decay example ######################\n",
    "#### 1. Create the system instance\n",
    "gamma = 1\n",
    "sigma_m = [[0.0+0im, 0]  [1, 0]]\n",
    "sys = System( zeros(ComplexF64, 2, 2), # Hamiltonian\n",
    "    [sqrt(gamma)*sigma_m ]) #Jump Operators\n",
    "#### 2. Create the simulation parameters instance\n",
    "psi0 = zeros(ComplexF64, 2)\n",
    "psi0[2] = 1 # Initial condition\n",
    "simulparams = SimulParameters(psi0,\n",
    "    10.0, # Final time. Set very long so that all trajectories jump\n",
    "    4, # seed\n",
    "    100, # Number of trajectories\n",
    "    10_000, # Number of samples in the finegrid\n",
    "    1, # Multiplier to use in the fine grid\n",
    "    1e-3 # Tolerance for passing WTD normalziation\n",
    ") \n",
    "### 3. Run a single trajectory\n",
    "#data = run_single_trajectory(sys, simulparams)"
   ]
  },
  {
   "cell_type": "code",
   "execution_count": 8,
   "id": "018564e6-d931-40ca-a0ac-171d5253b126",
   "metadata": {},
   "outputs": [
    {
     "data": {
      "text/plain": [
       "10000-element LinRange{Float64, Int64}:\n",
       " 0.0, 0.0010001, 0.0020002, 0.0030003, …, 9.996, 9.997, 9.998, 9.999, 10.0"
      ]
     },
     "execution_count": 8,
     "metadata": {},
     "output_type": "execute_result"
    }
   ],
   "source": [
    "# Stuff for the precomputing \n",
    "Qs = Vector{Matrix{ComplexF64}}(undef, simulparams.nsamples)\n",
    "ts = LinRange(0, simulparams.tf, simulparams.nsamples)"
   ]
  },
  {
   "cell_type": "code",
   "execution_count": 9,
   "id": "03a0c4ea-3c62-454f-b572-39a5f02b3482",
   "metadata": {},
   "outputs": [
    {
     "ename": "LoadError",
     "evalue": "MethodError: no method matching precompute!(::Matrix{ComplexF64}, ::Matrix{ComplexF64}, ::Int64, ::Float64, ::LinRange{Float64, Int64}, ::Vector{Matrix{ComplexF64}})\nThe function `precompute!` exists, but no method is defined for this combination of argument types.\n\n\u001b[0mClosest candidates are:\n\u001b[0m  precompute!(::Matrix{ComplexF64}, ::Matrix{ComplexF64}, ::Int64, ::Float64, \u001b[91m::Vector{Float64}\u001b[39m, ::Vector{Matrix{ComplexF64}})\n\u001b[0m\u001b[90m   @\u001b[39m \u001b[35mMain.QuantumTrajectories\u001b[39m \u001b[90m~/Documents/Research/MonitoringMetrology/GillipsieAlgorithm/src/\u001b[39m\u001b[90m\u001b[4mfunctions.jl:7\u001b[24m\u001b[39m\n",
     "output_type": "error",
     "traceback": [
      "MethodError: no method matching precompute!(::Matrix{ComplexF64}, ::Matrix{ComplexF64}, ::Int64, ::Float64, ::LinRange{Float64, Int64}, ::Vector{Matrix{ComplexF64}})\nThe function `precompute!` exists, but no method is defined for this combination of argument types.\n\n\u001b[0mClosest candidates are:\n\u001b[0m  precompute!(::Matrix{ComplexF64}, ::Matrix{ComplexF64}, ::Int64, ::Float64, \u001b[91m::Vector{Float64}\u001b[39m, ::Vector{Matrix{ComplexF64}})\n\u001b[0m\u001b[90m   @\u001b[39m \u001b[35mMain.QuantumTrajectories\u001b[39m \u001b[90m~/Documents/Research/MonitoringMetrology/GillipsieAlgorithm/src/\u001b[39m\u001b[90m\u001b[4mfunctions.jl:7\u001b[24m\u001b[39m\n",
      "",
      "Stacktrace:",
      " [1] top-level scope",
      "   @ In[9]:1"
     ]
    }
   ],
   "source": [
    "precompute!(sys.J, sys.Heff, \n",
    "    simulparams.nsamples, simulparams.multiplier, \n",
    "    ts, Qs)"
   ]
  },
  {
   "cell_type": "code",
   "execution_count": null,
   "id": "a1509b37-8572-441b-b578-0c4c26525258",
   "metadata": {},
   "outputs": [],
   "source": [
    "# "
   ]
  }
 ],
 "metadata": {
  "kernelspec": {
   "display_name": "Julia 1.11.1",
   "language": "julia",
   "name": "julia-1.11"
  },
  "language_info": {
   "file_extension": ".jl",
   "mimetype": "application/julia",
   "name": "julia",
   "version": "1.11.1"
  }
 },
 "nbformat": 4,
 "nbformat_minor": 5
}
