{
 "cells": [
  {
   "cell_type": "code",
   "execution_count": 1,
   "id": "d211e633-d6c2-47f1-a38c-a7a9f97c7807",
   "metadata": {},
   "outputs": [],
   "source": [
    "using LinearAlgebra\n",
    "using Plots\n",
    "import StatsBase\n",
    "include(\"src/Trajectories.jl\")\n",
    "using .QuTaM"
   ]
  },
  {
   "cell_type": "code",
   "execution_count": 28,
   "id": "d4e53db7-3427-4b02-b68e-43bae5546977",
   "metadata": {},
   "outputs": [
    {
     "data": {
      "text/plain": [
       "SimulParameters(psi0=ComplexF64[0.0 + 0.0im, 1.0 + 0.0im]\n",
       "nsamples=3000\n",
       "seed=1\n",
       "ntraj=20)\n",
       "multiplier=3.0\n",
       "tf=0.0001\n",
       "dt=1.0000000000000001e-7\n",
       "eps=0.001)"
      ]
     },
     "execution_count": 28,
     "metadata": {},
     "output_type": "execute_result"
    }
   ],
   "source": [
    "psi0 = zeros(ComplexF64, 2)\n",
    "psi0[2] = 1 # Initial condition\n",
    "sys = System(QuTaM.rd_H, # Hamiltonian\n",
    "[sqrt(QuTaM.rd_gamma)*QuTaM.sigma_m]) #Jump Operators\n",
    "params = SimulParameters(psi0,\n",
    "    1e-4, # Final time. Set very long so that all trajectories jump\n",
    "    1, # seed\n",
    "    20, # Number of trajectories\n",
    "    3_000, # Number of samples in the finegrid\n",
    "    3, # Multiplier to use in the fine grid\n",
    "    1e-3 # Tolerance for passing Dark state test\n",
    ")"
   ]
  },
  {
   "cell_type": "code",
   "execution_count": 29,
   "id": "e83cfea8-4dbd-4c58-8e8d-2d57a0de108a",
   "metadata": {},
   "outputs": [
    {
     "data": {
      "text/plain": [
       "0.0001"
      ]
     },
     "execution_count": 29,
     "metadata": {},
     "output_type": "execute_result"
    }
   ],
   "source": [
    "params.tf"
   ]
  },
  {
   "cell_type": "code",
   "execution_count": 30,
   "id": "fd6da85f-54d4-4b4c-a041-fff6914d45cf",
   "metadata": {},
   "outputs": [
    {
     "data": {
      "text/plain": [
       "20-element Vector{Vector{Main.QuTaM.DetectionClick}}:\n",
       " []\n",
       " []\n",
       " []\n",
       " []\n",
       " []\n",
       " []\n",
       " []\n",
       " []\n",
       " []\n",
       " []\n",
       " []\n",
       " []\n",
       " []\n",
       " []\n",
       " []\n",
       " []\n",
       " []\n",
       " []\n",
       " []\n",
       " []"
      ]
     },
     "execution_count": 30,
     "metadata": {},
     "output_type": "execute_result"
    }
   ],
   "source": [
    "QuTaM.run_trajectories(sys, params)"
   ]
  },
  {
   "cell_type": "code",
   "execution_count": 31,
   "id": "08f16c37-b61d-4f45-a98c-4625663c6c5a",
   "metadata": {},
   "outputs": [
    {
     "data": {
      "text/plain": [
       "Main.QuTaM.DetectionClick[]"
      ]
     },
     "execution_count": 31,
     "metadata": {},
     "output_type": "execute_result"
    }
   ],
   "source": [
    "data = QuTaM.sample_single_trajectory(sys, params, 4)"
   ]
  },
  {
   "cell_type": "code",
   "execution_count": 33,
   "id": "57abe973-14f6-4d3a-9e8c-c5f2d4250cf9",
   "metadata": {},
   "outputs": [
    {
     "data": {
      "text/plain": [
       "true"
      ]
     },
     "execution_count": 33,
     "metadata": {},
     "output_type": "execute_result"
    }
   ],
   "source": [
    "isempty(data)"
   ]
  },
  {
   "cell_type": "code",
   "execution_count": 32,
   "id": "14980a73-c6da-4f4b-8a99-b83a78415bf5",
   "metadata": {
    "scrolled": true
   },
   "outputs": [
    {
     "data": {
      "text/plain": [
       "Vector{ComplexF64}[]"
      ]
     },
     "execution_count": 32,
     "metadata": {},
     "output_type": "execute_result"
    }
   ],
   "source": [
    "states = QuTaM.states_at_jumps(data, sys, params.psi0)"
   ]
  }
 ],
 "metadata": {
  "kernelspec": {
   "display_name": "Julia 1.11.2",
   "language": "julia",
   "name": "julia-1.11"
  },
  "language_info": {
   "file_extension": ".jl",
   "mimetype": "application/julia",
   "name": "julia",
   "version": "1.11.2"
  }
 },
 "nbformat": 4,
 "nbformat_minor": 5
}
